{
 "cells": [
  {
   "cell_type": "markdown",
   "id": "b0ba3c3b",
   "metadata": {},
   "source": [
    "# 1. Problema da Aula\n",
    "Alínea c) do exercício 1 da TP4."
   ]
  },
  {
   "cell_type": "code",
   "execution_count": 8,
   "id": "5cb26326",
   "metadata": {},
   "outputs": [],
   "source": [
    "import numpy as np\n",
    "import matplotlib.pylab as plt"
   ]
  },
  {
   "cell_type": "code",
   "execution_count": 9,
   "id": "620fed9f",
   "metadata": {},
   "outputs": [],
   "source": [
    "def lei_a(t):\n",
    "    if t <= 6:\n",
    "        return 3\n",
    "    else:\n",
    "        return -t + 9"
   ]
  },
  {
   "cell_type": "code",
   "execution_count": 10,
   "id": "1cfae5a4",
   "metadata": {},
   "outputs": [],
   "source": [
    "dt = 0.01\n",
    "tempos = np.arange(0, 9, dt)"
   ]
  },
  {
   "cell_type": "code",
   "execution_count": 12,
   "id": "5c1e58b0",
   "metadata": {},
   "outputs": [],
   "source": [
    "at = np.array([lei_a(t) for t in tempos])"
   ]
  },
  {
   "cell_type": "code",
   "execution_count": 13,
   "id": "a46968fa",
   "metadata": {},
   "outputs": [],
   "source": [
    "xt, vt = [], []\n",
    "current_x, current_v = 0, 0\n",
    "\n",
    "for a in at:\n",
    "    current_x += current_v * dt + 0.5 * a * dt**2\n",
    "    xt += [current_x]\n",
    "    \n",
    "    current_v += a * dt\n",
    "    vt += [current_v]\n",
    "\n",
    "xt = np.array(xt)\n",
    "vt = np.array(vt)\n",
    "\n",
    "int_vt = -(tempos**2 / 2) + 9 * tempos - 18"
   ]
  },
  {
   "cell_type": "code",
   "execution_count": 14,
   "id": "e1181eb1",
   "metadata": {},
   "outputs": [
    {
     "data": {
      "text/plain": [
       "[<matplotlib.lines.Line2D at 0x18f689f8520>]"
      ]
     },
     "execution_count": 14,
     "metadata": {},
     "output_type": "execute_result"
    },
    {
     "data": {
      "image/png": "[encoded data removed]",
      "text/plain": [
       "<Figure size 432x288 with 1 Axes>"
      ]
     },
     "metadata": {
      "needs_background": "light"
     },
     "output_type": "display_data"
    }
   ],
   "source": [
    "plt.plot(tempos, vt)\n",
    "# plt.plot(tempos, int_vt)"
   ]
  },
  {
   "cell_type": "code",
   "execution_count": 15,
   "id": "6cfce724",
   "metadata": {},
   "outputs": [
    {
     "data": {
      "text/plain": [
       "[<matplotlib.lines.Line2D at 0x18f69164be0>]"
      ]
     },
     "execution_count": 15,
     "metadata": {},
     "output_type": "execute_result"
    },
    {
     "data": {
      "image/png": "[encoded data removed]",
      "text/plain": [
       "<Figure size 432x288 with 1 Axes>"
      ]
     },
     "metadata": {
      "needs_background": "light"
     },
     "output_type": "display_data"
    }
   ],
   "source": [
    "plt.plot(tempos, xt)"
   ]
  },
  {
   "cell_type": "code",
   "execution_count": 16,
   "id": "b3533fe8",
   "metadata": {},
   "outputs": [
    {
     "data": {
      "text/plain": [
       "117.02247499999955"
      ]
     },
     "execution_count": 16,
     "metadata": {},
     "output_type": "execute_result"
    }
   ],
   "source": [
    "xt[-1]"
   ]
  },
  {
   "cell_type": "code",
   "execution_count": null,
   "id": "767c0d16",
   "metadata": {},
   "outputs": [],
   "source": [
    "# 2. Equações Paramétricas\n",
    "\n",
    "Vamos confirmar o resultado da alínea 2.1 d) usando python!"
   ]
  },
  {
   "cell_type": "markdown",
   "id": "fee621d8",
   "metadata": {},
   "source": [
    "# 3. Problema de Avaliação\n",
    "\n",
    "Visualização dos gráficos resultantes do Problema de Avaliação:"
   ]
  },
  {
   "cell_type": "code",
   "execution_count": 24,
   "id": "4ea5afa0",
   "metadata": {},
   "outputs": [],
   "source": [
    "times = np.linspace(0, 2 * 3.2e07, 1000)"
   ]
  },
  {
   "cell_type": "code",
   "execution_count": 25,
   "id": "c4df9037",
   "metadata": {},
   "outputs": [],
   "source": [
    "k = 3.2e07\n",
    "def lei_x(t):\n",
    "    global k\n",
    "    \n",
    "    if t <= k:\n",
    "        return t**2 / 2 - t**3 / (6*k)\n",
    "    else:\n",
    "        return (t * k) / 2 - k**2 / 6"
   ]
  },
  {
   "cell_type": "code",
   "execution_count": 26,
   "id": "6f284b15",
   "metadata": {},
   "outputs": [],
   "source": [
    "xx = np.array([lei_x(t) for t in times])"
   ]
  },
  {
   "cell_type": "code",
   "execution_count": 28,
   "id": "c4377ba5",
   "metadata": {},
   "outputs": [
    {
     "data": {
      "text/plain": [
       "[<matplotlib.lines.Line2D at 0x18f692a0130>]"
      ]
     },
     "execution_count": 28,
     "metadata": {},
     "output_type": "execute_result"
    },
    {
     "data": {
      "image/png": "[encoded data removed]",
      "text/plain": [
       "<Figure size 432x288 with 1 Axes>"
      ]
     },
     "metadata": {
      "needs_background": "light"
     },
     "output_type": "display_data"
    }
   ],
   "source": [
    "plt.plot(times / k, xx)"
   ]
  },
  {
   "cell_type": "code",
   "execution_count": null,
   "id": "6d0b8bab",
   "metadata": {},
   "outputs": [],
   "source": []
  }
 ],
 "metadata": {
  "kernelspec": {
   "display_name": "Python 3",
   "language": "python",
   "name": "python3"
  },
  "language_info": {
   "codemirror_mode": {
    "name": "ipython",
    "version": 3
   },
   "file_extension": ".py",
   "mimetype": "text/x-python",
   "name": "python",
   "nbconvert_exporter": "python",
   "pygments_lexer": "ipython3",
   "version": "3.8.8"
  }
 },
 "nbformat": 4,
 "nbformat_minor": 5
}
