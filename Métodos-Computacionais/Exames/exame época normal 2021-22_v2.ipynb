{
 "cells": [
  {
   "cell_type": "markdown",
   "metadata": {},
   "source": [
    "# Métodos Computacionais em Engenharia (FIS3022)\n",
    "## Exame da época normal  (21 de Junho de 2022)"
   ]
  },
  {
   "cell_type": "markdown",
   "metadata": {},
   "source": [
    "Devem responder às questões no próprio notebook, que devem gravar com um nome que inclua o vosso nome (primeiro e último) e número mecanográfico.  O notebook resultante deve, no mínimo, correr sem alterações, produzindo todos os resultados pedidos. Não usem módulos não-standard (se eu não tiver, não corre, nota é zero). Podem/devem também fazer comentários no notebook. Os códigos devem ser profusamente comentados.\n",
    "\n",
    "Podem consultar os notebooks das aulas, bem como procurar ajuda sobre comandos python. Buscas sobre o tema do problema **NÃO** são permitidas, e se o fizerem a prova será anulada. O mesmo acontece se o código tiver evidentes parecenças com códigos publicados na Web.\n"
   ]
  },
  {
   "cell_type": "raw",
   "metadata": {},
   "source": []
  },
  {
   "cell_type": "markdown",
   "metadata": {},
   "source": [
    "### Descrição do problema\n",
    "Um médico administra uma injecção intramuscular a um paciente com uma reacção alérgica severa. A injecção demora um total de $T=5\\textrm{ s}$ a ser administrada.  Considere que quando termina a aplicação o produto químico se espalhou por uma distância de $2.5\\textrm{ cm}$ (consideramos o problema a 1d), com uma concentração inicial $C_0$ (que supomos constante).\n",
    " Seja a difusividade do medicamento $D=0.0075\\textrm{ m}^2/\\textrm{s}^{-1}$. Pretendemos determinar a concentração do medicamento no músculo, $75\\textrm{ s}$ mais tarde."
   ]
  },
  {
   "cell_type": "markdown",
   "metadata": {},
   "source": [
    "a) Vamos supôr a veia um domínio unidimensional. Escreva a equação que descreve a evolução da concentração, $C(x,t)$, no tempo e no espaço. Adimencionalize (ou escolha unidades apropriadas) de modo a que não tenha que usar números grandes ou pequenos nos seus cálculos."
   ]
  },
  {
   "cell_type": "code",
   "execution_count": null,
   "metadata": {},
   "outputs": [],
   "source": []
  },
  {
   "cell_type": "markdown",
   "metadata": {},
   "source": [
    "b) Discretize a sua equação, usando um dos 3 métodos seguintes, à sua escolha.\n",
    " - explícito;\n",
    " - Crank-Nicolson;\n",
    " - pseudo-espectral.\n",
    "Justifique a escolha, indicando quais as vantagens, desvantagens, e problemas potenciais que deve ter em conta na sua implementação e, sobretudo, no uso que vai fazer do método (pode incluir aqui argumentos baseados na resolução da alínea d))."
   ]
  },
  {
   "cell_type": "code",
   "execution_count": null,
   "metadata": {},
   "outputs": [],
   "source": []
  },
  {
   "cell_type": "markdown",
   "metadata": {},
   "source": [
    "c) Escreva as condições iniciais e condições fronteira necessárias para descrever completamente o seu problema. As condições fronteira devem ser apropriadas ao problema que queremos resolver. (Se escolher condições fronteira fisicamente inapropriadas, e que lhe facilitem a implementação do método nas alíneas seguintes, será penalizado nesta alínea e de novo nas seguintes!)"
   ]
  },
  {
   "cell_type": "code",
   "execution_count": null,
   "metadata": {},
   "outputs": [],
   "source": []
  },
  {
   "cell_type": "markdown",
   "metadata": {},
   "source": [
    "d) Faça uma análise da estabilidade de von Neumann do esquema que escolheu, expressa à custa do parâmetro $s\\equiv D\\Delta t/(\\Delta x)^2$ (nesta definição a grandeza é a que aparece na sua equação escalada). Não precisa levar os seus cálculos \"até ao fim\", mas deve apresentar uma condição apropriada, só com os termos essenciais."
   ]
  },
  {
   "cell_type": "code",
   "execution_count": null,
   "metadata": {},
   "outputs": [],
   "source": []
  },
  {
   "cell_type": "markdown",
   "metadata": {},
   "source": [
    "e) Escreva um programa com o método escolhido em b) que lhe permita determinar a concentração em função da posição e do tempo. Apresente um gráfico que permita ver a distribuição da concentração de medicamento **em unidades reais** no instante $75\\textrm{ s}$ após terminar a injecção. Indique a concentação nesse instante num ponto $10\\textrm{ cm}$ daquele em que teve lugar a injeção."
   ]
  },
  {
   "cell_type": "code",
   "execution_count": null,
   "metadata": {},
   "outputs": [],
   "source": []
  },
  {
   "cell_type": "markdown",
   "metadata": {},
   "source": [
    "f) Possívelmente usou nas alíneas anteriores o _stencil_ de 5 pontos para descretizar o laplaciano, como fizémos nas aulas. Se pretendermos uma aproximação melhor, podemos usar a descretização do laplaciano com uma fórmula de 9 pontos em vez de 5. Uma possibilidade é: \n",
    "$$\\nabla^2u\\approx \\frac{-20u_{i,j} + 4u_{i+1,j} + 4u_{i-1,j} + 4u_{i,j+1} + 4u_{i,j-1} + u_{i+1,j+1} + u_{i−1,j-1} + u_{i+1,j-1} + u_{i-1,j+1}}{6h^2},$$\n",
    "\n",
    "que dá uma precisão $\\mathcal{O}(h^4)$. No caso de usar um método de diferenças finitas, como se altera a matriz dos coeficientes? Escreva o comando para produzir os elementos apropriados usando o comando _spdiags_."
   ]
  },
  {
   "cell_type": "code",
   "execution_count": null,
   "metadata": {},
   "outputs": [],
   "source": []
  }
 ],
 "metadata": {
  "kernelspec": {
   "display_name": "Python 3 (ipykernel)",
   "language": "python",
   "name": "python3"
  },
  "language_info": {
   "codemirror_mode": {
    "name": "ipython",
    "version": 3
   },
   "file_extension": ".py",
   "mimetype": "text/x-python",
   "name": "python",
   "nbconvert_exporter": "python",
   "pygments_lexer": "ipython3",
   "version": "3.8.12"
  }
 },
 "nbformat": 4,
 "nbformat_minor": 4
}
