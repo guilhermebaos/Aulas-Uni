{
 "cells": [
  {
   "cell_type": "markdown",
   "metadata": {},
   "source": [
    "# (F4023 Métodos Computacionais em Engenharia)\n",
    "## Exame da época normal \n",
    "### 9 de Junho de 2023 (3h de duração)\n",
    "\n",
    "A cotação de cada alínea aparece no início do respectivo enunciado, na escala de 100%."
   ]
  },
  {
   "cell_type": "markdown",
   "metadata": {},
   "source": [
    "### Descrição do problema\n",
    "\n",
    "Queremos considerar um universo com apenas 2 dimensões espaciais. Neste, existe um planeta que solidificou demasiado depressa para ser homogéneo. No centro, no que podemos chamar um núcleo, formou-se uma região com aproximadamente a forma de uma rosa de 3 pétalas, constituída por ferro (densidade na Terra $\\rho_{Fe}=7,87 \\text{kg/m}^3$). O restante planeta é constituído por silício (densidade na Terra $\\rho_{Si}=2,33 \\text{kg/m}^3$), formando uma espécie de manto, até à superfície. O planeta tem massa $M$ e raio $R$. \n",
    "\n",
    "<img src=\"ex_normal1.png\" alt=\"drawing\" width=\"250\"/>\n",
    "\n",
    "A fronteira entre núcleo e manto é descrita pela curva polar $ r = R(0.3 + 0.2\\cos(3\\theta))$ (a verde na figura). (A área no interior da curva é de $3\\pi R^2/10 $)\n",
    "\n",
    "Pretendemos determinar a aceleração da gravidade a uma altitude de $R/2$, nas direcções $0^o$, $90^o$ e $180^o$, e a uma profundidade de $R/5$, nas mesmas direcções.\n",
    "\n",
    "Dados: $G=6.67\\times10^{-11} \\text{m}^3\\text{kg}^{-1}\\text{s}^{-2}$; tome $R=5000\\text{km}$."
   ]
  },
  {
   "cell_type": "markdown",
   "metadata": {},
   "source": [
    "#### Perguntas"
   ]
  },
  {
   "cell_type": "markdown",
   "metadata": {},
   "source": [
    "a) [20] Escreva as equações que precisa resolver, em unidades físicas. Deve usar um dos tipos de equação que estudamos na UC. Lembre-se que em 2D a lei de atração universal tem uma forma diferente de em 3D! Mas a lei de Gauss (e outras que podemos derivar daí) é igual.\n",
    "\n",
    "De seguida escale as equações de modo a ter grandezas adimensionais, de ordem unitária."
   ]
  },
  {
   "cell_type": "markdown",
   "metadata": {},
   "source": []
  },
  {
   "cell_type": "markdown",
   "metadata": {},
   "source": [
    "b) [40] Escreva um código que lhe permita obter esse valor. Use um método numérico à sua escolha (desde que apropriado!), comentando méritos e deméritos relativamente a outras hipóteses. Tenha atenção às condições fronteira a usar e comente a sua escolha, e a influência dessa escolha no resultado obtido."
   ]
  },
  {
   "cell_type": "code",
   "execution_count": null,
   "metadata": {},
   "outputs": [],
   "source": []
  },
  {
   "cell_type": "markdown",
   "metadata": {},
   "source": [
    "c) [15] Determine a grandeza pretendida, $\\vec{g}$, nos diferentes pontos pedidos."
   ]
  },
  {
   "cell_type": "code",
   "execution_count": null,
   "metadata": {},
   "outputs": [],
   "source": []
  },
  {
   "cell_type": "markdown",
   "metadata": {},
   "source": [
    "d) [15] Indique alterações que pode fazer para melhorar o resultado numérico, justificando. "
   ]
  },
  {
   "cell_type": "markdown",
   "metadata": {},
   "source": []
  },
  {
   "cell_type": "markdown",
   "metadata": {},
   "source": [
    "e) [10] Se pretendermos uma aproximação melhor, podemos usar a discretização do laplaciano com uma fórmula de 9 pontos em vez de 5. Uma possibilidade é:\n",
    "$$\\nabla^2u\\approx \\frac{-20u_{i,j} + 4u_{i+1,j} + 4u_{i-1,j} + 4u_{i,j+1} + 4u_{i,j-1} + u_{i+1,j+1} + u_{i−1,j-1} + u_{i+1,j-1} + u_{i-1,j+1}}{6h^2},$$\n",
    "\n",
    "que dá uma precisão $\\mathcal{O}(h^4)$.\n",
    "No caso de usar um método de diferenças finitas, como se altera a matriz dos coeficientes? Escreva o comando para produzir os elementos apropriados usando o comando _spdiags_."
   ]
  },
  {
   "cell_type": "code",
   "execution_count": null,
   "metadata": {},
   "outputs": [],
   "source": []
  }
 ],
 "metadata": {
  "kernelspec": {
   "display_name": "Python 3 (ipykernel)",
   "language": "python",
   "name": "python3"
  },
  "language_info": {
   "codemirror_mode": {
    "name": "ipython",
    "version": 3
   },
   "file_extension": ".py",
   "mimetype": "text/x-python",
   "name": "python",
   "nbconvert_exporter": "python",
   "pygments_lexer": "ipython3",
   "version": "3.9.12"
  },
  "latex_envs": {
   "LaTeX_envs_menu_present": true,
   "autoclose": false,
   "autocomplete": true,
   "bibliofile": "biblio.bib",
   "cite_by": "apalike",
   "current_citInitial": 1,
   "eqLabelWithNumbers": true,
   "eqNumInitial": 1,
   "hotkeys": {
    "equation": "Ctrl-E",
    "itemize": "Ctrl-I"
   },
   "labels_anchors": false,
   "latex_user_defs": false,
   "report_style_numbering": false,
   "user_envs_cfg": false
  }
 },
 "nbformat": 4,
 "nbformat_minor": 2
}
