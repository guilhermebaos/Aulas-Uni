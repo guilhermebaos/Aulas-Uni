{
 "cells": [
  {
   "cell_type": "markdown",
   "metadata": {},
   "source": [
    "# Métodos Computacionais em Engenharia (FIS3022)\n",
    "## Exame da época de recurso  \n",
    "### 27 de Junho de 2023 (3h de duração)\n",
    "\n",
    "A cotação de cada alínea aparece no início do respectivo enunciado, na escala de 100%."
   ]
  },
  {
   "cell_type": "markdown",
   "metadata": {},
   "source": [
    "Devem responder às questões no próprio notebook, que devem gravar com um nome que inclua o vosso nome (primeiro e último) e número mecanográfico.  O notebook resultante deve, no mínimo, correr sem alterações, produzindo todos os resultados pedidos. Não usem módulos não-standard (se eu não tiver, não corre, nota é zero). Podem/devem também fazer comentários no notebook. Os códigos devem ser profusamente comentados.\n",
    "\n",
    "Podem consultar os notebooks das aulas, bem como procurar ajuda sobre comandos python. Buscas sobre o tema do problema **NÃO** são permitidas, e se o fizerem a prova será anulada. O mesmo acontece se o código tiver evidentes parecenças com códigos publicados na Web.\n",
    "\n",
    "O uso de qualquer meio auxiliar, físico ou electrónico, ou contacto com colegas, na sala ou fora, é estritamente proibido, e implica a anulação da prova. Smartphones e smartwatches não podem ser usados e têm que estar desligados."
   ]
  },
  {
   "cell_type": "markdown",
   "metadata": {},
   "source": [
    "### Descrição do problema\n",
    "\n",
    "Queremos estudar numericamente a propagação de ondas numa corda não uniforme. A nossa corda é constituída por duas metades, uma com densidade $\\rho_1=1.4 \\times 10^{3}\\text{kg/m}$, a segunda com densidade $\\rho_2=3.1 \\times 10^{3}\\text{kg/m}.$\n",
    "\n",
    "A perturbação incidente deverá ser aplicada na extremidade esquerda do domínio, e ter uma variação temporal da forma:\n",
    "$$  U =  A (1 - (t/a)^2)  \\exp(-0.5(t/a)^2),\\,\\,$$\n",
    "\n",
    "com o factor de normalização $A = 2/(\\sqrt{3a}(\\pi^{0.25}))$,\n",
    "e $a$ é um factor de escala, relacionado com o período aparente por $a=T/(\\sqrt{2}\\pi )$. \n",
    "\n",
    "Pode usar a função _scipy.signal.ricker_.\n"
   ]
  },
  {
   "cell_type": "markdown",
   "metadata": {},
   "source": [
    "#### Perguntas"
   ]
  },
  {
   "cell_type": "markdown",
   "metadata": {},
   "source": [
    "a) [10] O deslocamento transversal $y$ numa corda homogénea de comprimento $L$ é descrita pela equação:\n",
    "\n",
    "$$ \\frac{\\partial^2 y}{\\partial T^2} = c^2 \\frac{\\partial^2 y}{\\partial X^2},$$\n",
    "\n",
    "onde $v$ é a velocidade de propagação, dada por $v=\\sqrt{T/\\rho}$.\n",
    "\n",
    "Mostre que esta equação pode ser reduzida a uma forma adimensional\n",
    "$$ \\frac{\\partial^2 u}{\\partial t^2} =  \\frac{\\partial^2 u}{\\partial x^2} \\;\\;\\; 0\\le x \\le 1, \\tag{1}\n",
    "$$\n",
    "com $x\\equiv X/L$, e escalonamentos apropriados para $y$ e $T$, que deve determinar. "
   ]
  },
  {
   "cell_type": "code",
   "execution_count": null,
   "metadata": {},
   "outputs": [],
   "source": []
  },
  {
   "cell_type": "markdown",
   "metadata": {},
   "source": [
    "b) [20] Queremos usar um método **implícito** para resolver numericamente o problema. Considere o esquema para aproximar a equação (1) no ponto $(i\\Delta x, k\\Delta t)$:\n",
    "$$\\frac{1}{(\\Delta t)^2}\\delta_t^2 u_i^k = \\frac{1}{(\\Delta x)^2}\\Biggl(\n",
    "\\frac{1}{4} \\delta_t^2 u_i^{k+1} + \\frac{1}{2} \\delta_t^2 u_i^{k} + \\frac{1}{4} \\delta_t^2 u_i^{k-1}\n",
    "\\Biggr),\n",
    "$$\n",
    "onde $\\delta_t^2 u_i^k$ representa o operador de diferenças centrais de segunda ordem no tempo no ponto $(i,k)$, e analogamente para os operadores no espaço $\\delta_x^2$.\n",
    "\n",
    "Usando o método de análise de von Neumann, mostre que este método é incondicionalmente estável. Defina e use o coeficiente $r\\equiv (\\Delta t/ \\Delta x)$ nos seus cálculos."
   ]
  },
  {
   "cell_type": "markdown",
   "metadata": {},
   "source": [
    "c) [20] Determine a parte dominante do erro de truncagem local deste método no ponto $(i\\Delta x, k\\Delta t)$. Por outras palavras, queremos saber qual a equação às derivadas parciais mais aproximadamente estamos a simular com esta discretização."
   ]
  },
  {
   "cell_type": "code",
   "execution_count": null,
   "metadata": {},
   "outputs": [],
   "source": []
  },
  {
   "cell_type": "markdown",
   "metadata": {},
   "source": [
    "d) [10] Como vimos no curso com outros métodos para esta equação, neste caso o esquema não é aplicável no primeiro passo temporal (porquê?). Usando velocidade nula para a corda no instante inicial, determine uma fórmula alternativa para usar nesse primeiro passo. Justifique as suas escolhas."
   ]
  },
  {
   "cell_type": "code",
   "execution_count": null,
   "metadata": {},
   "outputs": [],
   "source": []
  },
  {
   "cell_type": "markdown",
   "metadata": {},
   "source": [
    "e) [25] Escreva um código que use o método implícito acima para propagar o sinal indicado na introdução, mas agora na corda inomogénea. Tome a primeira metade da corda como referência para a velocidade. Defina claramente as condições fronteira e as condições iniciais necessárias."
   ]
  },
  {
   "cell_type": "code",
   "execution_count": null,
   "metadata": {},
   "outputs": [],
   "source": []
  },
  {
   "cell_type": "markdown",
   "metadata": {},
   "source": [
    "f) [15] Propague ondas de diferentes frequências e determine se a reflexão na descontinuidade entre cordas depende da frequência ou não."
   ]
  }
 ],
 "metadata": {
  "kernelspec": {
   "display_name": "Python 3 (ipykernel)",
   "language": "python",
   "name": "python3"
  },
  "language_info": {
   "codemirror_mode": {
    "name": "ipython",
    "version": 3
   },
   "file_extension": ".py",
   "mimetype": "text/x-python",
   "name": "python",
   "nbconvert_exporter": "python",
   "pygments_lexer": "ipython3",
   "version": "3.9.12"
  },
  "latex_envs": {
   "LaTeX_envs_menu_present": true,
   "autoclose": false,
   "autocomplete": true,
   "bibliofile": "biblio.bib",
   "cite_by": "apalike",
   "current_citInitial": 1,
   "eqLabelWithNumbers": true,
   "eqNumInitial": 1,
   "hotkeys": {
    "equation": "Ctrl-E",
    "itemize": "Ctrl-I"
   },
   "labels_anchors": false,
   "latex_user_defs": false,
   "report_style_numbering": false,
   "user_envs_cfg": false
  }
 },
 "nbformat": 4,
 "nbformat_minor": 4
}
