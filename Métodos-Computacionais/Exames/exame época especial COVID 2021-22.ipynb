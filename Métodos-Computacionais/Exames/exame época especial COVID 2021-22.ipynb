{
 "cells": [
  {
   "cell_type": "markdown",
   "metadata": {},
   "source": [
    "# Métodos Computacionais em Engenharia (FIS3022)\n",
    "## Exame da época especial COVID  (5 de Setembro de 2022)"
   ]
  },
  {
   "cell_type": "markdown",
   "metadata": {},
   "source": [
    "Devem responder às questões no próprio notebook, que devem gravar com um nome que inclua o vosso nome (primeiro e último) e número mecanográfico.  O notebook resultante deve, no mínimo, correr sem alterações, produzindo todos os resultados pedidos. Não usem módulos não-standard (se eu não tiver, não corre, nota é zero). Podem/devem também fazer comentários no notebook. Os códigos devem ser profusamente comentados.\n",
    "\n",
    "Podem consultar os notebooks das aulas, bem como procurar ajuda sobre comandos python. Buscas sobre o tema do problema **NÃO** são permitidas, e se o fizerem a prova será anulada. O mesmo acontece se o código tiver evidentes parecenças com códigos publicados na Web."
   ]
  },
  {
   "cell_type": "markdown",
   "metadata": {},
   "source": [
    "### Descrição do problema\n",
    "Os modos vibracionais de uma molécula diatómica podem ser bem aproximados considerando que a interacção entre as duas moléculas corresponde a um potencial harmónico.\n",
    "Seja o caso da molécula de cloreto de hidrogénio (ácido clorídrico), HCl. Como o ião de cloro é 35 vezes mais pesado que o de hidrogénio, podemos considerar que está estacionário na origem, e que é o ião de hidrogénio que se move no poço de potencial que descreve a interacção entre os dois iões. \n",
    "\n",
    "Vamos considerar um caso de movimento a uma dimensão. A massa do protão é $m_p=1.67 \\times10^{-27}\\textrm{kg}$, e experimentalmente sabe-se que a energia do modo vibracional mais baixo desta molécula é $f=8.88\\times10^{13}\\textrm{Hz}$.($h=6.626\\times10^{-34}\\textrm{J.s}$)\n",
    "\n",
    "Por outro lado, sabe-se da Mecânica Quântica que os modos próprios de um oscilador harmónico de frequência $\\omega$ são dados por:\n",
    "$$ \\psi_n (x) = \\frac{1}{\\sqrt{2^n n!}}\\Big(\\frac{m\\omega}{\\pi\\hbar}\\Big)^{1/4}\\exp\\Big(-\\frac{m\\omega x^2}{2\\hbar}\\Big)H_n\\Big(\\sqrt{\\frac{m\\omega}{\\hbar}}x\\Big),\n",
    "$$\n",
    "\n",
    "onde os $H_n(z)$ são os polinómios de Hermite de ordem $n$, dados por:\n",
    "$$H_n(z) = (-1)^n e^{z^2} \\frac{d^n}{dz^n}(e^{-z^2})\n",
    "$$ \n",
    "\n",
    "(os 3 primeiros são assim: $H_0(z)=1$, $H_1(z)=z$ e $H_2(z)=4z^2-2$. Também pode usar a função $\\texttt{scipy.special.hermite}$."
   ]
  },
  {
   "cell_type": "markdown",
   "metadata": {},
   "source": [
    "a) Adimensionalize a equação de Schrödinger dependente do tempo que descreve o sistema molécula de cloreto de hidrogénio. (sugestão: a energia, óbviamente, deve ser escalada por $\\hbar\\omega$; para o espaço, veja que combinação de grandezas tem dimensões de comprimento.)"
   ]
  },
  {
   "cell_type": "code",
   "execution_count": null,
   "metadata": {},
   "outputs": [],
   "source": []
  },
  {
   "cell_type": "markdown",
   "metadata": {},
   "source": [
    "b) Queremos usar o método de Crank-Nicolson para evoluir um pacote de ondas no tempo. Vimos que este método é estável, mas o método implícito também o é. Existe alguma razão para a escolha do método de Crank-Nicolson em vez do método implícito? Prove a sua afirmação."
   ]
  },
  {
   "cell_type": "code",
   "execution_count": null,
   "metadata": {},
   "outputs": [],
   "source": []
  },
  {
   "cell_type": "markdown",
   "metadata": {},
   "source": [
    "c) Escreva um código que lhe permita fazer a evolução do pacote de ondas inicial, usando, como referido acima, o método de Crank-Nicolson. Escolha as condições fronteira que vai usar, justificando devidamente. Introduza o potencial a usar via uma função escrita à parte. As matrizes que vai usar no método devem ser escritas com recurso às funcionalidades de matrizes esparsas do $\\texttt{numpy/scipy}$. "
   ]
  },
  {
   "cell_type": "code",
   "execution_count": null,
   "metadata": {},
   "outputs": [],
   "source": []
  },
  {
   "cell_type": "markdown",
   "metadata": {},
   "source": [
    "d) Com o código escrito, estude a evolução ao longo do tempo do momento dipolar eléctrico da molécula quando esta é preparada numa sobreposição dos estados $n=1$ e $n=2$. (recorde que o momento dipolar eléctrico de uma distribuição de carga $\\rho(x)$ é $\\mu = \\int x \\rho(x)dx$.)"
   ]
  }
 ],
 "metadata": {
  "kernelspec": {
   "display_name": "Python 3 (ipykernel)",
   "language": "python",
   "name": "python3"
  },
  "language_info": {
   "codemirror_mode": {
    "name": "ipython",
    "version": 3
   },
   "file_extension": ".py",
   "mimetype": "text/x-python",
   "name": "python",
   "nbconvert_exporter": "python",
   "pygments_lexer": "ipython3",
   "version": "3.8.12"
  },
  "latex_envs": {
   "LaTeX_envs_menu_present": true,
   "autoclose": false,
   "autocomplete": true,
   "bibliofile": "biblio.bib",
   "cite_by": "apalike",
   "current_citInitial": 1,
   "eqLabelWithNumbers": true,
   "eqNumInitial": 1,
   "hotkeys": {
    "equation": "Ctrl-E",
    "itemize": "Ctrl-I"
   },
   "labels_anchors": false,
   "latex_user_defs": false,
   "report_style_numbering": false,
   "user_envs_cfg": false
  }
 },
 "nbformat": 4,
 "nbformat_minor": 4
}
