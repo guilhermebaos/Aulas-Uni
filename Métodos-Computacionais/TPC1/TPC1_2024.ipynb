{
 "cells": [
  {
   "cell_type": "markdown",
   "id": "d9877382",
   "metadata": {},
   "source": [
    "### TPC1 MCE 2023-24"
   ]
  },
  {
   "cell_type": "markdown",
   "id": "a3dca097",
   "metadata": {},
   "source": [
    "As autoridades receberam uma chamada anónima a denunciar o Sr. Tomasino como o autor do assassínio do Sr. Jáeras, que teria ocorrido à mais de 15 anos. A alegada vítima foi cremada, pelo que já não é possível fazer uma autópsia. Na altura da morte do Sr. Jáeras pensou-se que tinha sofrido um acidente (talvez uma queda) que teria provocado danos cerebrais. Por razões que ficaram por apurar, os resultados da tomografia feita no hospital perderam-se. Uma busca aos arquivos apenas revelou um sinograma, mas que tinha sido feito por um estagiário, que por inexperiência tinha calibrado mal a máquina, do que resultou um sinal com demasiado ruído em cada projecção. Não se sabe também porque não foi feita autópsia. \n",
    "\n",
    "O Sr. Tomasino era uma pessoa influente, e hoje ainda o é mais. Como tal é possível que o seu sucesso seja a causa de muitas invejas, em particular dos seus opositores. Mas também há quem diga que não olha a meios para obter os seus objectivos, e que na altura desta morte o Sr. Tomasino estava envolvido em negócios escuros. Verdade? Maledicência?\n",
    "\n",
    "Como a chamada foi anónima a polícia não pode fazer uma acusação sem quaisquer indícios. Nem sequer podem provar que houve alguma infração ou crime.\n",
    "\n",
    "Será que os conseguimos ajudar? Foi-nos disponibilizado o sinograma que existe. Se tivesse sido bem construído, uma das nossas rotinas de retro-projecção faria isso facilmente. Mas no estado em que está, não se percebe quase nada. Uma possibilidade é usar os nossos conhecimentos de espectros e tentar retirar o ruído, fazendo depois a retro-projecção.\n",
    "\n",
    "Deixo-vos abaixo o dito sinograma. Dele poderão extraír o número de varrimentos e o número de pixeis do detector. O ruído é de banda limitada, e como é devido ao feixe de varrimento, ocorreu em cada projecção isoladamente (não foi contaminação que ocorreu depois sobre todo o sinograma).\n",
    "\n",
    "O nosso objectivo é saber se o Sr. Jáeras poderá ter morrido de causas não-naturais.\n",
    "\n",
    "\n",
    "\n",
    "\n"
   ]
  },
  {
   "cell_type": "markdown",
   "id": "844393d9",
   "metadata": {},
   "source": [
    "a) Deverá começar por determinar as dimensões do array de detecção e quantos varrimentos foram feitos."
   ]
  },
  {
   "cell_type": "markdown",
   "id": "bc918d37",
   "metadata": {},
   "source": [
    "b) Pode usar as rotinas que escreveu nas aulas PL para fazer a retroprojecção. Eu não consegui ver nada nas imagens, pois tinham muito ruído.\n",
    "\n",
    "Como tal procure remover o ruído do sinograma."
   ]
  },
  {
   "cell_type": "markdown",
   "id": "440c053f-e85e-4b5c-9ec0-b806fc5da6dc",
   "metadata": {},
   "source": [
    "c) Uma vez removido o ruído, pode agora fazer a retroprojecção, de modo a averiguar se se passou algo de anormal com o Sr. Jáeras. "
   ]
  }
 ],
 "metadata": {
  "kernelspec": {
   "display_name": "Python 3 (ipykernel)",
   "language": "python",
   "name": "python3"
  },
  "language_info": {
   "codemirror_mode": {
    "name": "ipython",
    "version": 3
   },
   "file_extension": ".py",
   "mimetype": "text/x-python",
   "name": "python",
   "nbconvert_exporter": "python",
   "pygments_lexer": "ipython3",
   "version": "3.12.2"
  },
  "latex_envs": {
   "LaTeX_envs_menu_present": true,
   "autoclose": false,
   "autocomplete": true,
   "bibliofile": "biblio.bib",
   "cite_by": "apalike",
   "current_citInitial": 1,
   "eqLabelWithNumbers": true,
   "eqNumInitial": 1,
   "hotkeys": {
    "equation": "Ctrl-E",
    "itemize": "Ctrl-I"
   },
   "labels_anchors": false,
   "latex_user_defs": false,
   "report_style_numbering": false,
   "user_envs_cfg": false
  }
 },
 "nbformat": 4,
 "nbformat_minor": 5
}
