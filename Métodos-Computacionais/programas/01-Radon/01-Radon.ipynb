{
 "cells": [
  {
   "cell_type": "markdown",
   "metadata": {},
   "source": [
    "# Transformada de Radon e Tomografia Computorizada\n",
    "\n",
    "Ver ficha número 3."
   ]
  }
 ],
 "metadata": {
  "language_info": {
   "name": "python"
  }
 },
 "nbformat": 4,
 "nbformat_minor": 2
}
