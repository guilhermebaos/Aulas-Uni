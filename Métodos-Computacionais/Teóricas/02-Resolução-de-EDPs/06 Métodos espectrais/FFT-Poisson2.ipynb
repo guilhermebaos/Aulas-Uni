{
 "cells": [
  {
   "cell_type": "markdown",
   "metadata": {},
   "source": [
    "# Equação de Poisson em 2D, via FFT\n",
    "\n",
    "Pretendemos resolver o problema em 2D:  \n",
    "\n",
    "$$ \\nabla^2\\phi(x,y)=f(x,y)\\;\\;\\;(x,y)\\in[0, L_x]\\times[0, L_y] $$ \n",
    "\n",
    "sujeita a condições fronteira periódicas:\n",
    "\n",
    "$$ \\phi(x,0)=\\phi(x,L_y) \\;\\;\\; x\\in[0, L_x] $$\n",
    "$$ \\phi(0,y)=\\phi(L_x,y) \\;\\;\\; y\\in[0, L_y] $$\n",
    "$$  \\frac{\\partial \\phi}{\\partial x}(0, y) = \\frac{\\partial \\phi}{\\partial x}(L_x, y)\\;\\;\\; y\\in[0, L_y] $$\n",
    "$$ \\frac{\\partial \\phi}{\\partial y}(x, 0) = \\frac{\\partial \\phi}{\\partial y}(x, L_y)\\;\\;\\; x\\in[0, L_x]  $$"
   ]
  },
  {
   "cell_type": "markdown",
   "metadata": {},
   "source": [
    "## Abordagem via FFT\n",
    "\n",
    "Vamos expandir $\\phi(x,y) $ em série de Fourier:  \n",
    "$$ \\phi(x,y)=\\sum_{p,q=-\\infty}^{\\infty}\\hat{\\phi}_{pq}e^{-i2\\pi p\\frac{x}{L_x}}e^{-i2\\pi q\\frac{y}{L_y}} $$\n",
    "onde os $ \\hat{\\phi}_{pq} $ são os coeficientes da expansão. Vamos fazer o mesmo para  $f(x,y)$, com os coeficientes da expansão  $\\hat{f}_{pq}$. Substituindo as expansões em série na equação de Poisson, temos:  \n",
    "$$ \\left[\\left(-i2\\pi \\frac{p}{L_x}\\right)^2+\\left(-i2\\pi \\frac{q}{L_y}\\right)^2\\right]\\hat{\\phi}_{pq}=\\hat{f}_{pq} $$\n",
    "\n",
    "Resolver a equação de Poisson reduz-se entãom a determinar os coeficientes $ \\hat{\\phi}_{pq} $ .\n",
    "\n",
    "Calculando a série de Fourier de $\\phi(x,y) $ nos pontos $(x_m,y_n)=(m\\Delta x,n\\Delta y),$ com $m=0,1,\\ldots,M$ e $n=0,1,\\ldots,N$, temos:\n",
    "\n",
    "$$ \\phi_{mn}=\\phi(m\\Delta x,n\\Delta y)=\\sum_{p,q=-\\infty}^{\\infty}\\hat{\\phi}_{pq}e^{-i2\\pi p\\frac{m\\Delta x}{L_x}}e^{-i2\\pi q\\frac{n\\Delta y}{L_y}}. $$\n",
    "\n",
    "Finalmente escolhemos\n",
    "$$ \\Delta x = \\frac{L_x}{M}$$ e $$ \\Delta y = \\frac{L_y}{N}$$ e se truncarmos a série de Fourier a $ (M+1)\\times (N+1)$ termos, virá:\n",
    "\n",
    "$$ \\phi_{mn}=\\sum_{p=0}^{M}\\sum_{q=0}^{N}\\hat{\\phi}_{pq}e^{-i2\\pi p\\frac{m\\Delta x}{L_x}}e^{-i2\\pi q\\frac{n\\Delta y}{L_y}} $$\n",
    "que tem a forma de uma **DFT** (transformada de Fourier Discreta). O mesmo se passa com $f(x,y)$, ié., \n",
    "$$ f_{mn}=\\sum_{p=0}^{M}\\sum_{q=0}^{N}\\hat{f}_{pq}e^{-i2\\pi p\\frac{m\\Delta x}{L_x}}e^{-i2\\pi q\\frac{n\\Delta y}{L_y}} ,$$ em que  $f_{mn}=f(m \\Delta x, n\\Delta y) .$  \n",
    "\n",
    "A abordagem é então a seguinte:\n",
    "\n",
    "1. amostrar a função $f(x,y)$ nos pontos $(m \\Delta x, n\\Delta y)$;\n",
    "2. calcular a DFT de $ f_{mn}$;\n",
    "3. dividir $ \\hat{f}_{pq}$ por $ \\left[\\left(-i2\\pi \\frac{p}{L_x}\\right)^2+\\left(-i2\\pi \\frac{q}{L_y}\\right)^2\\right] $ para obter $ \\hat{\\phi}_{pq}$;\n",
    "4. calcular a IDFT de $ \\hat{\\phi}_{pq}$\n",
    "\n",
    "### Problema\n",
    "\n",
    "A equação acima pode ser resolvida para qualquer $(p,q)$ excepto $p=q=0$, o que leva a uma ambiguidade na determinação do coeficiente à frequência zero $ \\hat{\\phi}_{00}$.\n",
    "\n",
    "### Solução\n",
    "\n",
    "Duma perspectiva diferente, as condições fronteira definem a solução da equação de Poisson a menos de uma constante aditiva: se $\\phi(x,y) $ obedece à equação e obedece às condições fronteira periódicas, então também $\\phi(x,y) + c \\ $ o faz, para qualquer constante real $c$. Então precisamos de uma condição adicional para fixar $c$. A escolha habitual é que:\n",
    "$$ \\int^{L_x}_0 \\int^{L_y}_0 \\phi(x,y) dx\\;dy =0 .$$\n",
    "\n",
    "\n",
    "Note que, ao usar condições fronteira periódicas e integrar a equação de Poisson, pode -se mostrar facilmente que o termo fonte $f(x,y)$ também deve obedecer à condição:\n",
    "$$ \\int^{L_x}_0 \\int^{L_y}_0 f(x,y) dx\\;dy =0 $$\n",
    "\n"
   ]
  },
  {
   "cell_type": "code",
   "execution_count": 1,
   "metadata": {},
   "outputs": [],
   "source": [
    "from __future__ import division\n",
    "import matplotlib.pyplot as plt\n",
    "import numpy as np\n",
    "from numpy.fft import fft,fft2,ifft2,ifft,irfft2,rfft2\n",
    "import random as random\n",
    "from mpl_toolkits.mplot3d import Axes3D\n",
    "%matplotlib inline"
   ]
  },
  {
   "cell_type": "code",
   "execution_count": 7,
   "metadata": {},
   "outputs": [],
   "source": [
    "# Definimos uma função para a tranformada seno discreta (DST) à custa da fft, simetrizando a função f\n",
    "def dst(x,axis=-1):\n",
    "    \"\"\"Discrete Sine Transform (DST-I)\n",
    "\n",
    "    Implemented using 2(N+1)-point FFT\n",
    "    xsym = r_[0,x,0,-x[::-1]]\n",
    "    DST = (-imag(fft(xsym))/2)[1:(N+1)]\n",
    "\n",
    "    adjusted to work over an arbitrary axis for entire n-dim array\n",
    "    \"\"\"\n",
    "    n    = len(x.shape)\n",
    "    N    = x.shape[axis]\n",
    "    slices = [None]*3\n",
    "    for k in range(3):\n",
    "        slices[k] = []\n",
    "        for j in range(n):\n",
    "            slices[k].append(slice(None))\n",
    "    newshape = list(x.shape)\n",
    "    newshape[axis] = 2*(N+1)\n",
    "    xsym = np.zeros(newshape,float)\n",
    "    slices[0][axis] = slice(1,N+1)\n",
    "    slices[1][axis] = slice(N+2,None)\n",
    "    slices[2][axis] = slice(None,None,-1)\n",
    "    for k in range(3):\n",
    "        slices[k] = tuple(slices[k])\n",
    "    xsym[slices[0]] = x\n",
    "    xsym[slices[1]] = -x[slices[2]]\n",
    "    DST = fft(xsym,axis=axis)\n",
    "    #print xtilde\n",
    "    return (-(DST.imag)/2)[slices[0]]\n"
   ]
  },
  {
   "cell_type": "code",
   "execution_count": 8,
   "metadata": {},
   "outputs": [],
   "source": [
    "# Definimos a DST 2D; a IDST  é igual à DST por causa da simetria\n",
    "\n",
    "def dst2(x,axes=(-1,-2)):\n",
    "    return dst(dst(x,axis=axes[0]),axis=axes[1])  # primeiro numa direção, depois na na segunda direção (transversal)\n",
    "\n",
    "def idst2(x,axes=(-1,-2)):\n",
    "    return dst(dst(x,axis=axes[0]),axis=axes[1])"
   ]
  },
  {
   "cell_type": "code",
   "execution_count": 9,
   "metadata": {},
   "outputs": [],
   "source": [
    "# Agora definimos um \"solver\" da eq. Poisson em 2D, num domínio quadrado, usando o algoritmo\n",
    "# descrito acima. Este método pode ser generalizado a um domínio rectangular.\n",
    "\n",
    "def fft_poisson(f,h):\n",
    "\n",
    "    m,n   = f.shape\n",
    "    f_hat = np.zeros([m,n])\n",
    "    u_hat = f_hat              # fazer do mesmo formato\n",
    "    u     = u_hat\n",
    "\n",
    "    f_hat = idst2(f)           # f_bar= transformada fourier de f\n",
    "\n",
    "    f_hat = f_hat * (2/n+1)**2  # Normalizar\n",
    "    #u_bar = np.zeros([n,n])\n",
    "    lam   = np.arange(1,n+1)\n",
    "    lam   = -4/h**2 * (np.sin((lam*np.pi) / (2*(n + 1))))**2   #  $calcular $\\lambda_x$\n",
    "    #para um domínio rectangular, adicionar $lambda_y$\n",
    "    for i in range(0,n):\n",
    "        for j in range(0,n):\n",
    "            u_hat[i,j] = (f_hat[i,j]) / (lam[i] + lam[j])\n",
    "\n",
    "    u   = dst2(u_hat)                    # transformada seno inversa\n",
    "    u   = u * (2/(n+1))**2               # normalizar; alterar se domínio rectangular\n",
    "    return u"
   ]
  },
  {
   "cell_type": "code",
   "execution_count": 12,
   "metadata": {},
   "outputs": [
    {
     "name": "stdout",
     "output_type": "stream",
     "text": [
      "512\n"
     ]
    }
   ],
   "source": [
    "# Definimos os parâmetros, e domínio do problema, etc\n",
    "\n",
    "# definir limites a,b,parâmetros\n",
    "a    = 0; b = 1;\n",
    "alpha = 10                # alpha define número de pontos da grelha, n = 2^alpha\n",
    "n    = 2**alpha\n",
    "L    = b-a              # comprimento do sistema, L_x = L_y\n",
    "\n",
    "xe   = np.linspace(a,b,n); \n",
    "ye   = np.linspace(a,b,n);\n",
    "x, y = np.meshgrid(xe,ye)\n",
    "\n",
    "\n",
    "\n",
    "h    = L/(n);           # tamanho do passo espacial \n",
    "h2   = h**2;            # passo ao quadrado\n",
    "hx2  = h2;              # começamos com um quadrado,hx2=hy2\n",
    "hy2  = h2;\n",
    "f    = np.zeros([n,n]); # alocamos espaço para a fonte\n",
    "\n",
    "# Colocamos cargas no domínio.\n",
    "\n",
    "\n",
    "# condições iniciais  (seleccionar, ou mudar!)\n",
    "\n",
    "#f[int(n/2):n,int(n/2):n] = 1; # condição inicial\n",
    "print(int((n+1)/2))\n",
    "f[int((n+1)/2),int((n+1)/2-10)] = 20   # positiva ao centro\n",
    "f[int((n+1)/2),int((n+1)/2+10)] = -20  # negativa ao centro\n",
    "#f[random.randint(0,n),random.randint(0,n)] = -10    # colocar aleatoriamente carga (negativa)\n",
    "\n",
    "\n",
    "nx,ny = np.array(f.shape)-1       #último índice \n",
    "U     = np.zeros([n,n])\n",
    "\n",
    "# impôr condições fronteira\n",
    "# CONDIÇÕES FRONTEIRA\n",
    "# fazer U(x,y) = g(x,y)\n",
    "U[0,:]  = 0\n",
    "U[nx,:] = 0   # 5e-5\n",
    "U[:,0]  = 0\n",
    "U[:,ny] = 0\n",
    "\n",
    "# homogenizar as  condições fronteira\n",
    "\n",
    "f[1,:] = f[1,:] + U[0,:]/hx2;     # @ x=dx\n",
    "f[nx-1,:] = f[nx-1,:] + U[n-1,:]/hx2;   # @ x = L_x -dx\n",
    "\n",
    "f[:,1] = f[:,1] + U[:,0]/hy2;     # @ y = dy\n",
    "f[:,ny-1] = f[:,ny-1] + U[:,n-1]/hy2;  # @ y = L_y - dy"
   ]
  },
  {
   "cell_type": "code",
   "execution_count": 13,
   "metadata": {},
   "outputs": [
    {
     "data": {
      "image/png": "[encoded data removed]",
      "text/plain": [
       "<Figure size 640x480 with 2 Axes>"
      ]
     },
     "metadata": {},
     "output_type": "display_data"
    }
   ],
   "source": [
    "# resolver a equação:\n",
    "\n",
    "U = fft_poisson(f,h)\n",
    "\n",
    "# plot\n",
    "plt.figure()\n",
    "# escolher um  tipo de plot\n",
    "plt.imshow((U),cmap='hot')  # imagem com nível de cores (cmap)\n",
    "plt.colorbar()\n",
    "#plt.contour(U,50)         # contornos de nível\n",
    "#plt.contour(f)           # plot sobreposta a função fonte\n",
    "\n",
    "plt.show()\n",
    "\n",
    "#display(gcf())"
   ]
  }
 ],
 "metadata": {
  "kernelspec": {
   "display_name": "Python 3 (ipykernel)",
   "language": "python",
   "name": "python3"
  },
  "language_info": {
   "codemirror_mode": {
    "name": "ipython",
    "version": 3
   },
   "file_extension": ".py",
   "mimetype": "text/x-python",
   "name": "python",
   "nbconvert_exporter": "python",
   "pygments_lexer": "ipython3",
   "version": "3.12.2"
  },
  "latex_envs": {
   "LaTeX_envs_menu_present": true,
   "autoclose": false,
   "autocomplete": true,
   "bibliofile": "biblio.bib",
   "cite_by": "apalike",
   "current_citInitial": 1,
   "eqLabelWithNumbers": true,
   "eqNumInitial": 1,
   "hotkeys": {
    "equation": "Ctrl-E",
    "itemize": "Ctrl-I"
   },
   "labels_anchors": false,
   "latex_user_defs": false,
   "report_style_numbering": false,
   "user_envs_cfg": false
  }
 },
 "nbformat": 4,
 "nbformat_minor": 4
}
