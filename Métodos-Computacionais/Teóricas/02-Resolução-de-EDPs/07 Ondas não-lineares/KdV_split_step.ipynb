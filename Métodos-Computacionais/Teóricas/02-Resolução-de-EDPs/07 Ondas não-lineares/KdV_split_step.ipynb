{
 "cells": [
  {
   "cell_type": "markdown",
   "metadata": {},
   "source": [
    "## Solução numérica da KdV\n",
    "\n",
    "Pode-se derivar um método para resolver a equação de KdV usando métodos espectrais. Começamos com a KdV escrita na forma:\n",
    "\n",
    "$$\\partial_t u +3 \\partial_x(u)^2+\\partial^3_x u=0.$$\n",
    "\n",
    "A sua transformada de Fourier é portanto:\n",
    "$$\\partial_t \\hat{u}+3ik\\hat{(u^2)}−ik^3\\hat{u}=0.$$\n",
    "\n",
    "Resolvemos esta equação pelo método de _split step_. Escrevemos a equação como:\n",
    "$$\\partial_t \\hat{u}=−3ik\\hat{(u^2)}+ik^3\\hat{u}.$$\n",
    "\n",
    "Sabemos resolver a equação:\n",
    "$$\\partial_t \\hat{u}=ik^3\\hat{u}$$\n",
    "\n",
    "exactamente, enquanto que para a equação:\n",
    "$$\\partial_t \\hat{u}=−3ik\\hat{(u^2)}$$\n",
    "\n",
    "precisamos resover passo a passo numericamente. A ideia do método de _split step_ é resolver alternadamente cada uma destas equações enquanto avançamos de  $t$ para $t+\\Delta t$. Então resolvemos:\n",
    "\n",
    "$$\\hat{u}_1(k,t+\\Delta t)=\\hat{u}(k,t)e^{ik^3\\Delta t}$$\n",
    "$$\\hat{u}(k,t+\\Delta t) = \\hat{u}_1(k,t+\\Delta t) −3ik\\Delta t\\hat{(u_1^2)}$$\n",
    "\n",
    "Note que estamos a usar o método de Euler para avançar no tempo. A solução será melhor se usarmos um método mais preciso como um Runge-Kutta 4.\n",
    "\n",
    "O único detalhe com que precisamos ter cuidado é que temos simultaneamente  $u$ e $\\hat{u}$ na equação, mas podemos simplesmente usar a transformada de Fourier para as relacionar. A equação fica então:\n",
    "\n",
    "$$\\hat{u}_1(k,t+\\Delta t)=\\hat{u}(k,t)e^{ik^3\\Delta t}$$\n",
    "\n",
    "$$\\hat{u}(k,t+\\Delta t) = \\hat{u}_1(k,t+\\Delta t) −3ik\\Delta t \\left(\\mathcal{F} \\left(  \\left( \\mathcal{F}^{-1}\n",
    "\\left[ \\hat{u}_1(k,t+\\Delta t) \\right] \\right)^2  \\right) \\right)$$\n",
    "\n",
    "#### solução de 2 solitões\n",
    "$$u(x,0)= \\frac{8}{\\cosh^2(2(x+8))} + \\frac{2}{\\cosh^2(x+1)}$$"
   ]
  },
  {
   "cell_type": "code",
   "execution_count": 3,
   "metadata": {},
   "outputs": [
    {
     "data": {
      "image/png": "[encoded data removed]",
      "text/plain": [
       "<Figure size 640x480 with 1 Axes>"
      ]
     },
     "metadata": {},
     "output_type": "display_data"
    }
   ],
   "source": [
    "import numpy as np\n",
    "import matplotlib.pyplot as plt\n",
    "from matplotlib import animation\n",
    "from scipy import interpolate\n",
    "%matplotlib inline\n",
    "\n",
    "N = 256\n",
    "x = np.linspace(-14,10,N)\n",
    "delta_x = x[1] - x[0]\n",
    "delta_k = 2*np.pi/(N*delta_x)\n",
    "\n",
    "#k1 = np.concatenate((np.arange(N//2),np.arange(-(N//2),0)))*delta_k\n",
    "k = np.fft.fftfreq(N,delta_x)\n",
    "#print(k)\n",
    "#print(k1*delta_k)\n",
    "\n",
    "c  = 16\n",
    "\n",
    "#u  = (c/2)*(1.0/np.cosh(np.sqrt(c)*(x+8)/2))**2 # + 8.0/(np.cosh(2*(x+8)) )**2\n",
    "u  =  1.0/(np.cosh(np.sqrt(2)*(x+9))  )**2\n",
    "#plt.figure()\n",
    "#plt.plot(x,np.abs(u))\n",
    "#plt.show()\n",
    "delta_t = 0.4/N**2\n",
    "\n",
    "tmax = 2.75\n",
    "nmax = np.round(tmax/delta_t)\n",
    "\n",
    "U = np.fft.fft(u)\n",
    "\n",
    "for n in np.arange(nmax):\n",
    "    # primeiro resolvemos a parte linear \n",
    "    U = U*np.exp(1j*k**3*delta_t)\n",
    "    #depois  resolvemos a parte não linear\n",
    "    U = U - delta_t*(3j*k*np.fft.fft(np.real(np.fft.ifft(U))**2))\n",
    "\n",
    "plt.figure()\n",
    "plt.plot(x,np.abs(np.fft.ifft(U)))\n",
    "plt.show()\n"
   ]
  }
 ],
 "metadata": {
  "kernelspec": {
   "display_name": "Python 3 (ipykernel)",
   "language": "python",
   "name": "python3"
  },
  "language_info": {
   "codemirror_mode": {
    "name": "ipython",
    "version": 3
   },
   "file_extension": ".py",
   "mimetype": "text/x-python",
   "name": "python",
   "nbconvert_exporter": "python",
   "pygments_lexer": "ipython3",
   "version": "3.12.3"
  },
  "latex_envs": {
   "LaTeX_envs_menu_present": true,
   "autoclose": false,
   "autocomplete": true,
   "bibliofile": "biblio.bib",
   "cite_by": "apalike",
   "current_citInitial": 1,
   "eqLabelWithNumbers": true,
   "eqNumInitial": 1,
   "hotkeys": {
    "equation": "Ctrl-E",
    "itemize": "Ctrl-I"
   },
   "labels_anchors": false,
   "latex_user_defs": false,
   "report_style_numbering": false,
   "user_envs_cfg": false
  }
 },
 "nbformat": 4,
 "nbformat_minor": 4
}
