{
 "cells": [
  {
   "cell_type": "markdown",
   "metadata": {},
   "source": [
    "# Exercício 1"
   ]
  },
  {
   "cell_type": "code",
   "execution_count": 4,
   "metadata": {},
   "outputs": [
    {
     "name": "stdout",
     "output_type": "stream",
     "text": [
      "5e-324\n"
     ]
    }
   ],
   "source": [
    "def smallest() -> float:\n",
    "    \"\"\"\n",
    "        Returns the smallest positive non-zero number that can be stored in a Python float (denormalized).\n",
    "    \"\"\"\n",
    "\n",
    "    num = 1\n",
    "    while True:\n",
    "        nextnum = num / 2\n",
    "        if nextnum == 0:\n",
    "            return num\n",
    "        \n",
    "        num = nextnum\n",
    "\n",
    "print(smallest())"
   ]
  },
  {
   "cell_type": "markdown",
   "metadata": {},
   "source": [
    "Podemos verificar este resultado usando as propriedades do sistema ([Ver mais](https://stackoverflow.com/questions/1835787/what-is-the-range-of-values-a-float-can-have-in-python)). Este número é igual ao menor número denormalizado no standard IEEE 754 ([Ver mais](https://www.notion.so/guilhermebaos/1-Numera-o-e-Aritm-tica-Bin-ria-bd5a60a7e7dc4763b1e94ba436e44b9e?pvs=4#2cc67b3c4a974123a029caa611ef80b0))!"
   ]
  },
  {
   "cell_type": "code",
   "execution_count": 8,
   "metadata": {},
   "outputs": [
    {
     "name": "stdout",
     "output_type": "stream",
     "text": [
      "5e-324\n"
     ]
    }
   ],
   "source": [
    "import sys\n",
    "eps = sys.float_info.min * sys.float_info.epsilon\n",
    "\n",
    "print(eps)"
   ]
  },
  {
   "cell_type": "markdown",
   "metadata": {},
   "source": [
    "Podemos aproveitar a calcular o valor de $\\varepsilon$."
   ]
  },
  {
   "cell_type": "code",
   "execution_count": 10,
   "metadata": {},
   "outputs": [
    {
     "name": "stdout",
     "output_type": "stream",
     "text": [
      "2.220446049250313e-16\n"
     ]
    }
   ],
   "source": [
    "def epsilon() -> float:\n",
    "    \"\"\"\n",
    "        Returns the smallest difference possible between two normalized Python floats\n",
    "    \"\"\"\n",
    "\n",
    "    eps = 1\n",
    "    while True:\n",
    "        # Next value to try\n",
    "        nexteps = eps / 2\n",
    "\n",
    "        # Ensure normalization of the number\n",
    "        temp = nexteps + 1\n",
    "        dif = temp - 1\n",
    "\n",
    "        if dif == 0:\n",
    "            return eps\n",
    "\n",
    "        eps = nexteps\n",
    "\n",
    "print(epsilon())"
   ]
  },
  {
   "cell_type": "code",
   "execution_count": null,
   "metadata": {},
   "outputs": [],
   "source": []
  }
 ],
 "metadata": {
  "kernelspec": {
   "display_name": "Python 3",
   "language": "python",
   "name": "python3"
  },
  "language_info": {
   "codemirror_mode": {
    "name": "ipython",
    "version": 3
   },
   "file_extension": ".py",
   "mimetype": "text/x-python",
   "name": "python",
   "nbconvert_exporter": "python",
   "pygments_lexer": "ipython3",
   "version": "3.11.0"
  },
  "orig_nbformat": 4
 },
 "nbformat": 4,
 "nbformat_minor": 2
}
