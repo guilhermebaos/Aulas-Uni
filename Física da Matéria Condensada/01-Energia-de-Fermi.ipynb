{
 "cells": [
  {
   "cell_type": "markdown",
   "metadata": {},
   "source": [
    "# Imports"
   ]
  },
  {
   "cell_type": "code",
   "execution_count": 73,
   "metadata": {},
   "outputs": [],
   "source": [
    "import numpy as np\n",
    "import matplotlib.pyplot as plt"
   ]
  },
  {
   "cell_type": "markdown",
   "metadata": {},
   "source": [
    "# Estados Eletrónicos"
   ]
  },
  {
   "cell_type": "code",
   "execution_count": 74,
   "metadata": {},
   "outputs": [
    {
     "name": "stdout",
     "output_type": "stream",
     "text": [
      "17 {3: 1, 6: 3, 9: 3, 12: 1, 11: 3, 14: 6, 17: 3, 19: 3, 22: 3, 27: 1}\n",
      "20\n"
     ]
    }
   ],
   "source": [
    "def electronStates(N: int) -> tuple[dict, int]:\n",
    "    \"\"\"\n",
    "        Devolve pelo menos os primeiros `N` estados sob a forma de um dicionário cujas chaves é a soma dos n^2 desse estado e\n",
    "        cuja entrada correspondente é o número de estados degenerados com essa soma de n^2\n",
    "    \"\"\"\n",
    "\n",
    "    estados = dict()\n",
    "\n",
    "    total = 0\n",
    "    nsum = 1 + 1 + 1\n",
    "\n",
    "    i = 0\n",
    "    while total < N:\n",
    "        i += 1\n",
    "\n",
    "        # Soma máxima dos quadrados\n",
    "        nsumprev = nsum\n",
    "\n",
    "        # Procurar estados (a chave é a soma dos n^2 e a entrada é o número de estados)\n",
    "        for j in range(1, i + 1):\n",
    "            for k in range(1, j + 1):\n",
    "                n2 = i**2 + j**2 + k**2\n",
    "                \n",
    "\n",
    "                if i == j and j == k:\n",
    "                    newstates = 1\n",
    "                elif i == j or j == k:\n",
    "                    newstates = 3\n",
    "                else:\n",
    "                    newstates = 6\n",
    "                \n",
    "                estados[n2] = estados.get(n2, 0) + newstates\n",
    "            \n",
    "        \n",
    "        # Próximo valor máximo da soma dos n^2 abaixo do qual vamos listar todos os estados\n",
    "        nsum = (i+1)**2 + 1 + 1\n",
    "\n",
    "        # Contar estados que temos a certeza serem os de menor energia\n",
    "        total += sum(estados.get(e, 0) for e in range(nsumprev, nsum))\n",
    "\n",
    "\n",
    "    # Devolver o estados e lembrar que apenas temos a certeza da ordem até (i+1)^2 + 1 + 1 - 1 pois o próximo i que iriamos ver pode no mínimo levar a um estado de energia (i+1)^2 + 1 + 1\n",
    "    return estados, nsum - 1\n",
    "\n",
    "\n",
    "estados, emax = electronStates(20)\n",
    "print(emax, estados)\n",
    "print(sum(estados.get(e, 0) for e in range(0, emax+1)))"
   ]
  },
  {
   "cell_type": "markdown",
   "metadata": {},
   "source": [
    "# Energia de Fermi\n",
    "\n",
    "Vamos comparar a energia de Fermi exata com o valor termodinâmico desta grandeza ([Ver mais](https://www.notion.so/3-Modelo-de-Sommerfeld-Defini-o-e-Baixas-Temperaturas-1b5c81cfd6824d9fb9b9ad35c3ee0633?pvs=4#c551d9fe4680479cad59ca7c7c8440ad))."
   ]
  },
  {
   "cell_type": "code",
   "execution_count": 75,
   "metadata": {},
   "outputs": [
    {
     "data": {
      "image/png": "[encoded data removed]",
      "text/plain": [
       "<Figure size 640x480 with 1 Axes>"
      ]
     },
     "metadata": {},
     "output_type": "display_data"
    },
    {
     "name": "stdout",
     "output_type": "stream",
     "text": [
      "1.015501896171552\n"
     ]
    }
   ],
   "source": [
    "def energiaFermi(start: int, stop: int, step: int) -> int:\n",
    "    \"\"\"\n",
    "        Devolve a energia do estado eletrónico mais energético ocupado para `N` eletrões, sob a forma da soma dos n^2 desse estado.\n",
    "    \"\"\"\n",
    "    # N máximo\n",
    "    NN = np.arange(start, stop, step)\n",
    "    Nmax = NN[-1]\n",
    "    Nlen = len(NN)\n",
    "\n",
    "    # Estados\n",
    "    estados, emax = electronStates(Nmax // 2 + 1)\n",
    "\n",
    "    # Energias\n",
    "    energias = list(estados.keys())\n",
    "    energias.sort()\n",
    "\n",
    "    # Energias de Fermi\n",
    "    EF = np.zeros_like(NN)\n",
    "    total = 0\n",
    "    proximo = 0\n",
    "    for e in energias:\n",
    "        total += 2 * estados[e]\n",
    "        \n",
    "        # Verificar se o próximo conjunto de eletrões não ocupa estados mais energéticos do que este\n",
    "        while proximo < Nlen and NN[proximo] <= total:\n",
    "            EF[proximo] = e\n",
    "            proximo += 1\n",
    "    \n",
    "    return EF\n",
    "\n",
    "\n",
    "\n",
    "# Valores de N\n",
    "Nstart = 2\n",
    "Nstop = 1e6\n",
    "Nstep = 1e3\n",
    "NN = np.arange(Nstart, Nstop, Nstep)\n",
    "\n",
    "# EF exata e termodinâmica\n",
    "EFe = energiaFermi(Nstart, Nstop, Nstep)\n",
    "EFt = []\n",
    "for item in NN:\n",
    "    EFt += [(3 * item / np.pi)**(2/3)]\n",
    "\n",
    "EFe = np.array(EFe)\n",
    "EFt = np.array(EFt)\n",
    "\n",
    "EFr = EFe/ EFt\n",
    "\n",
    "# Gráfico\n",
    "plt.plot(NN, EFr, label=\"$E_F$ exata / $E_F$ termodinâmica \")\n",
    "plt.xlabel(\"N\")\n",
    "plt.ylabel(\"Razão das energias\")\n",
    "plt.show()\n",
    "\n",
    "print(EFr[-1])"
   ]
  },
  {
   "cell_type": "code",
   "execution_count": null,
   "metadata": {},
   "outputs": [],
   "source": []
  }
 ],
 "metadata": {
  "kernelspec": {
   "display_name": "Python 3",
   "language": "python",
   "name": "python3"
  },
  "language_info": {
   "codemirror_mode": {
    "name": "ipython",
    "version": 3
   },
   "file_extension": ".py",
   "mimetype": "text/x-python",
   "name": "python",
   "nbconvert_exporter": "python",
   "pygments_lexer": "ipython3",
   "version": "3.11.0"
  }
 },
 "nbformat": 4,
 "nbformat_minor": 2
}
