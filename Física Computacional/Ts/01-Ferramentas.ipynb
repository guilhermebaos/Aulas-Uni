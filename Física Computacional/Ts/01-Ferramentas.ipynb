{
 "cells": [
  {
   "attachments": {},
   "cell_type": "markdown",
   "metadata": {},
   "source": [
    "# Ferramentas\n",
    "\n",
    "Vamos estudar algumas ferramentas úteis para Física Computacional, como:\n",
    "- Python ([Ver mais](https://www.notion.so/guilhermebaos/Programa-o-I-fc7b92b8f9234eb2b34ad80abbe8f6f4?pvs=4))\n",
    "  - Funções ([Ver mais](https://www.notion.so/guilhermebaos/14-Fun-es-7a725c915fdb4bf9862a935086da6d7c?pvs=4))\n",
    "  - Classes ([Ver mais](https://www.notion.so/guilhermebaos/17-Classes-e-Objetos-3f559ae82c6f47df83f8dbd34c2aaced?pvs=4))\n",
    "  - Numpy ([Ver mais](https://www.notion.so/guilhermebaos/Numpy-337fd2f2c1e342b69b4befeb501f3904?pvs=4))\n",
    "  - Matplotlib ([Ver mais](https://www.notion.so/guilhermebaos/Matplotlib-pyplot-f36a63fdcb9b4080bc8d3ccebfda9714?pvs=4))\n",
    "  - Sympy\n",
    "  - Tips & Tricks ([Ver mais](https://www.notion.so/guilhermebaos/b387e03b7b3140d8b0e9cfa2728bd3d8?v=fd784601b8e8483c9282ded469d2be91&pvs=4))\n",
    "\n",
    "<br/>\n",
    "\n",
    "- Jupyter\n",
    "  - Markdown\n",
    "  - LaTeX\n",
    "  - Magias ([Ver mais](https://ipython.readthedocs.io/en/stable/interactive/magics.html))\n"
   ]
  },
  {
   "cell_type": "code",
   "execution_count": 1,
   "metadata": {},
   "outputs": [],
   "source": [
    "import numpy as np"
   ]
  },
  {
   "attachments": {},
   "cell_type": "markdown",
   "metadata": {},
   "source": [
    "# Progressão Aritmética\n",
    "\n",
    "Vamos considerar a seguinte progrssão aritmética:\n",
    "\n",
    "$$\n",
    "\n",
    "a_n = a_0 + nr\n",
    "\n",
    "$$\n",
    "\n",
    "Onde $a_0$ e $r$ são constantes. A soma dos primeiros $M$ termos é dada por:\n",
    "\n",
    "$$\n",
    "\n",
    "S_M = \\sum_{i=0}^{M-1}a_i = \\frac{a_0+a_{M-1}}{2}M\n",
    "\n",
    "$$"
   ]
  },
  {
   "attachments": {},
   "cell_type": "markdown",
   "metadata": {},
   "source": [
    "## Verificar a soma de uma Progressão Aritmética\n",
    "\n",
    "Podemos verificar a expressão acima calculando $S_M$ explicitamente:"
   ]
  },
  {
   "cell_type": "code",
   "execution_count": 2,
   "metadata": {},
   "outputs": [
    {
     "name": "stdout",
     "output_type": "stream",
     "text": [
      "Obtivemos 20000, 20000 e 20000.0.\n"
     ]
    }
   ],
   "source": [
    "# Parâmetros\n",
    "M = 100\n",
    "A0 = 2\n",
    "R = 4\n",
    "\n",
    "# Forma explícita iterativa\n",
    "sm1 = sum([A0 + n * R for n in range(M)])\n",
    "\n",
    "# Forma explícita recursiva\n",
    "an = A0\n",
    "sm2 = 0\n",
    "for _ in range(M):\n",
    "    sm2 += an\n",
    "    an += R\n",
    "\n",
    "\n",
    "# Forma matemática\n",
    "af = A0 + (M-1) * R\n",
    "sm3 = 0.5 * (A0 + af) * M\n",
    "\n",
    "print(f\"Obtivemos {sm1}, {sm2} e {sm3}.\")"
   ]
  },
  {
   "attachments": {},
   "cell_type": "markdown",
   "metadata": {},
   "source": [
    "# Progrssão Geométrica\n",
    "\n",
    "Podemos agora considerar a seguinte progressão geométrica:\n",
    "\n",
    "$$\n",
    "\n",
    "a_n = a_0 \\times r^n\n",
    "\n",
    "$$\n",
    "\n",
    "Onde $a_0$ e $r$ são constantes. A soma dos primeiros $M$ termos é:\n",
    "\n",
    "$$\n",
    "\n",
    "S_M = \\sum_{i=0}^{M-1} a_i = \\frac{1-r^M}{1-r} a_0\n",
    "\n",
    "$$"
   ]
  },
  {
   "attachments": {},
   "cell_type": "markdown",
   "metadata": {},
   "source": [
    "## Verificar a soma de uma Progressão Geométrica\n",
    "\n",
    "Podemos verificar a expressão acima calculando $S_M$ explicitamente:"
   ]
  },
  {
   "cell_type": "code",
   "execution_count": 3,
   "metadata": {},
   "outputs": [
    {
     "name": "stdout",
     "output_type": "stream",
     "text": [
      "Obtivemos 511.5, 511.5 e 511.5.\n"
     ]
    }
   ],
   "source": [
    "# Parâmetros\n",
    "M = 10\n",
    "A0 = 0.5\n",
    "R = 2\n",
    "\n",
    "# Forma explícita iterativa\n",
    "sm1 = sum([A0 * R ** n for n in range(M)])\n",
    "\n",
    "# Forma explícita recursiva\n",
    "an = A0\n",
    "sm2 = 0\n",
    "for _ in range(M):\n",
    "    sm2 += an\n",
    "    an *= R\n",
    "\n",
    "\n",
    "# Forma matemática\n",
    "sm3 = (1 - R**M) / (1-R) * A0\n",
    "\n",
    "print(f\"Obtivemos {sm1}, {sm2} e {sm3}.\")"
   ]
  },
  {
   "attachments": {},
   "cell_type": "markdown",
   "metadata": {},
   "source": [
    "# Séries de Taylor\n",
    "\n",
    "Podemos também usar o computador para verificar séries de Taylor. Por exemplo, a série de Taylor da exponencial:\n",
    "\n",
    "$$\n",
    "\n",
    "\\exp(x) = \\sum_{n=0}^{+\\infty}\\frac{x^n}{n!} = \\sum_{n=0}^{+\\infty} a_n(x)\n",
    "\n",
    "$$\n",
    "\n",
    "[Ver mais](https://www.notion.so/guilhermebaos/S-ries-6e10b5ba374049ada07c7ad0e6d978cb?pvs=4#b948ae1d7abe49699779577894de5daa)."
   ]
  },
  {
   "attachments": {},
   "cell_type": "markdown",
   "metadata": {},
   "source": [
    "## Eficiência\n",
    "\n",
    "O fatorial é muito caro para computar, podemos por isso usar os truques que aprendemos acima para definir uma expressão recursiva que nos permite poupar cálculos:\n",
    "\n",
    "$$\n",
    "\n",
    "a_{n+1} = \\frac{\\frac{x^{n+1}}{(n+1)!}}{\\frac{x^n}{n!}}a_n = \\frac{x}{n+1}a_n\n",
    "\n",
    "$$"
   ]
  },
  {
   "attachments": {},
   "cell_type": "markdown",
   "metadata": {},
   "source": [
    "## Verificar a Série de Taylor\n",
    "\n",
    "Vamos então usar esta fórmula para verificar a série de Taylor:"
   ]
  },
  {
   "cell_type": "code",
   "execution_count": 5,
   "metadata": {},
   "outputs": [
    {
     "name": "stdout",
     "output_type": "stream",
     "text": [
      "Obtivemos 7.389056098930649, 7.389056098930649 e 7.38905609893065.\n"
     ]
    }
   ],
   "source": [
    "# Parâmetros\n",
    "N = 100\n",
    "X = 2\n",
    "\n",
    "# Forma explícita iterativa\n",
    "def fac(n: int) -> int:\n",
    "    total = 1\n",
    "    for i in range(1, n + 1):\n",
    "        total *= i\n",
    "    return total\n",
    "\n",
    "sm1 = sum([X ** n / fac(n) for n in range(N)])\n",
    "\n",
    "# Forma explícita recursiva\n",
    "an = 1\n",
    "sm2 = 0\n",
    "for n in range(N):\n",
    "    sm2 += an\n",
    "    an *= X / (n + 1)\n",
    "\n",
    "\n",
    "# Forma matemática\n",
    "sm3 = np.exp(X)\n",
    "\n",
    "print(f\"Obtivemos {sm1:}, {sm2} e {sm3}.\")"
   ]
  }
 ],
 "metadata": {
  "kernelspec": {
   "display_name": "Python 3",
   "language": "python",
   "name": "python3"
  },
  "language_info": {
   "codemirror_mode": {
    "name": "ipython",
    "version": 3
   },
   "file_extension": ".py",
   "mimetype": "text/x-python",
   "name": "python",
   "nbconvert_exporter": "python",
   "pygments_lexer": "ipython3",
   "version": "3.11.0"
  },
  "orig_nbformat": 4,
  "vscode": {
   "interpreter": {
    "hash": "d82c1d93bb306390d09f23da3285a8fc51ae2f3168294d711572deb5a95602ca"
   }
  }
 },
 "nbformat": 4,
 "nbformat_minor": 2
}
