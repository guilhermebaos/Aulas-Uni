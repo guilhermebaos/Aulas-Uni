{
 "cells": [
  {
   "attachments": {},
   "cell_type": "markdown",
   "metadata": {},
   "source": [
    "# Medir o Tempo de Execução\n",
    "\n",
    "Vamos comparar o tempo de execução entre os método usuais do Python e método envolvendo numpy."
   ]
  },
  {
   "cell_type": "code",
   "execution_count": 1,
   "metadata": {},
   "outputs": [],
   "source": [
    "import numpy as np\n",
    "import matplotlib.pyplot as plt"
   ]
  },
  {
   "attachments": {},
   "cell_type": "markdown",
   "metadata": {},
   "source": [
    "## Funções para Testar"
   ]
  },
  {
   "cell_type": "code",
   "execution_count": 10,
   "metadata": {},
   "outputs": [
    {
     "name": "stdout",
     "output_type": "stream",
     "text": [
      "[0.09983341664682815, 0.8912073600614354, 0.8632093666488737, 0.04158066243329049, -0.8182771110644103]\n",
      "[ 0.09983342  0.89120736  0.86320937  0.04158066 -0.81827711]\n"
     ]
    }
   ],
   "source": [
    "def f1(x):\n",
    "    return np.sin(x)\n",
    "\n",
    "\n",
    "def f2(x):\n",
    "    return 2 * x\n",
    "\n",
    "\n",
    "# Executar a função com Python habitual\n",
    "def mandar_fazer(func, xx):\n",
    "    return [func(item) for item in xx]\n",
    "\n",
    "\n",
    "# Executar a função para uma lista e para um array\n",
    "M = 1000\n",
    "x = [0.1 + i for i in range(M)]\n",
    "xa = np.array(x)\n",
    "\n",
    "f1l = mandar_fazer(f1, x)\n",
    "f1a = f1(xa)\n",
    "\n",
    "print(f1l[:5])\n",
    "print(f1a[:5])"
   ]
  },
  {
   "attachments": {},
   "cell_type": "markdown",
   "metadata": {},
   "source": [
    "## Magia timeit do array\n",
    "\n",
    "Podemos usar a magia %timeit do jupyter:"
   ]
  },
  {
   "cell_type": "code",
   "execution_count": 14,
   "metadata": {},
   "outputs": [
    {
     "name": "stdout",
     "output_type": "stream",
     "text": [
      "131 µs ± 7.37 µs per loop (mean ± std. dev. of 10 runs, 100 loops each)\n"
     ]
    },
    {
     "data": {
      "text/plain": [
       "0.00013119439998990855"
      ]
     },
     "execution_count": 14,
     "metadata": {},
     "output_type": "execute_result"
    }
   ],
   "source": [
    "# Usamos %timeit -n N -r R -0 func, onde:\n",
    "# -n N permite definir o número de loops que fazemos sobre cada função, usamos N grandes para funções muito curtas\n",
    "# -r R permite definir o número de runs que fazemos, para fazer estatística sobre a função\n",
    "# -o permite guardar o resultado numa variável, como uma classe com propriedades úteis\n",
    "# func é a função que estamos a executar\n",
    "\n",
    "resultado = %timeit -n 100 -r 10 -o f1(x)\n",
    "resultado.average"
   ]
  },
  {
   "cell_type": "code",
   "execution_count": 27,
   "metadata": {},
   "outputs": [
    {
     "name": "stdout",
     "output_type": "stream",
     "text": [
      "The slowest run took 5.02 times longer than the fastest. This could mean that an intermediate result is being cached.\n",
      "1.48 µs ± 777 ns per loop (mean ± std. dev. of 50 runs, 100 loops each)\n",
      "1.33 µs ± 213 ns per loop (mean ± std. dev. of 50 runs, 100 loops each)\n",
      "The slowest run took 7.44 times longer than the fastest. This could mean that an intermediate result is being cached.\n",
      "1.35 µs ± 809 ns per loop (mean ± std. dev. of 50 runs, 100 loops each)\n",
      "1.39 µs ± 128 ns per loop (mean ± std. dev. of 50 runs, 100 loops each)\n",
      "The slowest run took 6.37 times longer than the fastest. This could mean that an intermediate result is being cached.\n",
      "1.56 µs ± 841 ns per loop (mean ± std. dev. of 50 runs, 100 loops each)\n",
      "1.92 µs ± 503 ns per loop (mean ± std. dev. of 50 runs, 100 loops each)\n",
      "The slowest run took 13.56 times longer than the fastest. This could mean that an intermediate result is being cached.\n",
      "3.71 µs ± 4.31 µs per loop (mean ± std. dev. of 50 runs, 100 loops each)\n",
      "The slowest run took 5.03 times longer than the fastest. This could mean that an intermediate result is being cached.\n",
      "4.52 µs ± 2.75 µs per loop (mean ± std. dev. of 50 runs, 100 loops each)\n",
      "7.52 µs ± 1.71 µs per loop (mean ± std. dev. of 50 runs, 100 loops each)\n",
      "17.9 µs ± 5.76 µs per loop (mean ± std. dev. of 50 runs, 100 loops each)\n",
      "27.1 µs ± 10.7 µs per loop (mean ± std. dev. of 50 runs, 100 loops each)\n",
      "51.5 µs ± 11 µs per loop (mean ± std. dev. of 50 runs, 100 loops each)\n",
      "The slowest run took 6.54 times longer than the fastest. This could mean that an intermediate result is being cached.\n",
      "135 µs ± 74.1 µs per loop (mean ± std. dev. of 50 runs, 100 loops each)\n",
      "199 µs ± 39.8 µs per loop (mean ± std. dev. of 50 runs, 100 loops each)\n",
      "372 µs ± 77.9 µs per loop (mean ± std. dev. of 50 runs, 100 loops each)\n",
      "The slowest run took 4.73 times longer than the fastest. This could mean that an intermediate result is being cached.\n",
      "2.22 µs ± 1.1 µs per loop (mean ± std. dev. of 50 runs, 100 loops each)\n",
      "4.13 µs ± 1.83 µs per loop (mean ± std. dev. of 50 runs, 100 loops each)\n",
      "7.33 µs ± 2.81 µs per loop (mean ± std. dev. of 50 runs, 100 loops each)\n",
      "The slowest run took 10.83 times longer than the fastest. This could mean that an intermediate result is being cached.\n",
      "20.2 µs ± 17.7 µs per loop (mean ± std. dev. of 50 runs, 100 loops each)\n",
      "The slowest run took 17.28 times longer than the fastest. This could mean that an intermediate result is being cached.\n",
      "55.7 µs ± 61 µs per loop (mean ± std. dev. of 50 runs, 100 loops each)\n",
      "63.9 µs ± 14.6 µs per loop (mean ± std. dev. of 50 runs, 100 loops each)\n",
      "121 µs ± 17.1 µs per loop (mean ± std. dev. of 50 runs, 100 loops each)\n",
      "245 µs ± 22.6 µs per loop (mean ± std. dev. of 50 runs, 100 loops each)\n",
      "502 µs ± 94.7 µs per loop (mean ± std. dev. of 50 runs, 100 loops each)\n"
     ]
    },
    {
     "data": {
      "image/png": "[encoded data removed]",
      "text/plain": [
       "<Figure size 640x480 with 1 Axes>"
      ]
     },
     "metadata": {},
     "output_type": "display_data"
    }
   ],
   "source": [
    "# Vamos ver o crescimento do tempo de execução da função com valores crescentes de M\n",
    "\n",
    "MMmax = 16\n",
    "MM = 2 ** np.arange(1, MMmax)\n",
    "\n",
    "rra = np.zeros(MMmax - 1)\n",
    "for i, M in enumerate(MM):\n",
    "    x = [0.1 + i for i in range(M)]\n",
    "    xa = np.array(x)\n",
    "    r = %timeit -n 100 -r 50 -o f1(xa)\n",
    "    rra[i] = r.average\n",
    "\n",
    "plt.plot(MM, rra, \"o--\")\n",
    "plt.plot(MM, 1e-8 * MM, \"--\")\n",
    "\n",
    "\n",
    "# Vamos fazer o mesmo que acima mas para a função que envolve listas em vez de arrays\n",
    "MMmax = 10\n",
    "MM = 2 ** np.arange(1, MMmax)\n",
    "\n",
    "rrl = np.zeros(MMmax - 1)\n",
    "for i, M in enumerate(MM):\n",
    "    x = [0.1 + i for i in range(M)]\n",
    "    r = %timeit -n 100 -r 50 -o mandar_fazer(f1, x)\n",
    "    rrl[i] = r.average\n",
    "\n",
    "lentidao = 100 # O método com listas é cerca de 100 vezes mais lento\n",
    "plt.plot(MM, rrl/lentidao, \"o--\")\n",
    "\n",
    "# Mostrar o gráfico\n",
    "plt.xscale(\"log\")\n",
    "plt.yscale(\"log\")\n",
    "plt.show()"
   ]
  },
  {
   "attachments": {},
   "cell_type": "markdown",
   "metadata": {},
   "source": [
    "Neste gráfico conseguimos ver que para valores pequenos de M o custo de computação fixo é a mais importante (corresponde ao custo de chamar a função). Para valores grandes de M o custo fixo é desprezável comparado com os custos variáveis."
   ]
  },
  {
   "attachments": {},
   "cell_type": "markdown",
   "metadata": {},
   "source": [
    "### Interpretar Gráficos log-log\n",
    "O gráfico acima tem ambos os eixos em escalas logaritmicas. Vamos supor que temos uma certa relação linear:\n",
    "\n",
    "$$\n",
    "y = mx\n",
    "$$\n",
    "\n",
    "Num gráfico log-log temos:\n",
    "$$\n",
    "\\ln y = \\ln(mx) = \\ln m + \\ln x\n",
    "$$\n",
    "\n",
    "Ou seja, obtemos sempre retas com o mesmo declive mas com ordenadas na origem diferentes."
   ]
  }
 ],
 "metadata": {
  "kernelspec": {
   "display_name": "Python 3",
   "language": "python",
   "name": "python3"
  },
  "language_info": {
   "codemirror_mode": {
    "name": "ipython",
    "version": 3
   },
   "file_extension": ".py",
   "mimetype": "text/x-python",
   "name": "python",
   "nbconvert_exporter": "python",
   "pygments_lexer": "ipython3",
   "version": "3.11.0"
  },
  "orig_nbformat": 4,
  "vscode": {
   "interpreter": {
    "hash": "d82c1d93bb306390d09f23da3285a8fc51ae2f3168294d711572deb5a95602ca"
   }
  }
 },
 "nbformat": 4,
 "nbformat_minor": 2
}
