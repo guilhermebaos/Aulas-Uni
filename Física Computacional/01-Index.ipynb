{
 "cells": [
  {
   "attachments": {},
   "cell_type": "markdown",
   "metadata": {},
   "source": [
    "# Física Computacional"
   ]
  },
  {
   "attachments": {},
   "cell_type": "markdown",
   "metadata": {},
   "source": [
    "[Notion](https://www.notion.so/guilhermebaos/F-sica-Computacional-644169d6db2d49c38dbbab441ce4b7ae?pvs=4)\n",
    "\n",
    "# Ferramentas\n",
    "\n",
    "Vamos estudar algumas ferramentas úteis para Física Computacional, como:\n",
    "- Python\n",
    "  - Numpy\n",
    "  - Matplotlib\n",
    "  - Sympy\n",
    "\n",
    "<br/>\n",
    "\n",
    "- Jupyter\n",
    "  - Markdown\n",
    "  - LaTeX\n",
    "  - Magias ([Ver mais](https://ipython.readthedocs.io/en/stable/interactive/magics.html))"
   ]
  },
  {
   "cell_type": "code",
   "execution_count": 1,
   "metadata": {},
   "outputs": [
    {
     "name": "stdout",
     "output_type": "stream",
     "text": [
      "6\n"
     ]
    }
   ],
   "source": []
  }
 ],
 "metadata": {
  "kernelspec": {
   "display_name": "Python 3",
   "language": "python",
   "name": "python3"
  },
  "language_info": {
   "codemirror_mode": {
    "name": "ipython",
    "version": 3
   },
   "file_extension": ".py",
   "mimetype": "text/x-python",
   "name": "python",
   "nbconvert_exporter": "python",
   "pygments_lexer": "ipython3",
   "version": "3.11.0"
  },
  "orig_nbformat": 4,
  "vscode": {
   "interpreter": {
    "hash": "d82c1d93bb306390d09f23da3285a8fc51ae2f3168294d711572deb5a95602ca"
   }
  }
 },
 "nbformat": 4,
 "nbformat_minor": 2
}
