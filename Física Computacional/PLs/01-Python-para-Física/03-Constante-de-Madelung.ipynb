{
 "cells": [
  {
   "attachments": {},
   "cell_type": "markdown",
   "metadata": {},
   "source": [
    "# Exercício 3\n",
    "\n",
    "Podemos escrever:\n",
    "\n",
    "$$\n",
    "\\begin{align*}\n",
    "\n",
    "V_\\text{total} &= \\sum V(i, j, k) =\n",
    "\\\\\\\\\n",
    "\n",
    "&= \\sum\\pm\\frac{e}{4\\pi \\varepsilon_0a\\sqrt{i^2+j^2+k^2}} =\n",
    "\\\\\\\\\n",
    "\n",
    "&= \\frac{e}{4\\pi \\varepsilon_0a}\\sum\\frac{\\pm 1}{\\sqrt{i^2+j^2+k^2}}\n",
    "\n",
    "\\end{align*}\n",
    "$$\n",
    "\n",
    "Onde no somatório consideramos todos os valores de $i, j, k \\in \\Z$ tal que $i, j, k \\in [-L, L]$ excluindo $i=j=k=0$. Temos então:\n",
    "\n",
    "$$\n",
    "M = \\sum\\frac{\\pm 1}{\\sqrt{i^2+j^2+k^2}}\n",
    "$$\n",
    "\n",
    "Vamos então calcular a constante de Madelung com um número arbitrário de passos:"
   ]
  },
  {
   "cell_type": "code",
   "execution_count": 5,
   "metadata": {},
   "outputs": [
    {
     "name": "stdout",
     "output_type": "stream",
     "text": [
      "A constante de Madelung é aproximadamente: -1.742\n"
     ]
    }
   ],
   "source": [
    "# Parâmetros\n",
    "L = 100\n",
    "\n",
    "# Calcular a constante M\n",
    "M = 0\n",
    "for i in range(-L, L + 1):\n",
    "    for j in range(-L, L + 1):\n",
    "        for k in range(-L, L + 1):\n",
    "            if i==0 and j==0 and k==0:\n",
    "                continue\n",
    "\n",
    "            if (i+j+k) % 2 == 0:\n",
    "                q = 1\n",
    "            else:\n",
    "                q = -1\n",
    "            \n",
    "            M += q / ((i**2 + j**2 + k**2) ** 0.5)\n",
    "\n",
    "print(f\"A constante de Madelung é aproximadamente: {M:.3f}\")\n",
    "            \n",
    "    "
   ]
  },
  {
   "attachments": {},
   "cell_type": "markdown",
   "metadata": {},
   "source": [
    "Podemos usar a simetria do problema para otimizar a nossa solução:"
   ]
  },
  {
   "cell_type": "code",
   "execution_count": 6,
   "metadata": {},
   "outputs": [
    {
     "name": "stdout",
     "output_type": "stream",
     "text": [
      "A constante de Madelung é aproximadamente: -2.674\n"
     ]
    }
   ],
   "source": [
    "\n",
    "# Calcular a constante M\n",
    "M = 0\n",
    "for i in range(0, L + 1):\n",
    "    for j in range(0, L + 1):\n",
    "        for k in range(0, L + 1):\n",
    "            if i==0 and j==0 and k==0:\n",
    "                continue\n",
    "\n",
    "            if (i+j+k) % 2 == 0:\n",
    "                q = 1\n",
    "            else:\n",
    "                q = -1\n",
    "            \n",
    "            if i != 0:\n",
    "                q *= 2\n",
    "            elif j != 0:\n",
    "                q *= 2\n",
    "            elif k != 0:\n",
    "                q *= 2\n",
    "            \n",
    "            M += q / ((i**2 + j**2 + k**2) ** 0.5)\n",
    "\n",
    "print(f\"A constante de Madelung é aproximadamente: {M:.3f}\")\n",
    "            \n",
    "    "
   ]
  },
  {
   "cell_type": "code",
   "execution_count": null,
   "metadata": {},
   "outputs": [],
   "source": []
  }
 ],
 "metadata": {
  "kernelspec": {
   "display_name": "Python 3",
   "language": "python",
   "name": "python3"
  },
  "language_info": {
   "codemirror_mode": {
    "name": "ipython",
    "version": 3
   },
   "file_extension": ".py",
   "mimetype": "text/x-python",
   "name": "python",
   "nbconvert_exporter": "python",
   "pygments_lexer": "ipython3",
   "version": "3.11.0"
  },
  "orig_nbformat": 4,
  "vscode": {
   "interpreter": {
    "hash": "d82c1d93bb306390d09f23da3285a8fc51ae2f3168294d711572deb5a95602ca"
   }
  }
 },
 "nbformat": 4,
 "nbformat_minor": 2
}
