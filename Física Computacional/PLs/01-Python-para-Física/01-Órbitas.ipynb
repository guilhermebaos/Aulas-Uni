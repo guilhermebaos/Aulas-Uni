{
 "cells": [
  {
   "attachments": {},
   "cell_type": "markdown",
   "metadata": {},
   "source": [
    "# Exercício 1"
   ]
  },
  {
   "attachments": {},
   "cell_type": "markdown",
   "metadata": {},
   "source": [
    "## Alínea 1\n",
    "\n",
    "Como a energia mecânica se conserva temos:\n",
    "\n",
    "$$\n",
    "\\begin{align*}\n",
    "\n",
    "E_1 = E_2 &\\hArr \\frac12mv_1^2 - G\\frac{mM}{\\ell_1} = \\frac12mv_2^2 - G\\frac{mM}{\\ell_2} &\\hArr\n",
    "\\\\\\\\\n",
    "\n",
    "&\\hArr v_1^2 - \\frac{2GM}{\\ell_1} = v_2^2 - \\frac{2GM}{\\ell_2} \\hArr\n",
    "\\\\\\\\\n",
    "\n",
    "&\\hArr v_2^2 - \\frac{2GM}{v_2\\ell_2}v_2 - v_1^2 + \\frac{2GM}{\\ell_1} = 0 \\hArr\n",
    "\\\\\\\\\n",
    "\n",
    "&\\hArr v_2^2 - \\frac{2GM}{v_1\\ell_1}v_2 - v_1^2 + \\frac{2GM}{\\ell_1} = 0\n",
    "\n",
    "\\end{align*}\n",
    "$$\n",
    "\n",
    "Obtemos então a equação pretendida! As suas soluções são:\n",
    "\n",
    "$$\n",
    "\\begin{align*}\n",
    "\n",
    "v_2 &= \\frac{\\frac{2GM}{v_1\\ell_1} \\pm \\sqrt{\\frac{4G^2M^2}{v_1^2\\ell_1^2} + 4\\left[v_1^2 - \\frac{2GM}{\\ell_1}\\right]}}{2} =\n",
    "\\\\\\\\\n",
    "\n",
    "&= \\frac{GM}{v_1\\ell_1} \\pm \\sqrt{\\frac{G^2M^2}{v_1^2\\ell_1^2} + v_1^2 - \\frac{2GM}{\\ell_1}} =\n",
    "\\\\\\\\\n",
    "\n",
    "&= \\frac{GM}{v_1\\ell_1} \\pm \\frac{\\sqrt{G^2M^2 - 2GMv_1^2\\ell_1 + v_1^4\\ell_1^2}}{v_1\\ell_1} =\n",
    "\\\\\\\\\n",
    "\n",
    "&= \\frac{GM \\pm \\sqrt{(GM - v_1^2\\ell_1)^2}}{v_1\\ell_1} =\n",
    "\\\\\\\\\n",
    "\n",
    "&= \\frac{GM \\pm (GM - v_1^2\\ell_1)}{v_1\\ell_1}\n",
    "\n",
    "\\end{align*}\n",
    "$$\n",
    "\n",
    "Temos então duas soluções:\n",
    "- Para $-$ obtemos $v_2 = v_1$\n",
    "- Para $+$ obtemos:\n",
    "$$\n",
    "\n",
    "v_2 = \\frac{2GM}{v_1\\ell_1} - v_1\n",
    "\n",
    "$$\n",
    "\n",
    "Como pela relação $v_1\\ell_1 = v_2\\ell_2$ e como $\\ell_1 < \\ell_2$ temos que $v_1 > v_2$ e por isso v_2 é a menor das raízes acima (o caso $v_1 = v_2$ corresponde a termos órbita circular).\n"
   ]
  },
  {
   "attachments": {},
   "cell_type": "markdown",
   "metadata": {},
   "source": [
    "## Alínea 2\n",
    "\n",
    "Vamos agora determinar os valores pedidos:"
   ]
  },
  {
   "cell_type": "code",
   "execution_count": 7,
   "metadata": {},
   "outputs": [
    {
     "name": "stdout",
     "output_type": "stream",
     "text": [
      "\n",
      "Distância do corpo ao Sol no afélio: 5.28E+12m\n",
      "Velocidade no afélio: 9.07E+02m/s\n",
      "Período: 2.40E+09s\n",
      "Excentricidade: 0.967289 (adimensional)\n",
      "\n",
      "Período: 76.03 anos\n",
      "\n"
     ]
    }
   ],
   "source": [
    "import math\n",
    "\n",
    "# TODOS OS VALORES ESTÃO EM UNIDADES SI\n",
    "\n",
    "# Constantes\n",
    "M = 1.9891e30\n",
    "G = 6.6738e-11\n",
    "pi = math.pi\n",
    "\n",
    "# Pedir valores ao utilizador\n",
    "# l1 = float(input(\"Distância do planeta ao Sol no periélio: \"))\n",
    "# v1 = float(input(\"Velocidade no periélio: \"))\n",
    "\n",
    "# Valores para a Terra\n",
    "# l1 = 1.4710e11\n",
    "# v1 = 3.0287e4\n",
    "\n",
    "# Valores para o Cometa Halley\n",
    "l1 = 8.7830e10\n",
    "v1 = 5.4529e4\n",
    "\n",
    "# Calcular as quantidades\n",
    "v2 = min(v1, (2 * G * M) / (v1 * l1) - v1)\n",
    "l2 = l1 * v1 / v2\n",
    "\n",
    "a = 0.5 * (l1 + l2)\n",
    "b = math.sqrt(l1 * l2)\n",
    "\n",
    "T = (2 * pi * a * b) / (l1 * v1)\n",
    "e = (l2 - l1) / (l2 + l1)\n",
    "\n",
    "# Mostrar quantidades\n",
    "print(f\"\"\"\n",
    "Distância do corpo ao Sol no afélio: {l2:.2E}m\n",
    "Velocidade no afélio: {v2:.2E}m/s\n",
    "Período: {T:.2E}s\n",
    "Excentricidade: {e:4f} (adimensional)\n",
    "\n",
    "Período: {(T/(365.25 * 24 * 3600)):.2f} anos\n",
    "\"\"\")"
   ]
  }
 ],
 "metadata": {
  "kernelspec": {
   "display_name": "Python 3",
   "language": "python",
   "name": "python3"
  },
  "language_info": {
   "codemirror_mode": {
    "name": "ipython",
    "version": 3
   },
   "file_extension": ".py",
   "mimetype": "text/x-python",
   "name": "python",
   "nbconvert_exporter": "python",
   "pygments_lexer": "ipython3",
   "version": "3.11.0"
  },
  "orig_nbformat": 4,
  "vscode": {
   "interpreter": {
    "hash": "d82c1d93bb306390d09f23da3285a8fc51ae2f3168294d711572deb5a95602ca"
   }
  }
 },
 "nbformat": 4,
 "nbformat_minor": 2
}
