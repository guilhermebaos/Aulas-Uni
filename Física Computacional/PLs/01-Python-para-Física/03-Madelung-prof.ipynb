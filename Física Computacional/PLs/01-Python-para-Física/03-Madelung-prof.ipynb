{
 "cells": [
  {
   "cell_type": "code",
   "execution_count": 1,
   "id": "4911a305",
   "metadata": {},
   "outputs": [],
   "source": [
    "import numpy as np\n",
    "import matplotlib.pyplot as plt\n",
    "import math\n",
    "%matplotlib inline"
   ]
  },
  {
   "cell_type": "markdown",
   "id": "cc65327f",
   "metadata": {},
   "source": [
    "# Progressão Aritmética"
   ]
  },
  {
   "cell_type": "markdown",
   "id": "53229bef",
   "metadata": {},
   "source": [
    "\\begin{align}\n",
    "a_{n+1}  & = a_{n} + C \\\\\n",
    "a_{n} & = a_0 + n * C \\\\\n",
    "S_n & = \\sum_{m = 0}^{n-1} a_m\\\\\n",
    "& = \\frac{a_0 + a_{n-1}}{2} n\\\\\n",
    "\\end{align}"
   ]
  },
  {
   "cell_type": "code",
   "execution_count": 2,
   "id": "04f82049",
   "metadata": {},
   "outputs": [
    {
     "name": "stdout",
     "output_type": "stream",
     "text": [
      "34   34.0\n"
     ]
    }
   ],
   "source": [
    "a0 = 4\n",
    "C = 3\n",
    "n = 4\n",
    "soma = 0\n",
    "ai = a0\n",
    "for i in range(n):\n",
    "    soma += ai\n",
    "    ai += C\n",
    "an = a0 + (n-1) * C\n",
    "print(soma, \" \", (a0 + an)/2 * n )"
   ]
  },
  {
   "cell_type": "markdown",
   "id": "303cf17f",
   "metadata": {},
   "source": [
    "# Progressão geométrica"
   ]
  },
  {
   "cell_type": "markdown",
   "id": "094af341",
   "metadata": {},
   "source": [
    "\\begin{align}\n",
    "a_n & = a_{n-1} * r \\\\\n",
    "a_n & = a_0 r^n\n",
    "\\end{align}\n",
    "\n",
    "A soma da progressão geométrica é dada:\n",
    "\\begin{align}\n",
    "S_n & = \\sum_{m = 0}^{n - 1} a_n \\\\\n",
    "    & = a_0 \\frac{1 - r^n}{ 1 - r}\n",
    "\\end{align}"
   ]
  },
  {
   "cell_type": "code",
   "execution_count": 3,
   "id": "b778a946",
   "metadata": {},
   "outputs": [
    {
     "name": "stdout",
     "output_type": "stream",
     "text": [
      "160   160.0\n"
     ]
    }
   ],
   "source": [
    "a0 = 4\n",
    "r = 3\n",
    "n = 4\n",
    "soma = 0\n",
    "\n",
    "for i in range(n):\n",
    "    ai = a0 * r**i\n",
    "    soma += ai\n",
    "print(soma, \" \", a0 * (1 - r**n)/(1 - r) )"
   ]
  },
  {
   "cell_type": "code",
   "execution_count": 4,
   "id": "a11f73d8",
   "metadata": {},
   "outputs": [
    {
     "name": "stdout",
     "output_type": "stream",
     "text": [
      "160   160.0\n"
     ]
    }
   ],
   "source": [
    "a0 = 4\n",
    "r = 3\n",
    "n = 4\n",
    "soma = 0\n",
    "ai = a0\n",
    "for i in range(n):\n",
    "    soma += ai\n",
    "    ai *= r\n",
    "print(soma, \" \", a0 * (1 - r**n)/(1 - r) )"
   ]
  },
  {
   "cell_type": "markdown",
   "id": "79592cb2",
   "metadata": {},
   "source": [
    "# Expansão em série de Taylor"
   ]
  },
  {
   "cell_type": "markdown",
   "id": "9f6edc7e",
   "metadata": {},
   "source": [
    "\\begin{align}\n",
    "exp(x) & = 1 + x + \\frac{x^2}{2} + \\frac{x^3}{3!} + \\cdots \\\\\n",
    "&= \\sum_{n=0}^{+\\infty} \\frac{x^n}{n!}\n",
    "\\end{align}\n",
    "\n",
    "\\begin{align}\n",
    "a_n = \\frac{x^n}{n!} \\\\\n",
    "a_{n-1} = \\frac{x^{n-1}}{(n-1)!} \\\\\n",
    "\\frac{a_n}{a_{n-1}} & = \\frac{ \\frac{x^n}{n!} }{  \\frac{x^{n-1}}{(n-1)!} } \\\\\n",
    "&=  \\frac{x^n  (n-1)! }{ n! x^{n-1} } \\\\\n",
    "& = \\frac{x }{ n }\n",
    "\\end{align}"
   ]
  },
  {
   "cell_type": "code",
   "execution_count": 5,
   "id": "50090df2",
   "metadata": {},
   "outputs": [
    {
     "name": "stdout",
     "output_type": "stream",
     "text": [
      "7.67863550521497e-12\n"
     ]
    }
   ],
   "source": [
    "MAX = 16\n",
    "x = 1.5\n",
    "soma = 0\n",
    "ai = 1\n",
    "for i in range(MAX):\n",
    "    soma += ai\n",
    "    ai *= x/(i + 1)\n",
    "print(abs(1-soma/np.exp(x)))"
   ]
  },
  {
   "cell_type": "code",
   "execution_count": 6,
   "id": "43ee7893",
   "metadata": {},
   "outputs": [
    {
     "data": {
      "image/png": "[encoded data removed]",
      "text/plain": [
       "<Figure size 432x288 with 1 Axes>"
      ]
     },
     "metadata": {
      "needs_background": "light"
     },
     "output_type": "display_data"
    }
   ],
   "source": [
    "XMIN = 0\n",
    "XMAX = 15.\n",
    "NPONTOS = 10\n",
    "x_val = [XMIN +  (XMAX - XMIN)/NPONTOS * i for i in range(NPONTOS + 1)]\n",
    "\n",
    "MAX = 10\n",
    "soma_exp = []\n",
    "exponencial = []\n",
    "for x in x_val:\n",
    "    soma = 0\n",
    "    ai = 1\n",
    "    for i in range(MAX):\n",
    "        soma += ai\n",
    "        ai *= x/(i + 1)\n",
    "    soma_exp.append(soma)\n",
    "    exponencial.append(np.exp(x))\n",
    "plt.plot(x_val,soma_exp,'o')\n",
    "plt.plot(x_val,exponencial,'--')\n",
    "plt.yscale('log')"
   ]
  },
  {
   "cell_type": "code",
   "execution_count": 7,
   "id": "ee85c1e3",
   "metadata": {},
   "outputs": [
    {
     "data": {
      "image/png": "[encoded data removed]",
      "text/plain": [
       "<Figure size 432x288 with 1 Axes>"
      ]
     },
     "metadata": {
      "needs_background": "light"
     },
     "output_type": "display_data"
    }
   ],
   "source": [
    "XMIN = 0.0\n",
    "XMAX = 15.0\n",
    "NPONTOS = 10\n",
    "MAX = 10\n",
    "x = np.linspace(XMIN, XMAX, NPONTOS)\n",
    "exponencial = np.exp(x)\n",
    "soma_exp = np.zeros(NPONTOS, dtype=float) \n",
    "ai = soma_exp + 1.0\n",
    "\n",
    "for i in range(MAX):\n",
    "    soma_exp += ai\n",
    "    ai *= x/(i + 1)\n",
    "plt.plot(x,soma_exp,'o')\n",
    "plt.plot(x,exponencial,'--')\n",
    "plt.yscale('log')"
   ]
  },
  {
   "cell_type": "code",
   "execution_count": 8,
   "id": "c44a301f",
   "metadata": {},
   "outputs": [
    {
     "data": {
      "text/plain": [
       "array([2.4, 2.4, 2.4, 2.4, 2.4, 2.4, 2.4, 2.4, 2.4, 2.4])"
      ]
     },
     "execution_count": 8,
     "metadata": {},
     "output_type": "execute_result"
    }
   ],
   "source": [
    "tmp = np.zeros(NPONTOS, dtype=float)\n",
    "(tmp + 1.0)*2.4"
   ]
  },
  {
   "cell_type": "code",
   "execution_count": 9,
   "id": "db8a329e",
   "metadata": {},
   "outputs": [],
   "source": [
    "def f(x, y):\n",
    "    return x + y"
   ]
  },
  {
   "cell_type": "code",
   "execution_count": 10,
   "id": "a78222ca",
   "metadata": {},
   "outputs": [
    {
     "data": {
      "text/plain": [
       "array([1, 1])"
      ]
     },
     "execution_count": 10,
     "metadata": {},
     "output_type": "execute_result"
    }
   ],
   "source": [
    "f(np.array([0,0]), 1)"
   ]
  },
  {
   "cell_type": "code",
   "execution_count": 11,
   "id": "68e07b44",
   "metadata": {},
   "outputs": [
    {
     "data": {
      "text/plain": [
       "array([2, 2, 2])"
      ]
     },
     "execution_count": 11,
     "metadata": {},
     "output_type": "execute_result"
    }
   ],
   "source": [
    "f(2, np.array([0,0,0]))"
   ]
  },
  {
   "cell_type": "code",
   "execution_count": 12,
   "id": "c5854b17",
   "metadata": {},
   "outputs": [
    {
     "name": "stdout",
     "output_type": "stream",
     "text": [
      "0 1 1 2 3 5 8 \n"
     ]
    }
   ],
   "source": [
    "def fib(n):\n",
    "    \"\"\"\n",
    "    Imprima o serie de Fibonacci ate n\n",
    "    F_0 = 0\n",
    "    F_1 = 1\n",
    "    F_n = F_{n-1} + F_{n-2}  \n",
    "    \"\"\"\n",
    "    a, b = 0, 1\n",
    "    while a < n:\n",
    "        print(a, end=' ')\n",
    "        a, b = b, a + b\n",
    "    print()\n",
    "fib(11)"
   ]
  },
  {
   "cell_type": "code",
   "execution_count": 13,
   "id": "9c75b29f",
   "metadata": {},
   "outputs": [
    {
     "name": "stdout",
     "output_type": "stream",
     "text": [
      "Help on function fib in module __main__:\n",
      "\n",
      "fib(n)\n",
      "    Imprima o serie de Fibonacci ate n\n",
      "    F_0 = 0\n",
      "    F_1 = 1\n",
      "    F_n = F_{n-1} + F_{n-2}\n",
      "\n"
     ]
    }
   ],
   "source": [
    "help(fib)"
   ]
  },
  {
   "cell_type": "code",
   "execution_count": 14,
   "id": "e4441c55",
   "metadata": {},
   "outputs": [
    {
     "data": {
      "text/plain": [
       "20"
      ]
     },
     "execution_count": 14,
     "metadata": {},
     "output_type": "execute_result"
    }
   ],
   "source": [
    "a = 10\n",
    "def f(x):\n",
    "    return a * x\n",
    "f(2)"
   ]
  },
  {
   "cell_type": "markdown",
   "id": "5fdb0098",
   "metadata": {},
   "source": [
    "# Variáveis externas e funções"
   ]
  },
  {
   "cell_type": "code",
   "execution_count": 15,
   "id": "9503c477",
   "metadata": {},
   "outputs": [
    {
     "name": "stdout",
     "output_type": "stream",
     "text": [
      "dentro da funcao: a =  1\n",
      "fora da funcao: a =  2\n",
      "fora da funcao: a =  10\n",
      "dentro da funcao: a =  1\n"
     ]
    }
   ],
   "source": [
    "a = 2\n",
    "def g():\n",
    "    a = 1\n",
    "    print(\"dentro da funcao: a = \", a)\n",
    "g() \n",
    "print(\"fora da funcao: a = \", a)\n",
    "a = 10\n",
    "print(\"fora da funcao: a = \", a)\n",
    "g() "
   ]
  },
  {
   "cell_type": "code",
   "execution_count": 16,
   "id": "0ddbb44a",
   "metadata": {},
   "outputs": [
    {
     "name": "stdout",
     "output_type": "stream",
     "text": [
      "5\n",
      "10\n",
      "6\n"
     ]
    }
   ],
   "source": [
    "i = 5\n",
    "def f(arg = i):\n",
    "    print(arg)\n",
    "i = 6\n",
    "f()\n",
    "f(10)\n",
    "print(i)"
   ]
  },
  {
   "cell_type": "code",
   "execution_count": 17,
   "id": "0e03ea6e",
   "metadata": {},
   "outputs": [
    {
     "name": "stdout",
     "output_type": "stream",
     "text": [
      "10 5\n",
      "10\n",
      "20\n"
     ]
    }
   ],
   "source": [
    "a = 1\n",
    "def f(x):\n",
    "    global a\n",
    "    a = 5\n",
    "    return a * x\n",
    "\n",
    "def f1(x):\n",
    "    return a * x\n",
    "    \n",
    "print(f(2), a)\n",
    "print(f1(2))\n",
    "a = 10\n",
    "print(f1(2))\n"
   ]
  },
  {
   "cell_type": "code",
   "execution_count": 18,
   "id": "a99dfc84",
   "metadata": {},
   "outputs": [
    {
     "name": "stdout",
     "output_type": "stream",
     "text": [
      "1\n",
      "()\n",
      "1\n",
      "(2,)\n",
      "1\n",
      "(2, 3)\n",
      "1\n",
      "(2, 3, 4)\n"
     ]
    }
   ],
   "source": [
    "def f(a, *args):\n",
    "    print(a)\n",
    "    print(args)\n",
    "f(1)\n",
    "f(1,2)\n",
    "f(1,2,3)\n",
    "f(1,2,3,4)\n"
   ]
  },
  {
   "cell_type": "code",
   "execution_count": 19,
   "id": "380cc524",
   "metadata": {},
   "outputs": [
    {
     "name": "stdout",
     "output_type": "stream",
     "text": [
      "12345\n"
     ]
    },
    {
     "data": {
      "text/plain": [
       "'Teste'"
      ]
     },
     "execution_count": 19,
     "metadata": {},
     "output_type": "execute_result"
    }
   ],
   "source": [
    "class MyClass:\n",
    "    \"\"\"\n",
    "    Um classe simples\n",
    "    \"\"\"\n",
    "    i = 12345\n",
    "    \n",
    "    def f(self):\n",
    "        return \"Teste\"\n",
    "\n",
    "a = MyClass()\n",
    "print(a.i)\n",
    "a.f()"
   ]
  },
  {
   "cell_type": "code",
   "execution_count": 20,
   "id": "a43cc2da",
   "metadata": {},
   "outputs": [
    {
     "data": {
      "text/plain": [
       "2.23606797749979"
      ]
     },
     "execution_count": 20,
     "metadata": {},
     "output_type": "execute_result"
    }
   ],
   "source": [
    "class Complex:\n",
    "    def __init__(self, partereal, parteimaginaria):\n",
    "        self.r = partereal\n",
    "        self.i = parteimaginaria\n",
    "    def norma(self):\n",
    "        return (self.r**2 + self.i**2)**0.5\n",
    "\n",
    "z = Complex(1.0,2.0)\n",
    "z.norma()"
   ]
  },
  {
   "cell_type": "markdown",
   "id": "631a180d",
   "metadata": {},
   "source": [
    "# Arrays"
   ]
  },
  {
   "cell_type": "code",
   "execution_count": 21,
   "id": "8367b2ad",
   "metadata": {},
   "outputs": [],
   "source": [
    "AA = np.random.random_sample([4,4])"
   ]
  },
  {
   "cell_type": "code",
   "execution_count": 22,
   "id": "4f78d9c1",
   "metadata": {},
   "outputs": [
    {
     "data": {
      "text/plain": [
       "array([[0.39799879, 0.5325301 , 0.99291416, 0.51198378],\n",
       "       [0.17855931, 0.92993684, 0.72983653, 0.9949846 ],\n",
       "       [0.52337209, 0.53544022, 0.93843751, 0.08777096],\n",
       "       [0.65150097, 0.75443732, 0.43585559, 0.23144451]])"
      ]
     },
     "execution_count": 22,
     "metadata": {},
     "output_type": "execute_result"
    }
   ],
   "source": [
    "AA"
   ]
  },
  {
   "cell_type": "code",
   "execution_count": null,
   "id": "f2f1a8ff",
   "metadata": {},
   "outputs": [],
   "source": []
  },
  {
   "cell_type": "code",
   "execution_count": 23,
   "id": "85c53695",
   "metadata": {},
   "outputs": [
    {
     "name": "stdout",
     "output_type": "stream",
     "text": [
      "[0.17855931 0.92993684 0.72983653 0.9949846 ]\n",
      "[0.5325301  0.92993684 0.53544022 0.75443732]\n"
     ]
    }
   ],
   "source": [
    "print(AA[1,:])\n",
    "print(AA[:,1])"
   ]
  },
  {
   "cell_type": "code",
   "execution_count": 24,
   "id": "cda4142f",
   "metadata": {},
   "outputs": [
    {
     "name": "stdout",
     "output_type": "stream",
     "text": [
      "[[0.17855931 0.92993684 0.72983653 0.9949846 ]\n",
      " [0.65150097 0.75443732 0.43585559 0.23144451]]\n"
     ]
    }
   ],
   "source": [
    "print(AA[[1,3],:])"
   ]
  },
  {
   "cell_type": "code",
   "execution_count": 25,
   "id": "50212a4d",
   "metadata": {},
   "outputs": [
    {
     "name": "stdout",
     "output_type": "stream",
     "text": [
      "[0.92993684 0.72983653]\n"
     ]
    }
   ],
   "source": [
    "print(AA[1,1:-1])"
   ]
  },
  {
   "cell_type": "code",
   "execution_count": 26,
   "id": "5d1f439d",
   "metadata": {},
   "outputs": [
    {
     "name": "stdout",
     "output_type": "stream",
     "text": [
      "[[0.99291416 0.51198378]\n",
      " [0.72983653 0.9949846 ]]\n"
     ]
    }
   ],
   "source": [
    "print(AA[:2,2:])"
   ]
  },
  {
   "cell_type": "code",
   "execution_count": 27,
   "id": "74ec0804",
   "metadata": {},
   "outputs": [],
   "source": [
    "import numpy as np\n",
    "def f1(x):\n",
    "    return np.sin(x)\n",
    "\n",
    "def f2(x):\n",
    "    return x * 2\n",
    "\n",
    "def mandar_fazer1(ff, N):\n",
    "    sum = 0\n",
    "    for i in range(N):\n",
    "        sum += ff(i)\n",
    "    return sum\n",
    "\n",
    "def mandar_fazer2(N):\n",
    "    sum = 0\n",
    "    for i in range(N):\n",
    "        sum += np.sin(i)\n",
    "    return sum\n",
    "\n",
    "def mandar_fazer3(N):\n",
    "    sum = 0\n",
    "    for i in range(N):\n",
    "        sum += 2*i\n",
    "    return sum\n",
    "\n",
    "def mandar_fazer4(N):\n",
    "    return np.sum(np.arange(N,dtype=float) * 2)\n",
    "\n",
    "def mandar_fazer5(N):\n",
    "    return np.sum(np.sin(np.arange(N,dtype=float)))\n"
   ]
  },
  {
   "cell_type": "code",
   "execution_count": 49,
   "id": "a5523309",
   "metadata": {},
   "outputs": [
    {
     "name": "stdout",
     "output_type": "stream",
     "text": [
      "3.09 s ± 0 ns per loop (mean ± std. dev. of 1 run, 1 loop each)\n",
      "2.37 s ± 0 ns per loop (mean ± std. dev. of 1 run, 1 loop each)\n",
      "36.2 ms ± 0 ns per loop (mean ± std. dev. of 1 run, 1 loop each)\n"
     ]
    }
   ],
   "source": [
    "%timeit -r 1 -n 1 mandar_fazer1(f1,1000000)\n",
    "%timeit -r 1 -n 1 mandar_fazer2(1000000)\n",
    "%timeit -r 1 -n 1 mandar_fazer5(1000000)"
   ]
  },
  {
   "cell_type": "code",
   "execution_count": 62,
   "id": "791e2459",
   "metadata": {},
   "outputs": [
    {
     "name": "stdout",
     "output_type": "stream",
     "text": [
      "361 ms ± 4.06 ms per loop (mean ± std. dev. of 2 runs, 1 loop each)\n",
      "226 ms ± 4.02 ms per loop (mean ± std. dev. of 2 runs, 1 loop each)\n",
      "4.44 ms ± 30.6 µs per loop (mean ± std. dev. of 2 runs, 1 loop each)\n"
     ]
    }
   ],
   "source": [
    "%timeit -r 2 -n 1 mandar_fazer1(f2,1000000)\n",
    "%timeit -r 2 -n 1 mandar_fazer3(1000000)\n",
    "%timeit -r 2 -n 1 mandar_fazer4(1000000)\n",
    "resultado = %timeit -q -o -r 10 -n 1 mandar_fazer4(1000000)"
   ]
  },
  {
   "cell_type": "code",
   "execution_count": 63,
   "id": "a69ff3ef",
   "metadata": {},
   "outputs": [
    {
     "data": {
      "text/plain": [
       "[0.00420142599978135,\n",
       " 0.0038511850002578285,\n",
       " 0.004818085999886534,\n",
       " 0.006131141999958345,\n",
       " 0.006155791000310273,\n",
       " 0.006477411000105349,\n",
       " 0.00473664400033158,\n",
       " 0.004528977000063605,\n",
       " 0.006814173999828199,\n",
       " 0.006841153000095801]"
      ]
     },
     "execution_count": 63,
     "metadata": {},
     "output_type": "execute_result"
    }
   ],
   "source": [
    "resultado.timings"
   ]
  },
  {
   "cell_type": "code",
   "execution_count": 79,
   "id": "062f4b78",
   "metadata": {},
   "outputs": [
    {
     "data": {
      "image/png": "[encoded data removed]",
      "text/plain": [
       "<Figure size 432x288 with 1 Axes>"
      ]
     },
     "metadata": {
      "needs_background": "light"
     },
     "output_type": "display_data"
    }
   ],
   "source": [
    "x = 2**np.arange(4,14)\n",
    "tempoL = 0. * x\n",
    "count = 0\n",
    "for k in x:\n",
    "    result = %timeit -q -o -n 40 mandar_fazer1(f1, k)\n",
    "    tempoL[count] = result.average\n",
    "    count += 1\n",
    "plt.plot(x,tempoL,label='chamar uma função que calcula o sin')\n",
    "plt.plot(x, 0.000005*x,'--' )\n",
    "\n",
    "tempoL = 0. * x\n",
    "count = 0\n",
    "for k in x:\n",
    "    result = %timeit -q -o -n 40 mandar_fazer2(k)\n",
    "    tempoL[count] = result.average\n",
    "    count += 1\n",
    "plt.plot(x,tempoL,label='calcular o seno')\n",
    "\n",
    "tempoL = 0. * x\n",
    "count = 0\n",
    "for k in x:\n",
    "    result = %timeit -q -o -n 40 mandar_fazer5(k)\n",
    "    tempoL[count] = result.average\n",
    "    count += 1\n",
    "plt.plot(x,tempoL,label='Usando o numpy')\n",
    "plt.plot(x, 0.000005*x,'--' )\n",
    "\n",
    "plt.xscale('log')\n",
    "plt.yscale('log')"
   ]
  },
  {
   "cell_type": "code",
   "execution_count": 84,
   "id": "b794f6e7",
   "metadata": {},
   "outputs": [
    {
     "data": {
      "text/plain": [
       "<matplotlib.legend.Legend at 0x11e423a60>"
      ]
     },
     "execution_count": 84,
     "metadata": {},
     "output_type": "execute_result"
    },
    {
     "data": {
      "image/png": "[encoded data removed]",
      "text/plain": [
       "<Figure size 432x288 with 1 Axes>"
      ]
     },
     "metadata": {
      "needs_background": "light"
     },
     "output_type": "display_data"
    }
   ],
   "source": [
    "def create_list1(M):\n",
    "    lista = []\n",
    "    for i in range(M):\n",
    "        lista.append(i)\n",
    "    return lista\n",
    "\n",
    "def create_list2(M):\n",
    "    lista = [range(M)]\n",
    "    return lista\n",
    "\n",
    "def create_array(M):\n",
    "    return np.arange(M)\n",
    "\n",
    "\n",
    "x = 2**np.arange(4,20)\n",
    "tempoL = 0. * x\n",
    "count = 0\n",
    "for k in x:\n",
    "    result = %timeit -q -o -n 40 create_list1(k)\n",
    "    tempoL[count] = result.average\n",
    "    count += 1\n",
    "plt.plot(x,tempoL,label='append')\n",
    "\n",
    "tempoL = 0. * x\n",
    "count = 0\n",
    "for k in x:\n",
    "    result = %timeit -q -o -n 40 create_list2(k)\n",
    "    tempoL[count] = result.average\n",
    "    count += 1\n",
    "plt.plot(x,tempoL,label=' list - range')\n",
    "\n",
    "tempoL = 0. * x\n",
    "count = 0\n",
    "for k in x:\n",
    "    result = %timeit -q -o -n 40 create_array(k)\n",
    "    tempoL[count] = result.average\n",
    "    count += 1\n",
    "plt.plot(x,tempoL,label='Usando o numpy')\n",
    "\n",
    "plt.xscale('log')\n",
    "plt.yscale('log')\n",
    "plt.legend()\n"
   ]
  },
  {
   "cell_type": "code",
   "execution_count": 35,
   "id": "d904ff32",
   "metadata": {},
   "outputs": [
    {
     "data": {
      "text/plain": [
       "<TimeitResult : 11.1 ms ± 480 µs per loop (mean ± std. dev. of 7 runs, 100 loops each)>"
      ]
     },
     "execution_count": 35,
     "metadata": {},
     "output_type": "execute_result"
    }
   ],
   "source": [
    "result"
   ]
  },
  {
   "cell_type": "code",
   "execution_count": 88,
   "id": "8cfca141",
   "metadata": {},
   "outputs": [
    {
     "name": "stdout",
     "output_type": "stream",
     "text": [
      "12.9 s ± 0 ns per loop (mean ± std. dev. of 1 run, 1 loop each)\n"
     ]
    }
   ],
   "source": [
    "def Madelung(L):\n",
    "    \"\"\"\n",
    "    Funcao que funciona mas comete todos os erros de eficiencia possiveis\n",
    "    \"\"\"\n",
    "    sum = 0\n",
    "    for i in range(2*L + 1):\n",
    "        for j in range(2*L + 1):\n",
    "            for k in range(2*L + 1):\n",
    "                if( i != L or j != L or k != L ):\n",
    "                    if((i + j + k) % 2 == 0):\n",
    "                        sum += 1/np.sqrt( (i - L)**2 + (j - L)**2 + (k - L)**2)\n",
    "                    else:\n",
    "                        sum -= 1/np.sqrt((i - L)**2 + (j - L)**2 + (k - L)**2)\n",
    "    return sum        \n",
    "%timeit -n 1 -r1 Madelung(70)"
   ]
  },
  {
   "cell_type": "code",
   "execution_count": 91,
   "id": "4c7e7a22",
   "metadata": {},
   "outputs": [
    {
     "name": "stdout",
     "output_type": "stream",
     "text": [
      "-1.746411047642649\n",
      "-1.746411047642649\n",
      "-1.746411047642649\n",
      "-1.746411047642649\n",
      "2.8 s ± 640 ms per loop (mean ± std. dev. of 4 runs, 1 loop each)\n"
     ]
    }
   ],
   "source": [
    "def Madelung(L):\n",
    "    \"\"\"\n",
    "    Tirar partido de algumas simetrias e vectorizacao\n",
    "    \"\"\"\n",
    "    plane = np.zeros([L + 1, L + 1])\n",
    "    signal = np.zeros([L + 1, L + 1])\n",
    "    for i in range(L + 1):\n",
    "        for j in range( L + 1):\n",
    "            plane[i,j] = i**2 + j**2\n",
    "            signal[i,j] = 1 - 2*((i + j)%2)\n",
    "\n",
    "    sum = 0\n",
    "    for k in range(1,L + 1):\n",
    "        sum += np.sum((1 - 2*(k%2))*signal[1:,1:]/np.sqrt(plane[1:,1:] + k**2))\n",
    "\n",
    "\n",
    "    sum *= 8\n",
    "    sum += 12 * np.sum(signal[1:,1:]/np.sqrt(plane[1:,1:]))\n",
    "    sum += 6 * np.sum(signal[1:,0]/np.sqrt(plane[1:,0]))\n",
    "    print(sum)\n",
    "    return sum        \n",
    "tempo = %timeit -n1 -r4 -o value=Madelung(500)"
   ]
  },
  {
   "cell_type": "code",
   "execution_count": 2,
   "id": "fd019cfb",
   "metadata": {},
   "outputs": [],
   "source": [
    "import numpy as np"
   ]
  },
  {
   "cell_type": "code",
   "execution_count": 3,
   "id": "927eb32f",
   "metadata": {},
   "outputs": [
    {
     "name": "stdout",
     "output_type": "stream",
     "text": [
      "-1.7466031453932231\n",
      "-1.7466031453932231\n",
      "-1.7466031453932231\n",
      "-1.7466031453932231\n",
      "1.96 s ± 369 ms per loop (mean ± std. dev. of 4 runs, 1 loop each)\n"
     ]
    }
   ],
   "source": [
    "def Madelung3(L):\n",
    "    \"\"\"\n",
    "    Adicionei a simetria da troca de i com j\n",
    "    \"\"\"\n",
    "    diagonal = np.zeros(L)\n",
    "    triangle = np.zeros(L *(L - 1)//2,dtype=np.dtype('f8'))\n",
    "    signal = np.zeros(L *(L - 1)//2)\n",
    "    line = np.arange(1, L + 1)\n",
    "    signal_line = 1 - 2*(line%2) \n",
    "    count = 0\n",
    "    for i in range(L):\n",
    "        diagonal[i] = 2*(i + 1)**2\n",
    "        for j in range(i + 1, L):\n",
    "            triangle[count] = (i + 1)**2 + (j + 1)**2\n",
    "            signal[count] = 1 - 2*((i + j)%2)\n",
    "            count += 1\n",
    "    sum = 0.\n",
    "    for k in range(1,L + 1):\n",
    "        sum += 16*(1 - 2*(k%2)) * np.sum(signal/np.sqrt(triangle + k**2))\n",
    "        sum += 8*(1 - 2*(k%2)) * np.sum(1./np.sqrt(diagonal + k**2))    \n",
    "    sum += 12 * ( 2 * np.sum(signal/np.sqrt(triangle)) + np.sum(1./np.sqrt(diagonal)))\n",
    "    \n",
    "    sum += 6 * np.sum(signal_line * 1./line)\n",
    "    print(sum)\n",
    "    return sum\n",
    "\n",
    "tempo = %timeit -n1 -r4 -o value=Madelung3(600) "
   ]
  },
  {
   "cell_type": "code",
   "execution_count": null,
   "id": "cef47458",
   "metadata": {},
   "outputs": [],
   "source": []
  }
 ],
 "metadata": {
  "kernelspec": {
   "display_name": "Python 3 (ipykernel)",
   "language": "python",
   "name": "python3"
  },
  "language_info": {
   "codemirror_mode": {
    "name": "ipython",
    "version": 3
   },
   "file_extension": ".py",
   "mimetype": "text/x-python",
   "name": "python",
   "nbconvert_exporter": "python",
   "pygments_lexer": "ipython3",
   "version": "3.11.0"
  }
 },
 "nbformat": 4,
 "nbformat_minor": 5
}
