{
 "cells": [
  {
   "attachments": {},
   "cell_type": "markdown",
   "metadata": {},
   "source": [
    "# Exercício 2\n",
    "\n",
    "Vamos agora calcular os números de Catalan até um limite arbitrário:"
   ]
  },
  {
   "cell_type": "code",
   "execution_count": 10,
   "metadata": {},
   "outputs": [
    {
     "name": "stdout",
     "output_type": "stream",
     "text": [
      "Número indíce 0 é 1\n",
      "Número indíce 1 é 1\n",
      "Número indíce 2 é 2\n",
      "Número indíce 3 é 5\n",
      "Número indíce 4 é 14\n",
      "Número indíce 5 é 42\n",
      "Número indíce 6 é 132\n",
      "Número indíce 7 é 429\n",
      "Número indíce 8 é 1430\n",
      "Número indíce 9 é 4862\n",
      "Número indíce 10 é 16796\n",
      "Número indíce 11 é 58786\n",
      "Número indíce 12 é 208012\n",
      "Número indíce 13 é 742900\n",
      "Número indíce 14 é 2674440\n",
      "Número indíce 15 é 9694845\n",
      "Número indíce 16 é 35357670\n",
      "Número indíce 17 é 129644790\n",
      "Número indíce 18 é 477638700\n",
      "Número indíce 19 é 1767263190\n"
     ]
    }
   ],
   "source": [
    "# Limite\n",
    "N = int(1e9)\n",
    "\n",
    "# Função que calcula os números pedidos\n",
    "nums = [1]\n",
    "\n",
    "\n",
    "def catalan(n):\n",
    "    global nums\n",
    "    \n",
    "    # Último valor guardado\n",
    "    last_index = len(nums) - 1\n",
    "    start = nums[last_index]\n",
    "\n",
    "    # Avançar do último valor guardado até ao valor pedido\n",
    "    for i in range(last_index, n):\n",
    "        start *= (4 * i + 2) / (i + 2)\n",
    "        nums += [start]\n",
    "    return int(start)\n",
    "\n",
    "# Gerar todos os números até N\n",
    "i = 0\n",
    "while True:\n",
    "    ci = catalan(i)\n",
    "    print(f\"Número indíce {i} é {ci}\")\n",
    "    i += 1\n",
    "    if ci > N:\n",
    "        break"
   ]
  },
  {
   "cell_type": "code",
   "execution_count": null,
   "metadata": {},
   "outputs": [],
   "source": []
  }
 ],
 "metadata": {
  "kernelspec": {
   "display_name": "Python 3",
   "language": "python",
   "name": "python3"
  },
  "language_info": {
   "codemirror_mode": {
    "name": "ipython",
    "version": 3
   },
   "file_extension": ".py",
   "mimetype": "text/x-python",
   "name": "python",
   "nbconvert_exporter": "python",
   "pygments_lexer": "ipython3",
   "version": "3.11.0"
  },
  "orig_nbformat": 4,
  "vscode": {
   "interpreter": {
    "hash": "d82c1d93bb306390d09f23da3285a8fc51ae2f3168294d711572deb5a95602ca"
   }
  }
 },
 "nbformat": 4,
 "nbformat_minor": 2
}
