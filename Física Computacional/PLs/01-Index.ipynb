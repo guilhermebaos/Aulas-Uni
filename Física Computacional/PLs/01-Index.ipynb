{
 "cells": [
  {
   "attachments": {},
   "cell_type": "markdown",
   "metadata": {},
   "source": [
    "# Exercícios\n",
    "\n",
    "Os exercícios estão [aqui](https://www.notion.so/guilhermebaos/1-Folha-de-Problemas-34224d29e20644f9bd41cc20a5c0afc2?pvs=4#56990ac4e0c04915a9458e6e5a27d899)."
   ]
  },
  {
   "cell_type": "markdown",
   "metadata": {},
   "source": []
  }
 ],
 "metadata": {
  "language_info": {
   "name": "python"
  },
  "orig_nbformat": 4
 },
 "nbformat": 4,
 "nbformat_minor": 2
}
