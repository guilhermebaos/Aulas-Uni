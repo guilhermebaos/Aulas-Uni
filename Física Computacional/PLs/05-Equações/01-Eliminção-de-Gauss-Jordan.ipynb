{
 "cells": [
  {
   "attachments": {},
   "cell_type": "markdown",
   "metadata": {},
   "source": [
    "# Exercício 1"
   ]
  },
  {
   "cell_type": "code",
   "execution_count": 59,
   "metadata": {},
   "outputs": [],
   "source": [
    "import numpy as np"
   ]
  },
  {
   "cell_type": "code",
   "execution_count": 60,
   "metadata": {},
   "outputs": [],
   "source": [
    "def gaussjordan(Ao: np.ndarray) -> np.ndarray:\n",
    "    \"\"\"\n",
    "        Devolve a matriz inversa de A.\n",
    "    \"\"\"\n",
    "\n",
    "    # Evitar side effects\n",
    "    A = np.copy(Ao)\n",
    "\n",
    "    N = A.shape[0]\n",
    "    I = np.identity(N)\n",
    "\n",
    "    # Eliminação Gaussiana\n",
    "    for i in range(N-1):\n",
    "        div = A[i][i]\n",
    "        for j in range(i+1, N):\n",
    "            coef = A[j][i] / div\n",
    "            A[j] -= A[i] * coef\n",
    "            I[j] -= I[i] * coef\n",
    "        \n",
    "        if i == 2:\n",
    "            print(A[3, 5])\n",
    "            print(I[3, 5])\n",
    "    \n",
    "    # Eliminação Gaussiana ao contrário\n",
    "    for i in range(N-1, -1, -1):\n",
    "        div = A[i][i]\n",
    "        for j in range(i-1, -1, -1):\n",
    "            coef = A[j][i] / div\n",
    "            A[j] -= A[i] * coef\n",
    "            I[j] -= I[i] * coef\n",
    "    \n",
    "    # Normalizar A e I\n",
    "    for i in range(N-1):\n",
    "        div = A[i][i]\n",
    "        A[i, :] /= div\n",
    "        I[i, :] /= div\n",
    "    \n",
    "\n",
    "    # print(A)\n",
    "    # print(I)\n",
    "    \n",
    "    return I"
   ]
  },
  {
   "cell_type": "code",
   "execution_count": 61,
   "metadata": {},
   "outputs": [],
   "source": [
    "M = np.array([2, 9, 6, 8, 6, 2, 6, 8, 8, 8, 3, 4, 1, 8, 9, 1, 4, 5, 2, 5, 0, 0, 9, 6, 7, 1, 0, 4, 6, 1, 6, 2, 8, 1, 1, 9], dtype=np.float64)\n",
    "\n",
    "M = np.reshape(M, (6, 6))"
   ]
  },
  {
   "cell_type": "code",
   "execution_count": 62,
   "metadata": {},
   "outputs": [
    {
     "name": "stdout",
     "output_type": "stream",
     "text": [
      "7.822784810126581\n",
      "0.0\n",
      "[[  1.91165121   0.14367266  -2.28512418   1.48304983  -1.9752051\n",
      "    1.74335364]\n",
      " [  1.82330242   1.28734531  -4.57024837   2.96609965  -3.95041019\n",
      "    3.48670728]\n",
      " [  2.27912802   0.35918164  -4.71281046   3.70762457  -4.93801274\n",
      "    4.3583841 ]\n",
      " [  2.73495363   0.43101797  -6.85537255   5.44914948  -5.92561529\n",
      "    5.23006092]\n",
      " [  0.4558256    0.07183633  -1.14256209   0.74152491   0.01239745\n",
      "    0.87167682]\n",
      " [  4.10243044   0.64652695 -10.28305882   6.67372422  -8.88842294\n",
      "    8.84509139]]\n"
     ]
    }
   ],
   "source": [
    "Minv = gaussjordan(M)\n",
    "\n",
    "print(M @ Minv)"
   ]
  },
  {
   "cell_type": "code",
   "execution_count": null,
   "metadata": {},
   "outputs": [],
   "source": []
  }
 ],
 "metadata": {
  "kernelspec": {
   "display_name": "Python 3",
   "language": "python",
   "name": "python3"
  },
  "language_info": {
   "codemirror_mode": {
    "name": "ipython",
    "version": 3
   },
   "file_extension": ".py",
   "mimetype": "text/x-python",
   "name": "python",
   "nbconvert_exporter": "python",
   "pygments_lexer": "ipython3",
   "version": "3.11.0"
  },
  "orig_nbformat": 4
 },
 "nbformat": 4,
 "nbformat_minor": 2
}
