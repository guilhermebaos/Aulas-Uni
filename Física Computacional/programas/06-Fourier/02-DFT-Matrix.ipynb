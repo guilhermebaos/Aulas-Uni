{
 "cells": [
  {
   "attachments": {},
   "cell_type": "markdown",
   "metadata": {},
   "source": [
    "# Transformada Discreta de Fourier"
   ]
  },
  {
   "cell_type": "code",
   "execution_count": 91,
   "metadata": {},
   "outputs": [],
   "source": [
    "from typing import Callable\n",
    "import numpy as np\n",
    "import matplotlib.pyplot as plt"
   ]
  },
  {
   "cell_type": "markdown",
   "metadata": {},
   "source": [
    "# Calcular a Matriz DFT"
   ]
  },
  {
   "cell_type": "code",
   "execution_count": 92,
   "metadata": {},
   "outputs": [],
   "source": [
    "def dftmatrix(N: int, real: bool=True):\n",
    "    \"\"\"\n",
    "        Devolve a matriz DFT de tamanho `N` por `N`. Se `real == True` então devolve apenas as primeiras `N//2 + 1` linhas da matriz preenchidas, pois são essas as linhas necessárias para obter os coeficientes de um vetor de números reais.\n",
    "    \"\"\"\n",
    "\n",
    "    # Matriz\n",
    "    W = np.ones((N, N), dtype=np.complex128)\n",
    "\n",
    "    # Frequência fundamental\n",
    "    omega = np.exp(-2 * np.pi * 1j / N)\n",
    "\n",
    "    # Primeira linha com elementos diferentes de 1\n",
    "    linha = np.array([omega ** j for j in range(0, N)])\n",
    "\n",
    "    # Construir a matriz\n",
    "    if real:\n",
    "        for i in range(0, N//2 + 1):\n",
    "            W[i, :] = linha ** i\n",
    "\n",
    "    else:\n",
    "        for i in range(0, N):\n",
    "            W[i, :] = linha ** i\n",
    "    \n",
    "    return W"
   ]
  },
  {
   "cell_type": "markdown",
   "metadata": {},
   "source": [
    "# Calcular a Matriz IDFT"
   ]
  },
  {
   "cell_type": "code",
   "execution_count": 93,
   "metadata": {},
   "outputs": [],
   "source": [
    "def idftmatrix(N: int):\n",
    "    \"\"\"\n",
    "        Devolve a matriz IDFT de tamanho `N` por `N`. Se `real == True` então devolve apenas as primeiras `N//2 + 1` linhas da matriz preenchidas, pois são essas as linhas necessárias para obter os coeficientes de um vetor de números reais.\n",
    "    \"\"\"\n",
    "\n",
    "    # Matriz\n",
    "    W = np.ones((N, N), dtype=np.complex128)\n",
    "\n",
    "    # Frequência fundamental\n",
    "    omega = np.exp(2 * np.pi * 1j / N)\n",
    "\n",
    "    # Primeira linha com elementos diferentes de 1\n",
    "    linha = np.array([omega ** j for j in range(0, N)])\n",
    "    \n",
    "    # Construir a matriz\n",
    "    for i in range(0, N):\n",
    "        W[i, :] = linha ** i\n",
    "    \n",
    "    return W / N"
   ]
  },
  {
   "attachments": {},
   "cell_type": "markdown",
   "metadata": {},
   "source": [
    "# Fazer a Transformada"
   ]
  },
  {
   "cell_type": "code",
   "execution_count": 94,
   "metadata": {},
   "outputs": [],
   "source": [
    "def dft(yn: np.ndarray, W: np.ndarray, real: bool=True) -> np.ndarray:\n",
    "    \"\"\"\n",
    "        Devolve os `N = len(yn)` primeiros coeficientes da Transformada de Fourier Discreta da sequência de números `yn` dada a matriz DFT N por N `W`. Se `real == True` então assume que os números são reais e usa isso para calcular apenas metade dos coeficientes.\n",
    "    \"\"\"\n",
    "\n",
    "    # Determinar N\n",
    "    N = len(yn)\n",
    "\n",
    "    # Determinar os coeficientes\n",
    "    if real:\n",
    "        # Calcular os coeficientes por definição\n",
    "        ck = np.zeros(N, dtype=np.complex128)\n",
    "        ck[:(N//2) + 1] = (W @ yn)[:(N//2) + 1]\n",
    "\n",
    "        # Usar o facto de termos números reais para obter logo a outra metade dos coeficientes\n",
    "        for k in range(1, N//2 + 1):\n",
    "            ck[N - k] = np.conjugate(ck[k])\n",
    "\n",
    "        return ck\n",
    "    \n",
    "    else:\n",
    "        # Calcular os coeficientes por definição\n",
    "        return W @ yn"
   ]
  },
  {
   "attachments": {},
   "cell_type": "markdown",
   "metadata": {},
   "source": [
    "# Fazer a Transformada Inversa"
   ]
  },
  {
   "cell_type": "code",
   "execution_count": 95,
   "metadata": {},
   "outputs": [],
   "source": [
    "def idft(ck: np.ndarray, iW: np.ndarray) -> np.ndarray:\n",
    "    \"\"\"\n",
    "        Devolve os `N = len(ck)` valores obtidos ao fazer a Transformada de Fourier Discreta Inversa da sequência de números `ck` dada a matriz IDFT `iW`.\n",
    "    \"\"\"\n",
    "\n",
    "    # Guardar os coeficientes\n",
    "    N = len(ck)\n",
    "\n",
    "    return iW @ ck"
   ]
  },
  {
   "attachments": {},
   "cell_type": "markdown",
   "metadata": {},
   "source": [
    "# Testar as Funções"
   ]
  },
  {
   "cell_type": "markdown",
   "metadata": {},
   "source": [
    "## Construir as Matrizes"
   ]
  },
  {
   "cell_type": "code",
   "execution_count": 96,
   "metadata": {},
   "outputs": [
    {
     "name": "stdout",
     "output_type": "stream",
     "text": [
      "[[ 1.+0.j  1.+0.j  1.+0.j  1.+0.j]\n",
      " [ 1.+0.j  0.-1.j -1.-0.j -0.+1.j]\n",
      " [ 1.+0.j -1.-0.j  1.+0.j -1.-0.j]\n",
      " [ 1.+0.j -0.+1.j -1.-0.j  0.-1.j]]\n"
     ]
    }
   ],
   "source": [
    "# Parâmetro\n",
    "N = 4\n",
    "\n",
    "W = dftmatrix(N, real=False)\n",
    "print(np.array_str(W, precision=2, suppress_small=True))"
   ]
  },
  {
   "cell_type": "code",
   "execution_count": 97,
   "metadata": {},
   "outputs": [
    {
     "name": "stdout",
     "output_type": "stream",
     "text": [
      "Largest difference is: 1.1985848907555554e-16\n"
     ]
    }
   ],
   "source": [
    "print(f\"Largest difference is: {np.max(np.abs(np.linalg.inv(W) - idftmatrix(N)))}\")"
   ]
  },
  {
   "cell_type": "markdown",
   "metadata": {},
   "source": [
    "## Fazer a DFT"
   ]
  },
  {
   "cell_type": "code",
   "execution_count": 98,
   "metadata": {},
   "outputs": [],
   "source": [
    "def f(x: np.ndarray) -> np.ndarray:\n",
    "    return x\n",
    "\n",
    "\n",
    "N = 10\n",
    "tt = np.linspace(0, 1, N)\n",
    "yy = f(tt)\n",
    "\n",
    "isreal = True"
   ]
  },
  {
   "cell_type": "markdown",
   "metadata": {},
   "source": [
    "Vamos verificar que `dft(yn) = np.dft(yy)`."
   ]
  },
  {
   "cell_type": "code",
   "execution_count": 99,
   "metadata": {},
   "outputs": [
    {
     "name": "stdout",
     "output_type": "stream",
     "text": [
      "Diferença máxima foi de 1.355e-15\n"
     ]
    }
   ],
   "source": [
    "ck = dft(yy, dftmatrix(N), real=isreal)\n",
    "cknp = np.fft.fft(yy)\n",
    "\n",
    "print(f\"Diferença máxima foi de {np.max(np.abs(ck - cknp)):.3e}\")"
   ]
  },
  {
   "cell_type": "markdown",
   "metadata": {},
   "source": [
    "Vamos verificar que `dft(yn) = np.dft(yy)`."
   ]
  },
  {
   "cell_type": "code",
   "execution_count": 100,
   "metadata": {},
   "outputs": [
    {
     "name": "stdout",
     "output_type": "stream",
     "text": [
      "Diferença máxima foi de 6.777e-16\n"
     ]
    }
   ],
   "source": [
    "ck = idft(yy, idftmatrix(N))\n",
    "cknp = np.fft.ifft(yy)\n",
    "\n",
    "print(f\"Diferença máxima foi de {np.max(np.abs(ck - cknp)):.3e}\")"
   ]
  },
  {
   "attachments": {},
   "cell_type": "markdown",
   "metadata": {},
   "source": [
    "Vamos verificar que `idft(dft(yn)) = yy`."
   ]
  },
  {
   "cell_type": "code",
   "execution_count": 101,
   "metadata": {},
   "outputs": [
    {
     "name": "stdout",
     "output_type": "stream",
     "text": [
      "\n",
      "Diferença máxima foi de 1.848e-15\n"
     ]
    }
   ],
   "source": [
    "ck = dft(yy, dftmatrix(N))\n",
    "yy2 = idft(ck, idftmatrix(N))\n",
    "\n",
    "print(f\"\\nDiferença máxima foi de {np.max(np.abs(yy2 - yy)):.3e}\")"
   ]
  },
  {
   "cell_type": "markdown",
   "metadata": {},
   "source": [
    "Podemos comparar este último resultado com o erro obtido usando `numpy`."
   ]
  },
  {
   "cell_type": "code",
   "execution_count": 102,
   "metadata": {},
   "outputs": [
    {
     "name": "stdout",
     "output_type": "stream",
     "text": [
      "\n",
      "Diferença máxima foi de 1.675e-16\n"
     ]
    }
   ],
   "source": [
    "ck = np.fft.fft(yy)\n",
    "yy2 = np.fft.ifft(ck)\n",
    "\n",
    "print(f\"\\nDiferença máxima foi de {np.max(np.abs(yy2 - yy)):.3e}\")"
   ]
  }
 ],
 "metadata": {
  "kernelspec": {
   "display_name": "Python 3",
   "language": "python",
   "name": "python3"
  },
  "language_info": {
   "codemirror_mode": {
    "name": "ipython",
    "version": 3
   },
   "file_extension": ".py",
   "mimetype": "text/x-python",
   "name": "python",
   "nbconvert_exporter": "python",
   "pygments_lexer": "ipython3",
   "version": "3.11.0"
  },
  "orig_nbformat": 4
 },
 "nbformat": 4,
 "nbformat_minor": 2
}
