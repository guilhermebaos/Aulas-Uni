{
 "cells": [
  {
   "attachments": {},
   "cell_type": "markdown",
   "metadata": {},
   "source": [
    "# Transformada Discreta de Fourier"
   ]
  },
  {
   "cell_type": "code",
   "execution_count": 51,
   "metadata": {},
   "outputs": [],
   "source": [
    "from typing import Callable\n",
    "import numpy as np\n",
    "import matplotlib.pyplot as plt"
   ]
  },
  {
   "attachments": {},
   "cell_type": "markdown",
   "metadata": {},
   "source": [
    "# Fazer a Transformada"
   ]
  },
  {
   "cell_type": "code",
   "execution_count": 52,
   "metadata": {},
   "outputs": [],
   "source": [
    "def dft(yn: np.ndarray, real: bool=True) -> np.ndarray:\n",
    "    \"\"\"\n",
    "        Devolve os `N = len(yn)` primeiros coeficientes da Transformada de Fourier Discreta da sequência de números `yn`. Se `real == True` então assume que os números são reais e usa isso para calcular apenas metade dos coeficientes.\n",
    "    \"\"\"\n",
    "\n",
    "    # Determinar N\n",
    "    N = len(yn)\n",
    "\n",
    "    # Determinar os coeficientes\n",
    "    if real:\n",
    "\n",
    "        # Guardar os coeficientes\n",
    "        nn = np.arange(N)\n",
    "        kk = np.arange(N//2 + 1)\n",
    "        \n",
    "        # Calcular os coeficientes por definição\n",
    "        ck = np.zeros(N, dtype=np.complex128)\n",
    "        ck[:(N//2) + 1] = np.exp(-2j * np.pi * np.outer(kk, nn) / N) @ yn\n",
    "\n",
    "        # Usar o facto de termos números reais para obter logo a outra metade dos coeficientes\n",
    "        for k in range(1, N//2 + 1):\n",
    "            ck[N - k] = np.conjugate(ck[k])\n",
    "\n",
    "        return ck\n",
    "    \n",
    "    else:\n",
    "\n",
    "        # Guardar os coeficientes\n",
    "        nn = np.arange(N)\n",
    "        kk = np.arange(N)\n",
    "        \n",
    "        # Calcular os coeficientes por definição\n",
    "        return np.exp(-2j * np.pi * np.outer(kk, nn) / N) @ yn"
   ]
  },
  {
   "attachments": {},
   "cell_type": "markdown",
   "metadata": {},
   "source": [
    "# Fazer a Transformada Inversa"
   ]
  },
  {
   "cell_type": "code",
   "execution_count": 53,
   "metadata": {},
   "outputs": [],
   "source": [
    "def idft(ck: np.ndarray) -> np.ndarray:\n",
    "    \"\"\"\n",
    "        Devolve os `N = len(ck)` valores obtidos ao fazer a Transformada de Fourier Discreta Inversa da sequência de números `ck`.\n",
    "    \"\"\"\n",
    "\n",
    "    # Guardar os coeficientes\n",
    "    N = len(ck)\n",
    "\n",
    "    nn = np.arange(N)\n",
    "    kk = np.arange(N)\n",
    "\n",
    "    return np.exp(2j * np.pi * np.outer(kk, nn) / N) @ ck / N"
   ]
  },
  {
   "attachments": {},
   "cell_type": "markdown",
   "metadata": {},
   "source": [
    "# Testar as Funções"
   ]
  },
  {
   "cell_type": "code",
   "execution_count": 54,
   "metadata": {},
   "outputs": [],
   "source": [
    "def f(x: np.ndarray) -> np.ndarray:\n",
    "    return x\n",
    "\n",
    "\n",
    "N = 10\n",
    "tt = np.linspace(0, 1, N+1)\n",
    "yy = f(tt)\n",
    "\n",
    "isreal = True"
   ]
  },
  {
   "cell_type": "markdown",
   "metadata": {},
   "source": [
    "Vamos verificar que `dft(yn) = np.dft(yy)`."
   ]
  },
  {
   "cell_type": "code",
   "execution_count": 55,
   "metadata": {},
   "outputs": [
    {
     "name": "stdout",
     "output_type": "stream",
     "text": [
      "Diferença máxima foi de 4.023e-15\n"
     ]
    }
   ],
   "source": [
    "ck = dft(yy, real=isreal)\n",
    "cknp = np.fft.fft(yy)\n",
    "\n",
    "print(f\"Diferença máxima foi de {np.max(np.abs(ck - cknp)):.3e}\")"
   ]
  },
  {
   "cell_type": "markdown",
   "metadata": {},
   "source": [
    "Vamos verificar que `dft(yn) = np.dft(yy)`."
   ]
  },
  {
   "cell_type": "code",
   "execution_count": 56,
   "metadata": {},
   "outputs": [
    {
     "name": "stdout",
     "output_type": "stream",
     "text": [
      "Diferença máxima foi de 6.607e-16\n"
     ]
    }
   ],
   "source": [
    "ck = idft(yy)\n",
    "cknp = np.fft.ifft(yy)\n",
    "\n",
    "print(f\"Diferença máxima foi de {np.max(np.abs(ck - cknp)):.3e}\")"
   ]
  },
  {
   "attachments": {},
   "cell_type": "markdown",
   "metadata": {},
   "source": [
    "Vamos verificar que `idft(dft(yn)) = yy`."
   ]
  },
  {
   "cell_type": "code",
   "execution_count": 57,
   "metadata": {},
   "outputs": [
    {
     "name": "stdout",
     "output_type": "stream",
     "text": [
      "\n",
      "Diferença máxima foi de 1.988e-15\n"
     ]
    }
   ],
   "source": [
    "ck = dft(yy)\n",
    "yy2 = idft(ck)\n",
    "\n",
    "print(f\"\\nDiferença máxima foi de {np.max(np.abs(yy2 - yy)):.3e}\")"
   ]
  },
  {
   "cell_type": "markdown",
   "metadata": {},
   "source": [
    "Podemos comparar este último resultado com o erro obtido usando `numpy`."
   ]
  },
  {
   "cell_type": "code",
   "execution_count": 58,
   "metadata": {},
   "outputs": [
    {
     "name": "stdout",
     "output_type": "stream",
     "text": [
      "\n",
      "Diferença máxima foi de 1.665e-16\n"
     ]
    }
   ],
   "source": [
    "ck = np.fft.fft(yy)\n",
    "yy2 = np.fft.ifft(ck)\n",
    "\n",
    "print(f\"\\nDiferença máxima foi de {np.max(np.abs(yy2 - yy)):.3e}\")"
   ]
  }
 ],
 "metadata": {
  "kernelspec": {
   "display_name": "Python 3",
   "language": "python",
   "name": "python3"
  },
  "language_info": {
   "codemirror_mode": {
    "name": "ipython",
    "version": 3
   },
   "file_extension": ".py",
   "mimetype": "text/x-python",
   "name": "python",
   "nbconvert_exporter": "python",
   "pygments_lexer": "ipython3",
   "version": "3.11.0"
  },
  "orig_nbformat": 4
 },
 "nbformat": 4,
 "nbformat_minor": 2
}
