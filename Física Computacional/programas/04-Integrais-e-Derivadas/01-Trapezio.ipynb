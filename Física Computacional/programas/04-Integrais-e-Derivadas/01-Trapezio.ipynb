{
 "cells": [
  {
   "cell_type": "markdown",
   "metadata": {},
   "source": [
    "# Regra do Trapézio"
   ]
  },
  {
   "cell_type": "code",
   "execution_count": 1,
   "metadata": {},
   "outputs": [],
   "source": [
    "from typing import Callable\n",
    "import numpy as np\n",
    "import matplotlib.pyplot as plt"
   ]
  },
  {
   "attachments": {},
   "cell_type": "markdown",
   "metadata": {},
   "source": [
    "# Regra do Trapézio"
   ]
  },
  {
   "cell_type": "code",
   "execution_count": 2,
   "metadata": {},
   "outputs": [],
   "source": [
    "def trapezio(start: float, end: float, func: Callable, N: int, final: bool = False) -> (float | tuple[np.ndarray, np.ndarray]):\n",
    "    \"\"\"\n",
    "        Calcula o integral de `func` de `start` a `end` com N passos usando a regra do trapézio. Devolve apenas o valor final se `final == True`.\n",
    "    \"\"\"\n",
    "\n",
    "    # Abcissas\n",
    "    h = (end - start) / N\n",
    "    tt = np.linspace(start, end, N + 1)\n",
    "    vv = func(tt)\n",
    "\n",
    "    # Área dos trapézios\n",
    "    aa = (vv[:-1] + vv[1:]) / 2\n",
    "    integral = h * np.concatenate((np.array([0]), aa.cumsum()))\n",
    "\n",
    "    if final:\n",
    "        return integral[-1]\n",
    "\n",
    "    else:\n",
    "        return tt, integral"
   ]
  },
  {
   "attachments": {},
   "cell_type": "markdown",
   "metadata": {},
   "source": [
    "# Regra do Trapézio Adaptativa"
   ]
  },
  {
   "cell_type": "code",
   "execution_count": 3,
   "metadata": {},
   "outputs": [],
   "source": [
    "def trapezioA(start: float, end: float, func: Callable, eps: float = 1e-6, maxN: int = 10_000) -> float:\n",
    "    \"\"\"\n",
    "        Calcula o integral de `func` de `start` a `end` usando a regra do trapézio adaptativa com no máximo `maxN` fatias.\n",
    "    \"\"\"\n",
    "\n",
    "    # Integral para N = 1\n",
    "    N1 = 1\n",
    "    h1 = (end - start) / N1\n",
    "    I1 = h1 * (func(start) + func(end)) / 2\n",
    "\n",
    "    # Usar o método adaptativo\n",
    "    erro = eps + 1\n",
    "    while abs(erro) > eps:\n",
    "        # Calcular o próximo integral\n",
    "        N2 = N1 * 2\n",
    "        h2 = h1 / 2\n",
    "        xx = start + np.arange(1, N2, 2) * h2\n",
    "        ff = func(xx)\n",
    "\n",
    "        I2 = I1 / 2 + h2 * ff.sum()\n",
    "\n",
    "        # Estimar o erro\n",
    "        erro = (I2 - I1) / 3\n",
    "\n",
    "        # print(f\"Para N = {N2} o valor do integral é {I2} e o erro é cerca de {erro}\")\n",
    "\n",
    "        # O I2 atual é o próximo I1\n",
    "        N1, h1, I1 = N2, h2, I2\n",
    "\n",
    "        if N1 > maxN:\n",
    "            raise ValueError(f\"Não foi possível calcular o integral com a precisão desejada com menos de maxN = {maxN} fatias!\")\n",
    "    \n",
    "    return I1"
   ]
  },
  {
   "attachments": {},
   "cell_type": "markdown",
   "metadata": {},
   "source": [
    "# Método de Romberg com Regra do Trapézio\n",
    "\n",
    "Neste programa estamos a usar o truque que desenvolvemos no método adaptativo para calcular integrais com o dobro dos passos para otimizar o cálculo de integrais!"
   ]
  },
  {
   "cell_type": "code",
   "execution_count": 4,
   "metadata": {},
   "outputs": [],
   "source": [
    "def rombergT(start: float, end: float, func: Callable, eps: float = 1e-6, N1: int = 1, maxN: int = 10_000) -> float:\n",
    "    \"\"\"\n",
    "        Calcula o integral de `func` de `start` a `end` usando integração de Romberg com base na regra do trapézio começando com `N1` fatias e usando no máximo `maxN` fatias.\n",
    "    \"\"\"\n",
    "\n",
    "    # Matriz com as últimas duas linhas da matriz R_{i, j}\n",
    "    RRnow = []\n",
    "    RRprev = []\n",
    "\n",
    "    # Calcular R_{0, 0}\n",
    "    h1 = (end - start) / N1\n",
    "    RRprev += [h1 * (func(start) + func(end)) / 2]\n",
    "\n",
    "    \n",
    "    # Queremos calcular R_{i, i}\n",
    "    i = 1\n",
    "\n",
    "    # Usar o método de Romberg\n",
    "    erro = eps + 1\n",
    "    while abs(erro) > abs(eps):\n",
    "        # O número de passos que damos duplica\n",
    "        N2 = N1 * 2\n",
    "        h2 = h1 / 2\n",
    "\n",
    "        # Os novos passos estão a meio dos passos anteriores\n",
    "        xx = start + np.arange(1, N2, 2) * h2\n",
    "        ff = func(xx)\n",
    "\n",
    "        # Calcular R_{i, 1} usando o resultado guardado em R_{i-1, 0}\n",
    "        RRnow += [RRprev[0] / 2 + h2 * ff.sum()]\n",
    "\n",
    "\n",
    "        # Calcular R_{i, j+1}, pelo que j+1 vai de 1 até i \n",
    "        for j in range(0, i):\n",
    "            RRnow += [RRnow[j] + (RRnow[j] - RRprev[j]) / (4**(j+1) - 1)]\n",
    "        \n",
    "        # Estimar o erro de R_{i, i}\n",
    "        erro = (RRnow[i-1] - RRprev[i-1]) / (4**i-1)\n",
    "\n",
    "        # print(f\"Para N = {N2} o valor do integral é {RR[i][i]} e o erro é cerca de {erro}\")\n",
    "\n",
    "        # O I2 atual é o próximo I1\n",
    "        N1, h1 = N2, h2\n",
    "        RRprev, RRnow = RRnow.copy(), []\n",
    "\n",
    "        # Aumentar i\n",
    "        i += 1\n",
    "\n",
    "        if N1 > maxN:\n",
    "            raise ValueError(f\"Não foi possível calcular o integral com a precisão desejada com menos de maxN = {maxN} fatias!\")\n",
    "    \n",
    "    return RRprev[i-1]"
   ]
  },
  {
   "cell_type": "markdown",
   "metadata": {},
   "source": [
    "# Regra do Trapézio 2D"
   ]
  },
  {
   "cell_type": "code",
   "execution_count": 5,
   "metadata": {},
   "outputs": [],
   "source": [
    "def trapezio2d(xlim: tuple[float, float], ylim: tuple[float, float], func: Callable, N: tuple[int, int]) -> (float | tuple[np.ndarray, np.ndarray]):\n",
    "    \"\"\"\n",
    "        Calcula o integral de `func(x, y)` no bloco onde x está no intervalo `xlim` e y no intervalo `ylim` com `N[0]` passos segundo x e `N[1]` passos segundo y usando a regra do trapézio.\n",
    "    \"\"\"\n",
    "    \n",
    "    # Verificar que N é par\n",
    "    Nx, Ny = N\n",
    "\n",
    "    # Abcissas\n",
    "    hx = (xlim[1] - xlim[0]) / Nx\n",
    "    hy = (ylim[1] - ylim[0]) / Ny\n",
    "\n",
    "    # Grelha de pontos\n",
    "    xx = np.linspace(xlim[0], xlim[1], Nx + 1)\n",
    "    yy = np.linspace(ylim[0], ylim[1], Ny + 1)\n",
    "\n",
    "    # Pesos do Trapézio\n",
    "    wx = np.ones_like(xx)\n",
    "    wx[1:Nx] = 2\n",
    "    wx *= hx / 2\n",
    "\n",
    "    wy = np.ones_like(yy)\n",
    "    wy[1:Ny] = 2\n",
    "    wy *= hy / 2\n",
    "\n",
    "    # Meshgrid da grelha e dos pesos\n",
    "    xm, ym = np.meshgrid(xx, yy, sparse=True)\n",
    "    wxm, wym = np.meshgrid(wx, wy, sparse=True)\n",
    "\n",
    "    # Calcular o integral\n",
    "    return np.sum(func(xm, ym) * wxm * wym)"
   ]
  },
  {
   "attachments": {},
   "cell_type": "markdown",
   "metadata": {},
   "source": [
    "# Testar\n",
    "\n",
    "Vamos fazer uma bateria de testes a este métodos!"
   ]
  },
  {
   "cell_type": "code",
   "execution_count": 6,
   "metadata": {},
   "outputs": [],
   "source": [
    "from testes import testeintegral"
   ]
  },
  {
   "cell_type": "code",
   "execution_count": 7,
   "metadata": {},
   "outputs": [
    {
     "name": "stdout",
     "output_type": "stream",
     "text": [
      "Regra do Trapézio\n",
      "\n",
      "Integral de x de 0 a 1\n",
      "Valor obtido: 0.5000000000000001.\n",
      "Valor esperado: 0.5.\n",
      "Diferença relativa: 2.22e-14%\n",
      "\n",
      "\n",
      "\n",
      "Integral de x^2 de 0 a 1\n",
      "Valor obtido: 0.3350000000000001.\n",
      "Valor esperado: 0.3333333333333333.\n",
      "Diferença relativa: 5.00e-01%\n",
      "\n",
      "\n",
      "\n",
      "Integral de x^4 - 2x + 1 de 0 a 2\n",
      "Valor obtido: 4.50656.\n",
      "Valor esperado: 4.4.\n",
      "Diferença relativa: 2.42e+00%\n",
      "\n",
      "\n",
      "\n",
      "Integral de sin(x) de 0 a pi\n",
      "Valor obtido: 1.9835235375094544.\n",
      "Valor esperado: 2.\n",
      "Diferença relativa: 8.24e-01%\n"
     ]
    }
   ],
   "source": [
    "print(\"Regra do Trapézio\\n\")\n",
    "testeintegral(lambda start, end, func, N: trapezio(start, end, func, N, True), 10)"
   ]
  },
  {
   "cell_type": "code",
   "execution_count": 8,
   "metadata": {},
   "outputs": [
    {
     "name": "stdout",
     "output_type": "stream",
     "text": [
      "Regra do Trapézio Adaptativa\n",
      "\n",
      "Integral de x de 0 a 1\n",
      "Valor obtido: 0.5.\n",
      "Valor esperado: 0.5.\n",
      "Diferença relativa: 0.00e+00%\n",
      "\n",
      "\n",
      "\n",
      "Integral de x^2 de 0 a 1\n",
      "Valor obtido: 0.3359375.\n",
      "Valor esperado: 0.3333333333333333.\n",
      "Diferença relativa: 7.81e-01%\n",
      "\n",
      "\n",
      "\n",
      "Integral de x^4 - 2x + 1 de 0 a 2\n",
      "Valor obtido: 4.402604103088379.\n",
      "Valor esperado: 4.4.\n",
      "Diferença relativa: 5.92e-02%\n",
      "\n",
      "\n",
      "\n",
      "Integral de sin(x) de 0 a pi\n",
      "Valor obtido: 1.9935703437723395.\n",
      "Valor esperado: 2.\n",
      "Diferença relativa: 3.21e-01%\n"
     ]
    }
   ],
   "source": [
    "print(\"Regra do Trapézio Adaptativa\\n\")\n",
    "testeintegral(lambda start, end, func, N: trapezioA(start, end, func, eps=1e-2), 10)\n",
    "\n",
    "# Em todos os casos o erro é de facto menor que eps!"
   ]
  },
  {
   "cell_type": "code",
   "execution_count": 9,
   "metadata": {},
   "outputs": [
    {
     "name": "stdout",
     "output_type": "stream",
     "text": [
      "Romberg com Trapézio\n",
      "\n",
      "Integral de x de 0 a 1\n",
      "Valor obtido: 0.5.\n",
      "Valor esperado: 0.5.\n",
      "Diferença relativa: 0.00e+00%\n",
      "\n",
      "\n",
      "\n",
      "Integral de x^2 de 0 a 1\n",
      "Valor obtido: 0.3333333333333333.\n",
      "Valor esperado: 0.3333333333333333.\n",
      "Diferença relativa: 0.00e+00%\n",
      "\n",
      "\n",
      "\n",
      "Integral de x^4 - 2x + 1 de 0 a 2\n",
      "Valor obtido: 4.4.\n",
      "Valor esperado: 4.4.\n",
      "Diferença relativa: 0.00e+00%\n",
      "\n",
      "\n",
      "\n",
      "Integral de sin(x) de 0 a pi\n",
      "Valor obtido: 1.9985707318238357.\n",
      "Valor esperado: 2.\n",
      "Diferença relativa: 7.15e-02%\n"
     ]
    }
   ],
   "source": [
    "print(\"Romberg com Trapézio\\n\")\n",
    "testeintegral(lambda start, end, func, N: rombergT(start, end, func, eps=1e-2), 10)\n",
    "\n",
    "# Em todos os casos o erro é de facto menor que eps!"
   ]
  },
  {
   "cell_type": "code",
   "execution_count": 10,
   "metadata": {},
   "outputs": [
    {
     "name": "stdout",
     "output_type": "stream",
     "text": [
      "Regra do Trapézio 2D\n",
      "\n",
      "Integral de x num quadrado com x, y em [0, 1]\n",
      "Valor obtido: 0.5.\n",
      "Valor esperado: 0.5.\n",
      "Diferença relativa: 0.00e+00%\n",
      "\n",
      "\n",
      "\n",
      "Integral de x^2 + y^2 num quadrado com x, y em [0, 1]\n",
      "Valor obtido: 0.6667000000000001.\n",
      "Valor esperado: 0.6666666666666666.\n",
      "Diferença relativa: 5.00e-03%\n",
      "\n",
      "\n",
      "\n",
      "Integral de xy + sin(x) + cos(2y) num quadrado com x, y em [0, 1]\n",
      "Valor obtido: 1.164327421666051.\n",
      "Valor esperado: 1.1643464075447012.\n",
      "Diferença relativa: 1.63e-03%\n",
      "\n",
      "\n",
      "\n"
     ]
    }
   ],
   "source": [
    "from testes import testeintegral2d\n",
    "\n",
    "print(\"Regra do Trapézio 2D\\n\")\n",
    "testeintegral2d(trapezio2d, (100, 100))"
   ]
  }
 ],
 "metadata": {
  "kernelspec": {
   "display_name": "Python 3",
   "language": "python",
   "name": "python3"
  },
  "language_info": {
   "codemirror_mode": {
    "name": "ipython",
    "version": 3
   },
   "file_extension": ".py",
   "mimetype": "text/x-python",
   "name": "python",
   "nbconvert_exporter": "python",
   "pygments_lexer": "ipython3",
   "version": "3.11.0"
  },
  "orig_nbformat": 4
 },
 "nbformat": 4,
 "nbformat_minor": 2
}
