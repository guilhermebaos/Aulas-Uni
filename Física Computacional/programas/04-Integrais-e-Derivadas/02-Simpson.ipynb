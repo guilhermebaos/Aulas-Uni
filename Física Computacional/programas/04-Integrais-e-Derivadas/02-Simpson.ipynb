{
 "cells": [
  {
   "attachments": {},
   "cell_type": "markdown",
   "metadata": {},
   "source": [
    "# Regra de Simpson"
   ]
  },
  {
   "cell_type": "code",
   "execution_count": 1,
   "metadata": {},
   "outputs": [],
   "source": [
    "from typing import Callable\n",
    "import numpy as np\n",
    "import matplotlib.pyplot as plt"
   ]
  },
  {
   "cell_type": "markdown",
   "metadata": {},
   "source": [
    "# Regra de Simpson"
   ]
  },
  {
   "cell_type": "code",
   "execution_count": 2,
   "metadata": {},
   "outputs": [],
   "source": [
    "def simpson(start: float, end: float, func: Callable, N: int, final: bool = False) -> (float | tuple[np.ndarray, np.ndarray]):\n",
    "    \"\"\"\n",
    "        Calcula o integral de `func` de `start` a `end` com N passos usando a regra de Simpson. Devolve apenas o valor final se `final == True`.\n",
    "    \"\"\"\n",
    "    \n",
    "    # Verificar que N é par\n",
    "    N = (N//2) * 2\n",
    "\n",
    "    # Abcissas\n",
    "    h = (end - start) / N\n",
    "    tt = np.linspace(start, end, N + 1)\n",
    "    vv = func(tt)\n",
    "\n",
    "    # Área segmentos\n",
    "    aa = vv[:-2:2] + 4 * vv[1:-1:2] + vv[2: :2]\n",
    "    integral = h * (aa.cumsum()) / 3\n",
    "\n",
    "    if final:\n",
    "        return integral[-1]\n",
    "\n",
    "    else:\n",
    "        return tt, integral"
   ]
  },
  {
   "attachments": {},
   "cell_type": "markdown",
   "metadata": {},
   "source": [
    "# Regra de Simpson Adaptativa"
   ]
  },
  {
   "cell_type": "code",
   "execution_count": 3,
   "metadata": {},
   "outputs": [],
   "source": [
    "def simpsonA(start: float, end: float, func: Callable, eps = 1e-6, maxN: int = 10_000) -> float:\n",
    "    \"\"\"\n",
    "        Calcula o integral de `func` de `start` a `end` usando a regra de Simpson adaptativa começando com duas fatias e usando no máximo `maxN` fatias.\n",
    "    \"\"\"\n",
    "\n",
    "    # Integral para N = 2\n",
    "    N1 = 2\n",
    "    h1 = (end - start) / N1\n",
    "\n",
    "    S1 = (func(start) + func(end)) / 3\n",
    "    T1 = 2 * func(start + h1) / 3\n",
    "    I1 = h1 * (S1 + 2 * T1)\n",
    "\n",
    "    # Usar o método adaptativo\n",
    "    erro = eps + 1\n",
    "    while abs(erro) > abs(eps):\n",
    "        # Calcular o próximo integral\n",
    "        N2 = N1 * 2\n",
    "        h2 = h1 / 2\n",
    "\n",
    "        S2 = S1 + T1\n",
    "        T2 = 2 * np.sum(func(start + np.arange(1, N2 + 1, 2) * h2)) / 3     # O último elemento do arange é N2-1\n",
    "        I2 = h2 * (S2 + 2 * T2)\n",
    "\n",
    "        # Estimar o erro\n",
    "        erro = (I2 - I1) / 15\n",
    "\n",
    "        # print(f\"Para N = {N2} o valor do integral é {I2} e o erro é cerca de {erro}\")\n",
    "\n",
    "        # O I2 atual é o próximo I1\n",
    "        N1, h1, T1, S1, I1 = N2, h2, T2, S2, I2\n",
    "        \n",
    "        if N1 > maxN:\n",
    "            raise ValueError(f\"Não foi possível calcular o integral com a precisão desejada com menos de maxN = {maxN} fatias!\")\n",
    "    \n",
    "    return I1"
   ]
  },
  {
   "attachments": {},
   "cell_type": "markdown",
   "metadata": {},
   "source": [
    "# Método de Romberg com Regra de Simpson\n",
    "\n",
    "Neste programa estamos a usar o truque que desenvolvemos no método adaptativo para calcular integrais com o dobro dos passos para otimizar o cálculo de integrais!"
   ]
  },
  {
   "cell_type": "code",
   "execution_count": 4,
   "metadata": {},
   "outputs": [],
   "source": [
    "def rombergS(start: float, end: float, func: Callable, eps: float = 1e-6, maxN: int = 10_000) -> float:\n",
    "    \"\"\"\n",
    "        Calcula o integral de `func` de `start` a `end` usando integração de Romberg com base na regra do trapézio começando com duas fatias e usando no máximo `maxN` fatias.\n",
    "    \"\"\"\n",
    "\n",
    "    # Matriz com as últimas duas linhas da matriz R_{i, j}\n",
    "    RRnow = []\n",
    "    RRprev = []\n",
    "\n",
    "    # Calcular R_{0, 0}\n",
    "    N1 = 2\n",
    "    h1 = (end - start) / N1\n",
    "\n",
    "    S1 = (func(start) + func(end)) / 3\n",
    "    T1 = 2 * func(start + h1) / 3\n",
    "    I1 = h1 * (S1 + 2 * T1)\n",
    "\n",
    "    RRprev += [I1]\n",
    "\n",
    "    \n",
    "    # Queremos calcular R_{i, i}\n",
    "    i = 1\n",
    "\n",
    "    # Usar o método de Romberg\n",
    "    erro = eps + 1\n",
    "    while abs(erro) > abs(eps):\n",
    "        # O número de passos que damos duplica\n",
    "        N2 = N1 * 2\n",
    "        h2 = h1 / 2\n",
    "\n",
    "        # Calcular o novo integral\n",
    "        S2 = S1 + T1\n",
    "        T2 = 2 * np.sum(func(start + np.arange(1, N2 + 1, 2) * h2)) / 3\n",
    "        I2 = h2 * (S2 + 2 * T2)\n",
    "\n",
    "        # Guardar R_{i, 1}\n",
    "        RRnow += [I2]\n",
    "\n",
    "\n",
    "        # Calcular R_{i, j+1}, pelo que j+1 vai de 1 até i \n",
    "        for j in range(0, i):\n",
    "            RRnow += [RRnow[j] + (RRnow[j] - RRprev[j]) / (4**(j+2) - 1)]\n",
    "        \n",
    "        # Estimar o erro de R_{i, i}\n",
    "        erro = (RRnow[i-1] - RRprev[i-1]) / (4**(i+1)-1)\n",
    "\n",
    "        # print(f\"Para N = {N2} o valor do integral é {RR[i][i]} e o erro é cerca de {erro}\")\n",
    "\n",
    "        # O I2 atual é o próximo I1\n",
    "        N1, h1, T1, S1, I1 = N2, h2, T2, S2, I2\n",
    "        RRprev, RRnow = RRnow.copy(), []\n",
    "\n",
    "        # Aumentar i\n",
    "        i += 1\n",
    "\n",
    "        if N1 > maxN:\n",
    "            raise ValueError(f\"Não foi possível calcular o integral com a precisão desejada com menos de maxN = {maxN} fatias!\")\n",
    "    \n",
    "    return RRprev[i-1]"
   ]
  },
  {
   "attachments": {},
   "cell_type": "markdown",
   "metadata": {},
   "source": [
    "# Regra de Simpson 2D"
   ]
  },
  {
   "cell_type": "code",
   "execution_count": 5,
   "metadata": {},
   "outputs": [],
   "source": [
    "def simpson2d(xlim: tuple[float, float], ylim: tuple[float, float], func: Callable, N: tuple[int, int]) -> (float | tuple[np.ndarray, np.ndarray]):\n",
    "    \"\"\"\n",
    "        Calcula o integral de `func(x, y)` no bloco onde x está no intervalo `xlim` e y no intervalo `ylim` com `N[0]` passos segundo x e `N[1]` passos segundo y usando a regra de Simpson.\n",
    "    \"\"\"\n",
    "    \n",
    "    # Verificar que N é par\n",
    "    Nx = (N[0]//2) * 2\n",
    "    Ny = (N[1]//2) * 2\n",
    "\n",
    "    # Abcissas\n",
    "    hx = (xlim[1] - xlim[0]) / Nx\n",
    "    hy = (ylim[1] - ylim[0]) / Ny\n",
    "\n",
    "    # Grelha de pontos\n",
    "    xx = np.linspace(xlim[0], xlim[1], Nx + 1)\n",
    "    yy = np.linspace(ylim[0], ylim[1], Ny + 1)\n",
    "\n",
    "    # Pesos de Simpson\n",
    "    wx = np.ones_like(xx)\n",
    "    wx[1:Nx:2] = 4\n",
    "    wx[2:Nx:2] = 2\n",
    "    wx *= hx / 3\n",
    "\n",
    "    wy = np.ones_like(yy)\n",
    "    wy[1:Ny:2] = 4\n",
    "    wy[2:Ny:2] = 2\n",
    "    wy *= hy / 3\n",
    "\n",
    "    # Meshgrid da grelha e dos pesos\n",
    "    xm, ym = np.meshgrid(xx, yy, sparse=True)\n",
    "    wxm, wym = np.meshgrid(wx, wy, sparse=True)\n",
    "\n",
    "    # Calcular o integral\n",
    "    return np.sum(func(xm, ym) * wxm * wym)"
   ]
  },
  {
   "cell_type": "markdown",
   "metadata": {},
   "source": [
    "# Testar\n",
    "\n",
    "Vamos fazer uma bateria de testes a este métodos!"
   ]
  },
  {
   "cell_type": "code",
   "execution_count": 6,
   "metadata": {},
   "outputs": [],
   "source": [
    "from testes import testeintegral"
   ]
  },
  {
   "cell_type": "code",
   "execution_count": 7,
   "metadata": {},
   "outputs": [
    {
     "name": "stdout",
     "output_type": "stream",
     "text": [
      "Regra de Simpson\n",
      "\n",
      "Integral de x de 0 a 1\n",
      "Valor obtido: 0.5000000000000001.\n",
      "Valor esperado: 0.5.\n",
      "Diferença relativa: 2.22e-14%\n",
      "\n",
      "\n",
      "\n",
      "Integral de x^2 de 0 a 1\n",
      "Valor obtido: 0.3333333333333334.\n",
      "Valor esperado: 0.3333333333333333.\n",
      "Diferença relativa: 3.33e-14%\n",
      "\n",
      "\n",
      "\n",
      "Integral de x^4 - 2x + 1 de 0 a 2\n",
      "Valor obtido: 4.400426666666668.\n",
      "Valor esperado: 4.4.\n",
      "Diferença relativa: 9.70e-03%\n",
      "\n",
      "\n",
      "\n",
      "Integral de sin(x) de 0 a pi\n",
      "Valor obtido: 2.0001095173150043.\n",
      "Valor esperado: 2.\n",
      "Diferença relativa: 5.48e-03%\n"
     ]
    }
   ],
   "source": [
    "print(\"Regra de Simpson\\n\")\n",
    "testeintegral(lambda start, end, func, N: simpson(start, end, func, N, True), 10)"
   ]
  },
  {
   "cell_type": "code",
   "execution_count": 8,
   "metadata": {},
   "outputs": [
    {
     "name": "stdout",
     "output_type": "stream",
     "text": [
      "Regra de Simpson Adaptativa\n",
      "\n",
      "Integral de x de 0 a 1\n",
      "Valor obtido: 0.5.\n",
      "Valor esperado: 0.5.\n",
      "Diferença relativa: 0.00e+00%\n",
      "\n",
      "\n",
      "\n",
      "Integral de x^2 de 0 a 1\n",
      "Valor obtido: 0.33333333333333337.\n",
      "Valor esperado: 0.3333333333333333.\n",
      "Diferença relativa: 1.67e-14%\n",
      "\n",
      "\n",
      "\n",
      "Integral de x^4 - 2x + 1 de 0 a 2\n",
      "Valor obtido: 4.4000002543131504.\n",
      "Valor esperado: 4.4.\n",
      "Diferença relativa: 5.78e-06%\n",
      "\n",
      "\n",
      "\n",
      "Integral de sin(x) de 0 a pi\n",
      "Valor obtido: 2.0000000645300022.\n",
      "Valor esperado: 2.\n",
      "Diferença relativa: 3.23e-06%\n"
     ]
    }
   ],
   "source": [
    "print(\"Regra de Simpson Adaptativa\\n\")\n",
    "testeintegral(lambda start, end, func, N: simpsonA(start, end, func, 1e-6), 10)\n",
    "\n",
    "# Em todos os casos o erro é de facto menor que eps!"
   ]
  },
  {
   "cell_type": "code",
   "execution_count": 9,
   "metadata": {},
   "outputs": [
    {
     "name": "stdout",
     "output_type": "stream",
     "text": [
      "Romberg com Simpson\n",
      "\n",
      "Integral de x de 0 a 1\n",
      "Valor obtido: 0.5.\n",
      "Valor esperado: 0.5.\n",
      "Diferença relativa: 0.00e+00%\n",
      "\n",
      "\n",
      "\n",
      "Integral de x^2 de 0 a 1\n",
      "Valor obtido: 0.33333333333333337.\n",
      "Valor esperado: 0.3333333333333333.\n",
      "Diferença relativa: 1.67e-14%\n",
      "\n",
      "\n",
      "\n",
      "Integral de x^4 - 2x + 1 de 0 a 2\n",
      "Valor obtido: 4.3999999999999995.\n",
      "Valor esperado: 4.4.\n",
      "Diferença relativa: 2.02e-14%\n",
      "\n",
      "\n",
      "\n",
      "Integral de sin(x) de 0 a pi\n",
      "Valor obtido: 1.9985707318238362.\n",
      "Valor esperado: 2.\n",
      "Diferença relativa: 7.15e-02%\n"
     ]
    }
   ],
   "source": [
    "print(\"Romberg com Simpson\\n\")\n",
    "testeintegral(lambda start, end, func, N: rombergS(start, end, func, eps=1e-2), 10)\n",
    "\n",
    "# Em todos os casos o erro é de facto menor que eps!"
   ]
  },
  {
   "cell_type": "code",
   "execution_count": 10,
   "metadata": {},
   "outputs": [
    {
     "name": "stdout",
     "output_type": "stream",
     "text": [
      "Regra de Simpson 2D\n",
      "\n",
      "Integral de x num quadrado com x, y em [0, 1]\n",
      "Valor obtido: 0.5000000000000001.\n",
      "Valor esperado: 0.5.\n",
      "Diferença relativa: 2.22e-14%\n",
      "\n",
      "\n",
      "\n",
      "Integral de x^2 + y^2 num quadrado com x, y em [0, 1]\n",
      "Valor obtido: 0.6666666666666667.\n",
      "Valor esperado: 0.6666666666666666.\n",
      "Diferença relativa: 1.67e-14%\n",
      "\n",
      "\n",
      "\n",
      "Integral de xy + sin(x) + cos(2y) num quadrado com x, y em [0, 1]\n",
      "Valor obtido: 1.1643464079743917.\n",
      "Valor esperado: 1.1643464075447012.\n",
      "Diferença relativa: 3.69e-08%\n",
      "\n",
      "\n",
      "\n"
     ]
    }
   ],
   "source": [
    "from testes import testeintegral2d\n",
    "\n",
    "print(\"Regra de Simpson 2D\\n\")\n",
    "testeintegral2d(simpson2d, (100, 100))"
   ]
  }
 ],
 "metadata": {
  "kernelspec": {
   "display_name": "Python 3",
   "language": "python",
   "name": "python3"
  },
  "language_info": {
   "codemirror_mode": {
    "name": "ipython",
    "version": 3
   },
   "file_extension": ".py",
   "mimetype": "text/x-python",
   "name": "python",
   "nbconvert_exporter": "python",
   "pygments_lexer": "ipython3",
   "version": "3.11.0"
  },
  "orig_nbformat": 4
 },
 "nbformat": 4,
 "nbformat_minor": 2
}
