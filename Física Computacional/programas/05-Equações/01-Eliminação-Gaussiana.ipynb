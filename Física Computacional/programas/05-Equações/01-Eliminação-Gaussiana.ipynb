{
 "cells": [
  {
   "attachments": {},
   "cell_type": "markdown",
   "metadata": {},
   "source": [
    "# Eliminação Gaussiana\n",
    "\n",
    "Aqui vamos chamar eliminação gaussiana caso o algoritmo transforma a matriz de coeficientes numa matriz triangular superior e eliminação de Gauss-Jordan caso transforme a matriz dos coeficientes numa matriz diagonal."
   ]
  },
  {
   "cell_type": "code",
   "execution_count": 681,
   "metadata": {},
   "outputs": [],
   "source": [
    "from typing import Callable\n",
    "import numpy as np\n",
    "import matplotlib.pyplot as plt"
   ]
  },
  {
   "attachments": {},
   "cell_type": "markdown",
   "metadata": {},
   "source": [
    "# Eliminação Gaussiana\n",
    "Algoritmos para resolver sistemas de equações lineares com eliminação gaussiana."
   ]
  },
  {
   "attachments": {},
   "cell_type": "markdown",
   "metadata": {},
   "source": [
    "## Sem Pivotagem"
   ]
  },
  {
   "cell_type": "code",
   "execution_count": 682,
   "metadata": {},
   "outputs": [],
   "source": [
    "def gausselim(Ao: np.ndarray, bbo: np.ndarray) -> np.ndarray:\n",
    "    \"\"\"\n",
    "        Resolve os M sistemas de N equações definidos por A * xx = bb usando eliminação gaussiana.\n",
    "\n",
    "        ### Argumentos\n",
    "        Ao: Matriz N por N\n",
    "        bbo: Matriz N por M\n",
    "        \n",
    "        ### Retorno\n",
    "        xx: Matriz N por M\n",
    "    \"\"\"\n",
    "\n",
    "    # Dimensões em jogo\n",
    "    N = Ao.shape[0]\n",
    "\n",
    "    # Evitar side effects\n",
    "    A = np.copy(Ao)\n",
    "    bb = np.copy(bbo)\n",
    "\n",
    "    # Eliminação Gaussiana\n",
    "    for i in range(N-1):\n",
    "        piv = A[i, i]\n",
    "        for j in range(i+1, N):\n",
    "            coef = A[j, i] / piv\n",
    "            A[j] -= A[i] * coef\n",
    "            bb[j] -= bb[i] * coef\n",
    "\n",
    "    # Substituição Regressiva\n",
    "    xx = np.zeros_like(bb)\n",
    "    xx[-1] = bb[-1] / A[N-1, N-1]\n",
    "    for i in range(N-1, -1, -1):\n",
    "        xx[i] = (bb[i] - (A[i, i+1:] @ xx[i+1:])) / A[i, i]\n",
    "    \n",
    "    return xx"
   ]
  },
  {
   "attachments": {},
   "cell_type": "markdown",
   "metadata": {},
   "source": [
    "## Com Pivotagem Parcial"
   ]
  },
  {
   "cell_type": "code",
   "execution_count": 683,
   "metadata": {},
   "outputs": [],
   "source": [
    "def gausselimpp(Ao: np.ndarray, bbo: np.ndarray) -> np.ndarray:\n",
    "    \"\"\"\n",
    "        Resolve os M sistemas de N equações definidos por A * xx = bb usando eliminação gaussiana com pivotagem parcial.\n",
    "\n",
    "        ### Argumentos\n",
    "        Ao: Matriz N por N\n",
    "        bbo: Matriz N por M\n",
    "        \n",
    "        ### Retorno\n",
    "        xx: Matriz N por M\n",
    "    \"\"\"\n",
    "\n",
    "    # Dimensões em jogo\n",
    "    N = Ao.shape[0]\n",
    "\n",
    "    # Evitar side effects\n",
    "    A = np.copy(Ao)\n",
    "    bb = np.copy(bbo)\n",
    "\n",
    "\n",
    "    # Fazer pivotagem usando um mapa de endereços\n",
    "    mm = np.arange(0, N)\n",
    "    for i in range(N-1):\n",
    "        # Posição do maior elemento da coluna (tendo em conta as trocas já feitas)\n",
    "        coluna = A[mm[i:], i]\n",
    "        index = list(abs(coluna)).index(max(abs(coluna))) + i\n",
    "\n",
    "        # Trocar os elementos\n",
    "        mm[i], mm[index] = mm[index], mm[i]\n",
    "\n",
    "        # Pivô\n",
    "        piv = A[mm[i], i]\n",
    "        \n",
    "        for j in range(i+1, N):\n",
    "            coef = A[mm[j], i] / piv\n",
    "            A[mm[j]] -= A[mm[i]] * coef\n",
    "            bb[mm[j]] -= bb[mm[i]] * coef\n",
    "\n",
    "    # Substituição Regressiva\n",
    "    xx = np.zeros_like(bb)\n",
    "    xx[-1] = bb[mm[-1]] / A[mm[N-1], N-1]\n",
    "    for i in range(N-1, -1, -1):\n",
    "        xx[i] = (bb[mm[i]] - (A[mm[i], i+1:] @ xx[i+1:])) / A[mm[i], i]\n",
    "    \n",
    "    return xx\n"
   ]
  },
  {
   "attachments": {},
   "cell_type": "markdown",
   "metadata": {},
   "source": [
    "## Com Pivotagem Total"
   ]
  },
  {
   "cell_type": "code",
   "execution_count": 684,
   "metadata": {},
   "outputs": [],
   "source": [
    "def gausselimpt(Ao: np.ndarray, bbo: np.ndarray) -> np.ndarray:\n",
    "    \"\"\"\n",
    "        Resolve os M sistemas de N equações definidos por A * xx = bb usando eliminação gaussiana com pivotagem total.\n",
    "\n",
    "        ### Argumentos\n",
    "        Ao: Matriz N por N\n",
    "        bbo: Matriz N por M\n",
    "        \n",
    "        ### Retorno\n",
    "        xx: Matriz N por M\n",
    "    \"\"\"\n",
    "\n",
    "    # Dimensões em jogo\n",
    "    N = Ao.shape[0]\n",
    "\n",
    "    # Evitar side effects\n",
    "    A = np.copy(Ao)\n",
    "    bb = np.copy(bbo)\n",
    "\n",
    "\n",
    "    # Fazer pivotagem usando dois mapas de endereços (linhas e colunas)\n",
    "    ll = np.arange(0, N)\n",
    "    cc = np.arange(0, N)\n",
    "\n",
    "    for i in range(N-1):\n",
    "        # Posição do maior elemento da matriz abaixo do pivô (tendo em conta as trocas já feitas)\n",
    "        maxi = -np.inf\n",
    "        index = [0, 0]\n",
    "        for line in range(i, N):\n",
    "            elements = abs(A[ll[line], cc[i:]])\n",
    "            colmax = np.argmax(elements)\n",
    "            if elements[colmax] > maxi:\n",
    "                maxi = elements[colmax]\n",
    "                index = [line, colmax + i]\n",
    "\n",
    "        # Trocar os elementos\n",
    "        ll[i], ll[index[0]] = ll[index[0]], ll[i]\n",
    "        cc[i], cc[index[1]] = cc[index[1]], cc[i]\n",
    "\n",
    "        # Pivô\n",
    "        piv = A[ll[i], cc[i]]\n",
    "        \n",
    "        for j in range(i+1, N):\n",
    "            coef = A[ll[j], cc[i]] / piv\n",
    "            A[ll[j]] -= A[ll[i]] * coef\n",
    "            bb[ll[j]] -= bb[ll[i]] * coef\n",
    "\n",
    "    # Substituição Regressiva\n",
    "    # Note-se que quando trocamos duas colunas estamos a trocar a ordem das variáveis das equações!\n",
    "    xx = np.zeros_like(bb)\n",
    "    xx[cc[-1]] = bb[ll[-1]] / A[ll[N-1], cc[N-1]]\n",
    "    for i in range(N-1, -1, -1):\n",
    "        xx[cc[i]] = (bb[ll[i]] - (A[ll[i], cc[i+1:]] @ xx[cc[i+1:]])) / A[ll[i], cc[i]]\n",
    "    \n",
    "    return xx"
   ]
  },
  {
   "attachments": {},
   "cell_type": "markdown",
   "metadata": {},
   "source": [
    "## Matriz Inversa"
   ]
  },
  {
   "cell_type": "code",
   "execution_count": 685,
   "metadata": {},
   "outputs": [],
   "source": [
    "def gaussinv(Ao: np.ndarray) -> np.ndarray:\n",
    "    \"\"\"\n",
    "        Inverte a matriz N por N dada usando eliminação gaussiana com pivotagem total.\n",
    "\n",
    "        ### Argumentos\n",
    "        Ao: Matriz N por N\n",
    "        \n",
    "        ### Retorno\n",
    "        Ainv: Matriz N por N\n",
    "    \"\"\"\n",
    "\n",
    "    # Resolvemos o sistema AX = I onde I é a matriz identidade, pelo que X será a matriz inversa de A.\n",
    "    return gausselimpt(Ao, np.eye(Ao.shape[0]))"
   ]
  },
  {
   "attachments": {},
   "cell_type": "markdown",
   "metadata": {},
   "source": [
    "# Eliminação de Gauss-Jordan\n",
    "Algoritmos para resolver sistemas de equações lineares com eliminação de Gauss-Jordan."
   ]
  },
  {
   "attachments": {},
   "cell_type": "markdown",
   "metadata": {},
   "source": [
    "## Sem Pivotagem"
   ]
  },
  {
   "cell_type": "code",
   "execution_count": 686,
   "metadata": {},
   "outputs": [],
   "source": [
    "def gaussjordan(Ao: np.ndarray, bbo: np.ndarray) -> np.ndarray:\n",
    "    \"\"\"\n",
    "        Resolve o sistema de D equações definido por A * xx = bb usando eliminação de Gauss-Jordan.\n",
    "        \n",
    "        ### Argumentos\n",
    "        Ao: Matriz N por N\n",
    "        bbo: Matriz N por M\n",
    "        \n",
    "        ### Retorno\n",
    "        xx: Matriz N por M\n",
    "    \"\"\"\n",
    "\n",
    "    # Dimensões em jogo\n",
    "    N = Ao.shape[0]\n",
    "    M = 1 if len(bbo.shape) == 1 else bbo.shape[1]\n",
    "\n",
    "    bbo.reshape((N, M))\n",
    "\n",
    "    # Criar a matriz aumentada\n",
    "    A = np.zeros((N, N + M))\n",
    "    A[:, :N] = np.copy(Ao)\n",
    "\n",
    "    if M == 1:\n",
    "        A[:, N] = np.copy(bbo)\n",
    "    else:\n",
    "        A[:, N:] = np.copy(bbo)\n",
    "\n",
    "    # Eliminação Gaussiana\n",
    "    for i in range(N):\n",
    "        piv = A[i, i]\n",
    "\n",
    "        # Alterar as linhas abaixo do pivô\n",
    "        for j in range(i+1, N):\n",
    "            coef = A[j, i] / piv\n",
    "            A[j] -= A[i] * coef\n",
    "        \n",
    "        # Alterar as linhas acima do pivô\n",
    "        for j in range(0, i):\n",
    "            coef = A[j, i] / piv\n",
    "            A[j] -= A[i] * coef\n",
    "        \n",
    "        # Normalizar a linha\n",
    "        A[i] /= piv\n",
    "\n",
    "    return A[:, N] if M == 1 else A[:, N:]"
   ]
  },
  {
   "attachments": {},
   "cell_type": "markdown",
   "metadata": {},
   "source": [
    "## Com Pivotagem Parcial"
   ]
  },
  {
   "cell_type": "code",
   "execution_count": 687,
   "metadata": {},
   "outputs": [],
   "source": [
    "def gaussjordanpp(Ao: np.ndarray, bbo: np.ndarray) -> np.ndarray:\n",
    "    \"\"\"\n",
    "        Resolve o sistema de D equações definido por A * xx = bb usando eliminação de Gauss-Jordan com pivotagem parcial.\n",
    "\n",
    "        ### Argumentos\n",
    "        Ao: Matriz N por N\n",
    "        bbo: Matriz N por M\n",
    "        \n",
    "        ### Retorno\n",
    "        xx: Matriz N por M\n",
    "    \"\"\"\n",
    "\n",
    "    # Dimensões em jogo\n",
    "    N = Ao.shape[0]\n",
    "    M = 1 if len(bbo.shape) == 1 else bbo.shape[1]\n",
    "\n",
    "    bbo.reshape((N, M))\n",
    "\n",
    "    # Criar a matriz aumentada\n",
    "    A = np.zeros((N, N + M))\n",
    "    A[:, :N] = np.copy(Ao)\n",
    "\n",
    "    if M == 1:\n",
    "        A[:, N] = np.copy(bbo)\n",
    "    else:\n",
    "        A[:, N:] = np.copy(bbo)\n",
    "\n",
    "\n",
    "    # Fazer pivotagem usando um mapa de endereços\n",
    "    mm = np.arange(0, N)\n",
    "    for i in range(N):\n",
    "        # Posição do maior elemento da coluna (tendo em conta as trocas já feitas)\n",
    "        coluna = A[mm[i:], i]\n",
    "        index = list(abs(coluna)).index(max(abs(coluna))) + i\n",
    "\n",
    "        # Trocar os elementos\n",
    "        mm[i], mm[index] = mm[index], mm[i]\n",
    "\n",
    "        # Pivô\n",
    "        piv = A[mm[i], i]\n",
    "\n",
    "        # Alterar as linhas abaixo do pivô\n",
    "        for j in range(i+1, N):\n",
    "            coef = A[mm[j], i] / piv\n",
    "            A[mm[j]] -= A[mm[i]] * coef\n",
    "        \n",
    "        # Alterar as linhas acima do pivô\n",
    "        for j in range(0, i):\n",
    "            coef = A[mm[j], i] / piv\n",
    "            A[mm[j]] -= A[mm[i]] * coef\n",
    "        \n",
    "        # Normalizar a linha\n",
    "        A[mm[i]] /= piv\n",
    "\n",
    "    return A[mm[:], N] if M == 1 else A[mm[:], N:]"
   ]
  },
  {
   "cell_type": "markdown",
   "metadata": {},
   "source": [
    "# Testar\n",
    "\n",
    "Vamos fazer uma bateria de testes a este métodos!"
   ]
  },
  {
   "attachments": {},
   "cell_type": "markdown",
   "metadata": {},
   "source": [
    "## Resolver Equações Lineares"
   ]
  },
  {
   "cell_type": "code",
   "execution_count": 688,
   "metadata": {},
   "outputs": [],
   "source": [
    "from testes import testelinear, testeinv"
   ]
  },
  {
   "cell_type": "code",
   "execution_count": 689,
   "metadata": {},
   "outputs": [
    {
     "name": "stdout",
     "output_type": "stream",
     "text": [
      "Eliminação Gaussiana\n",
      "\n",
      "Para um sistema aleatório este método difere do resultado do numpy no máximo 1.399e-14.\n",
      "\n",
      "Para cinco sistemas aleatórios este método difere do resultado do numpy no máximo 1.039e-13.\n",
      "\n"
     ]
    }
   ],
   "source": [
    "print(\"Eliminação Gaussiana\\n\")\n",
    "testelinear(gausselim, 10)"
   ]
  },
  {
   "cell_type": "code",
   "execution_count": 690,
   "metadata": {},
   "outputs": [
    {
     "name": "stdout",
     "output_type": "stream",
     "text": [
      "Eliminação Gaussiana com Pivotagem Parcial\n",
      "\n",
      "Para um sistema aleatório este método difere do resultado do numpy no máximo 9.770e-15.\n",
      "\n",
      "Para cinco sistemas aleatórios este método difere do resultado do numpy no máximo 3.109e-15.\n",
      "\n"
     ]
    }
   ],
   "source": [
    "print(\"Eliminação Gaussiana com Pivotagem Parcial\\n\")\n",
    "testelinear(gausselimpp, 10)"
   ]
  },
  {
   "cell_type": "code",
   "execution_count": 691,
   "metadata": {},
   "outputs": [
    {
     "name": "stdout",
     "output_type": "stream",
     "text": [
      "Eliminação Gaussiana com Pivotagem Total\n",
      "\n",
      "Para um sistema aleatório este método difere do resultado do numpy no máximo 1.221e-15.\n",
      "\n",
      "Para cinco sistemas aleatórios este método difere do resultado do numpy no máximo 1.776e-15.\n",
      "\n"
     ]
    }
   ],
   "source": [
    "print(\"Eliminação Gaussiana com Pivotagem Total\\n\")\n",
    "testelinear(gausselimpt, 10)"
   ]
  },
  {
   "cell_type": "code",
   "execution_count": 692,
   "metadata": {},
   "outputs": [
    {
     "name": "stdout",
     "output_type": "stream",
     "text": [
      "Eliminação de Gauss-Jordan\n",
      "\n",
      "Para um sistema aleatório este método difere do resultado do numpy no máximo 1.243e-14.\n",
      "\n",
      "Para cinco sistemas aleatórios este método difere do resultado do numpy no máximo 1.205e-14.\n",
      "\n"
     ]
    }
   ],
   "source": [
    "print(\"Eliminação de Gauss-Jordan\\n\")\n",
    "testelinear(gaussjordan, 10)"
   ]
  },
  {
   "cell_type": "code",
   "execution_count": 693,
   "metadata": {},
   "outputs": [
    {
     "name": "stdout",
     "output_type": "stream",
     "text": [
      "Eliminação de Gauss-Jordan com pivotagem parcial\n",
      "\n",
      "Para um sistema aleatório este método difere do resultado do numpy no máximo 4.663e-15.\n",
      "\n",
      "Para cinco sistemas aleatórios este método difere do resultado do numpy no máximo 1.110e-15.\n",
      "\n"
     ]
    }
   ],
   "source": [
    "print(\"Eliminação de Gauss-Jordan com pivotagem parcial\\n\")\n",
    "testelinear(gaussjordanpp, 10)"
   ]
  },
  {
   "attachments": {},
   "cell_type": "markdown",
   "metadata": {},
   "source": [
    "## Inverter Matrizes"
   ]
  },
  {
   "cell_type": "code",
   "execution_count": 694,
   "metadata": {},
   "outputs": [
    {
     "name": "stdout",
     "output_type": "stream",
     "text": [
      "Eliminação Gaussiana com Pivotagem Parcial\n",
      "\n",
      "Para uma matriz aleatória este método difere do resultado do numpy no máximo 2.220e-15.\n",
      "\n"
     ]
    }
   ],
   "source": [
    "print(\"Eliminação Gaussiana com Pivotagem Parcial\\n\")\n",
    "testeinv(gaussinv, 10)"
   ]
  }
 ],
 "metadata": {
  "kernelspec": {
   "display_name": "Python 3",
   "language": "python",
   "name": "python3"
  },
  "language_info": {
   "codemirror_mode": {
    "name": "ipython",
    "version": 3
   },
   "file_extension": ".py",
   "mimetype": "text/x-python",
   "name": "python",
   "nbconvert_exporter": "python",
   "pygments_lexer": "ipython3",
   "version": "3.11.0"
  },
  "orig_nbformat": 4
 },
 "nbformat": 4,
 "nbformat_minor": 2
}
