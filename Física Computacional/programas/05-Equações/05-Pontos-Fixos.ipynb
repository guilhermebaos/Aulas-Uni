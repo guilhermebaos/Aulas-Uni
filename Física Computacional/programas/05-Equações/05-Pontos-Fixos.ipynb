{
 "cells": [
  {
   "cell_type": "markdown",
   "metadata": {},
   "source": [
    "# Pontos Fixos\n",
    "\n",
    "Testar nos exercícios 10 a 12 da folha 5."
   ]
  },
  {
   "cell_type": "code",
   "execution_count": 1,
   "metadata": {},
   "outputs": [],
   "source": [
    "from typing import Callable\n",
    "import numpy as np\n",
    "import matplotlib.pyplot as plt"
   ]
  },
  {
   "cell_type": "markdown",
   "metadata": {},
   "source": [
    "# Método da Relaxação"
   ]
  },
  {
   "cell_type": "code",
   "execution_count": 3,
   "metadata": {},
   "outputs": [],
   "source": [
    "def relax(func: Callable, x0: (float | np.ndarray), eps: float = 1e-6, maxI: int = 1000) -> (float | np.ndarray):\n",
    "    \"\"\"\n",
    "        Resolve a equação `func(x) = x` usando o método da relaxação começando com a estimativa `x0` e parando quando o erro for menor que `eps` fazendo no máximo `maxI` iterações.\n",
    "\n",
    "        O erro para várias variáveis é medido como sendo a distância entre duas estimativas consecutivas.\n",
    "\n",
    "        ### Argumentos\n",
    "        func: Uma função que aceita um array de `N` elementos e devolve um array de `N` elementos.\n",
    "        x0: Um array de `N` elementos a usar como primeira estimativa.\n",
    "        eps: Erro máximo permitido.\n",
    "        maxI: Número máximo de iterações, se for ultrapassado o método levanta uma exceção.\n",
    "\n",
    "        ### Retorno\n",
    "        x: Float ou array de `N` elementos que soluciona a equação.\n",
    "    \"\"\"\n",
    "\n",
    "    # Número de variáveis\n",
    "    N = 1 if len(np.array(x0).shape) == 0 else len(np.array(x0))\n",
    "\n",
    "    # Início do algoritmo\n",
    "    i = 0\n",
    "    erro = eps + 1\n",
    "\n",
    "    x1 = func(x0)\n",
    "    while abs(erro) > eps:\n",
    "\n",
    "        # Dar um passo\n",
    "        x2 = func(x1)\n",
    "\n",
    "        # Estimar o erro\n",
    "        if N == 1:\n",
    "            erro = ((x1 - x2)**2) / (2 * x1 - x0 - x2)\n",
    "        else:\n",
    "            erro = np.linalg.norm(x2 - x1)\n",
    "            \n",
    "\n",
    "        # Próximo passo\n",
    "        x0 = x1\n",
    "        x1 = x2\n",
    "\n",
    "        # Número de iterações\n",
    "        i += 1\n",
    "        if i > maxI:\n",
    "            raise ValueError(f\"Não foi possível encontrar a solução com a precisão desejada em menos de maxI = {maxI} iterações!\")\n",
    "    \n",
    "    return x1"
   ]
  },
  {
   "cell_type": "markdown",
   "metadata": {},
   "source": [
    "## Método de Sobre-relaxação"
   ]
  },
  {
   "cell_type": "code",
   "execution_count": null,
   "metadata": {},
   "outputs": [],
   "source": [
    "def overrelax(func: Callable, x0: (float | np.ndarray), omega: float = 0.5, eps: float = 1e-6, maxI: int = 1000) -> (float | np.ndarray):\n",
    "    \"\"\"\n",
    "        Resolve a equação `func(x) = x` usando o método da relaxação com parâmetro `omega` começando com a estimativa `x0` e parando quando o erro for menor que `eps` fazendo no máximo `maxI` iterações.\n",
    "\n",
    "        O erro para várias variáveis é medido como sendo a distância entre duas estimativas consecutivas.\n",
    "\n",
    "        ### Argumentos\n",
    "        func: Uma função que aceita um array de `N` elementos e devolve um array de `N` elementos.\n",
    "        x0: Um array de `N` elementos a usar como primeira estimativa.\n",
    "        eps: Erro máximo permitido.\n",
    "        maxI: Número máximo de iterações, se for ultrapassado o método levanta uma exceção.\n",
    "\n",
    "        ### Retorno\n",
    "        x: Float ou array de `N` elementos que soluciona a equação.\n",
    "    \"\"\"\n",
    "\n",
    "    # Número de variáveis\n",
    "    N = 1 if len(np.array(x0).shape) == 0 else len(np.array(x0))\n",
    "    \n",
    "    # Início do algoritmo\n",
    "    i = 0\n",
    "    erro = eps + 1\n",
    "\n",
    "    x1 = func(x0)\n",
    "    while abs(erro) > eps:\n",
    "        \n",
    "        # Dar um passo\n",
    "        x2 = (1 + omega) * func(x1) - omega * x1\n",
    "\n",
    "        # Estimar o erro\n",
    "        if N == 1:\n",
    "            erro = (x1 - x2) / (1 - 1/((1 + omega) * (x1 - x2)/(x0 - x1) - omega))\n",
    "        else:\n",
    "            erro = np.linalg.norm(x2 - x1)\n",
    "\n",
    "        # Próximo passo\n",
    "        x0 = x1\n",
    "        x1 = x2\n",
    "\n",
    "        # Número de iterações\n",
    "        i += 1\n",
    "        if i > maxI:\n",
    "            raise ValueError(f\"Não foi possível encontrar a solução com a precisão desejada em menos de maxI = {maxI} iterações!\")\n",
    "    \n",
    "    return x1"
   ]
  }
 ],
 "metadata": {
  "kernelspec": {
   "display_name": "Python 3",
   "language": "python",
   "name": "python3"
  },
  "language_info": {
   "codemirror_mode": {
    "name": "ipython",
    "version": 3
   },
   "file_extension": ".py",
   "mimetype": "text/x-python",
   "name": "python",
   "nbconvert_exporter": "python",
   "pygments_lexer": "ipython3",
   "version": "3.11.0"
  },
  "orig_nbformat": 4
 },
 "nbformat": 4,
 "nbformat_minor": 2
}
