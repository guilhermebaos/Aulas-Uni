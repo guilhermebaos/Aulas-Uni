{
 "cells": [
  {
   "cell_type": "markdown",
   "metadata": {},
   "source": [
    "# Decomposição LU"
   ]
  },
  {
   "cell_type": "code",
   "execution_count": 180,
   "metadata": {},
   "outputs": [],
   "source": [
    "from typing import Callable\n",
    "import numpy as np\n",
    "import matplotlib.pyplot as plt"
   ]
  },
  {
   "attachments": {},
   "cell_type": "markdown",
   "metadata": {},
   "source": [
    "# Decomposição LU\n",
    "Algoritmos para fazer uma decomposição LU."
   ]
  },
  {
   "attachments": {},
   "cell_type": "markdown",
   "metadata": {},
   "source": [
    "## Fatorização de Crout"
   ]
  },
  {
   "cell_type": "code",
   "execution_count": 181,
   "metadata": {},
   "outputs": [
    {
     "data": {
      "text/plain": [
       "'\\nN = A.shape[0]\\nL, U = np.zeros((N, N)), np.identity(N)\\n\\nfor i in range(N):\\n    for j in range(i, N):\\n        L[j, i] = A[j, i] - L[j, :j] @ U[:j, i]\\n    \\n    div = L[i][i]\\n    for j in range(i + 1, N):\\n        U[i, j] = (A[i, j] - L[i, :i] @ U[:i, j]) / div\\n\\nreturn L, U\\n'"
      ]
     },
     "execution_count": 181,
     "metadata": {},
     "output_type": "execute_result"
    }
   ],
   "source": [
    "def lucrout(A: np.ndarray) -> tuple[np.ndarray, np.ndarray]:\n",
    "    \"\"\"\n",
    "        Dado uma matriz `A` calcula a sua decomposição LU sem pivotagem usando fatorização de Crout.\n",
    "\n",
    "        ### Argumentos\n",
    "        A: Matriz N por N\n",
    "\n",
    "        ### Retorno\n",
    "        L: Matriz N por N lower\n",
    "        U: Matriz N por N upper\n",
    "    \"\"\"\n",
    "\n",
    "    # Dimensões em jogo\n",
    "    N = A.shape[0]\n",
    "    L, U = np.zeros((N, N)), np.identity(N)\n",
    "    \n",
    "    # Executar a decomposição LU geral\n",
    "    for i in range(N):\n",
    "        L[i:, i] = A[i:, i] - L[i:, :i] @ U[:i, i]\n",
    "        U[i, i+1:] = (A[i, i+1:] - L[i, :i] @ U[:i, i+1:]) / L[i, i]\n",
    "    \n",
    "    return L, U\n",
    "\n",
    "\n",
    "# Versão mais legível:\n",
    "'''\n",
    "N = A.shape[0]\n",
    "L, U = np.zeros((N, N)), np.identity(N)\n",
    "\n",
    "for i in range(N):\n",
    "    for j in range(i, N):\n",
    "        L[j, i] = A[j, i] - L[j, :j] @ U[:j, i]\n",
    "    \n",
    "    div = L[i][i]\n",
    "    for j in range(i + 1, N):\n",
    "        U[i, j] = (A[i, j] - L[i, :i] @ U[:i, j]) / div\n",
    "\n",
    "return L, U\n",
    "'''"
   ]
  },
  {
   "cell_type": "markdown",
   "metadata": {},
   "source": [
    "## Fatorização de Doolittle"
   ]
  },
  {
   "cell_type": "code",
   "execution_count": 182,
   "metadata": {},
   "outputs": [
    {
     "data": {
      "text/plain": [
       "'\\n# Dimensões em jogo\\n    N = A.shape[0]\\n    L, U = np.identity(N), np.zeros((N, N))\\n\\n# Executar a decomposição LU geral\\nfor i in range(N):\\n    for j in range(i, N):\\n        U[i, j] = A[i, j] - L[i, :j] @ U[:j, j]\\n    \\n    div = U[i][i]\\n    for j in range(i + 1, N):\\n        L[j, i] = (A[j, i] - L[j, :j] @ U[:j, i]) / div\\n\\nreturn L, U\\n'"
      ]
     },
     "execution_count": 182,
     "metadata": {},
     "output_type": "execute_result"
    }
   ],
   "source": [
    "def ludoolittle(A: np.ndarray) -> tuple[np.ndarray, np.ndarray]:\n",
    "    \"\"\"\n",
    "        Dado uma matriz `A` calcula a sua decomposição LU sem pivotagem usando fatorização de Doolittle.\n",
    "\n",
    "        ### Argumentos\n",
    "        A: Matriz N por N\n",
    "\n",
    "        ### Retorno\n",
    "        L: Matriz N por N lower\n",
    "        U: Matriz N por N upper\n",
    "    \"\"\"\n",
    "\n",
    "    # Dimensões em jogo\n",
    "    N = A.shape[0]\n",
    "    L, U = np.identity(N), np.zeros((N, N))\n",
    "    \n",
    "    # Executar a decomposição LU geral\n",
    "    for i in range(N):\n",
    "        U[i, i:] = A[i, i:] - L[i, :i] @ U[:i, i:]\n",
    "        L[i+1:, i] = (A[i+1:, i] - L[i+1:, :i+1] @ U[:i+1, i]) / U[i, i]\n",
    "    \n",
    "    return L, U\n",
    "\n",
    "\n",
    "# Versão mais legível:\n",
    "'''\n",
    "# Dimensões em jogo\n",
    "    N = A.shape[0]\n",
    "    L, U = np.identity(N), np.zeros((N, N))\n",
    "\n",
    "# Executar a decomposição LU geral\n",
    "for i in range(N):\n",
    "    for j in range(i, N):\n",
    "        U[i, j] = A[i, j] - L[i, :j] @ U[:j, j]\n",
    "    \n",
    "    div = U[i][i]\n",
    "    for j in range(i + 1, N):\n",
    "        L[j, i] = (A[j, i] - L[j, :j] @ U[:j, i]) / div\n",
    "\n",
    "return L, U\n",
    "'''"
   ]
  },
  {
   "attachments": {},
   "cell_type": "markdown",
   "metadata": {},
   "source": [
    "## Eliminação Gaussiana"
   ]
  },
  {
   "cell_type": "code",
   "execution_count": 183,
   "metadata": {},
   "outputs": [],
   "source": [
    "def lugauss(Ao: np.ndarray) -> tuple[np.ndarray, np.ndarray]:\n",
    "    \"\"\"\n",
    "        Dado uma matriz `Ao` calcula a sua decomposição LU sem pivotagem usando eliminação gaussiana.\n",
    "\n",
    "        ### Argumentos\n",
    "        Ao: Matriz N por N\n",
    "\n",
    "        ### Retorno\n",
    "        L: Matriz N por N lower\n",
    "        U: Matriz N por N upper\n",
    "    \"\"\"\n",
    "\n",
    "    # Dimensões em jogo\n",
    "    N = Ao.shape[0]\n",
    "    L = np.zeros((N, N))\n",
    "\n",
    "    # Evitar side effects\n",
    "    A = np.copy(Ao)\n",
    "\n",
    "    # A matriz U eventualmente será uma matriz upper!\n",
    "    U = A\n",
    "\n",
    "    for i in range(N):\n",
    "        # Criar a matriz L_i\n",
    "        L_i = np.identity(N)\n",
    "        L_i[i+1:, i] = -U[i+1:, i]\n",
    "        L_i[i:, i] /= U[i, i]\n",
    "\n",
    "        # Guardar a coluna i de U em L\n",
    "        L[i:, i] = U[i:, i]\n",
    "\n",
    "        # Aplicar L_i a A\n",
    "        U = L_i @ U\n",
    "    \n",
    "    return L, U"
   ]
  },
  {
   "attachments": {},
   "cell_type": "markdown",
   "metadata": {},
   "source": [
    "# Resolver Sistemas de Equações Lineares\n",
    "\n",
    "Podemos usar a decomposição LU para resolver sistemas de equações lineares quaisquer!"
   ]
  },
  {
   "attachments": {},
   "cell_type": "markdown",
   "metadata": {},
   "source": [
    "## Método Geral"
   ]
  },
  {
   "cell_type": "code",
   "execution_count": 184,
   "metadata": {},
   "outputs": [],
   "source": [
    "def lusolve(Ao: np.ndarray, bbo: np.ndarray, ludecom: Callable) -> np.ndarray:\n",
    "    \"\"\"\n",
    "        Resolve os M sistemas de N equações definidos por A * xx = bb usando a decomposição LU obtida pela função `ludecom(A)`.\n",
    "\n",
    "        ### Argumentos\n",
    "        Ao: Matriz N por N\n",
    "        bbo: Matriz N por M\n",
    "        \n",
    "        ### Retorno\n",
    "        xx: Matriz N por M\n",
    "    \"\"\"\n",
    "    \n",
    "    # Dimensões em jogo\n",
    "    N = Ao.shape[0]\n",
    "\n",
    "    # Evitar side effects\n",
    "    A = np.copy(Ao)\n",
    "    bb = np.copy(bbo)\n",
    "\n",
    "    # Obter a decomposição LU\n",
    "    L, U = ludecom(A)\n",
    "\n",
    "    # Substituição progressiva -> Resolver L * yy = bb\n",
    "    yy = np.zeros_like(bb)\n",
    "    yy[0] = bb[0] / L[0, 0]\n",
    "    for i in range(1, N):\n",
    "        yy[i] = (bb[i] - (L[i, :i] @ yy[:i])) / L[i, i]\n",
    "    \n",
    "    # Substituição regressiva -> Resolver U * xx = yy\n",
    "    xx = np.zeros_like(bb)\n",
    "    xx[-1] = yy[-1] / U[N-1, N-1]\n",
    "    for i in range(N-1, -1, -1):\n",
    "        xx[i] = (yy[i] - (U[i][i+1:] @ xx[i+1:])) / U[i, i]\n",
    "    \n",
    "    return xx"
   ]
  },
  {
   "attachments": {},
   "cell_type": "markdown",
   "metadata": {},
   "source": [
    "## Eliminação Gaussiana com Pivotagem Parcial\n",
    "\n",
    "Em rigor, a função de decomposição LU abaixo não devolve a decomposição LU de $A$, mas sim a decomposição LU de $PA$, em que $P$ é a matriz associada às permutações realizadas! Isto é suficiente para resolver sistemas de equações lineares, mas não ficamos a saber a decomposição LU de $A$."
   ]
  },
  {
   "cell_type": "code",
   "execution_count": 185,
   "metadata": {},
   "outputs": [],
   "source": [
    "def troca_linhas(A: np.ndarray, mm: np.ndarray) -> np.ndarray:\n",
    "    \"\"\"\n",
    "        Troca as linhas de A de acordo com o mapa de endereços mm.\n",
    "    \"\"\"\n",
    "\n",
    "    B = np.zeros_like(A)\n",
    "    for line in range(B.shape[0]):\n",
    "        B[line] = np.copy(A[mm[line]])\n",
    "    return B\n",
    "\n",
    "\n",
    "def lugausspp(Ao: np.ndarray) -> tuple[np.ndarray, np.ndarray, np.ndarray]:\n",
    "    \"\"\"\n",
    "        Dado uma matriz A calcula a sua decomposição LU usando eliminação de Gauss com pivotagem parcial.\n",
    "\n",
    "        ### Argumentos\n",
    "        Ao: Matriz N por N\n",
    "        \n",
    "        ### Retorno\n",
    "        L: Matriz N por N lower\n",
    "        U: Matriz N por N upper\n",
    "        mm: Mapa de endereços associado à troca de linhas.\n",
    "    \"\"\"\n",
    "\n",
    "    # Evitar side effects\n",
    "    A = np.copy(Ao)\n",
    "\n",
    "    N = A.shape[0]\n",
    "\n",
    "    # Fazer pivotagem usando um mapa de endereços\n",
    "    mm = np.arange(0, N)\n",
    "    for line in range(N):\n",
    "        # Posição do maior elemento da coluna (tendo em conta as trocas já feitas)\n",
    "        coluna = A[mm[line:], line]\n",
    "        index = list(coluna).index(max(coluna)) + line\n",
    "\n",
    "        # Trocar os elementos\n",
    "        mm[line], mm[index] = mm[index], mm[line]\n",
    "    \n",
    "\n",
    "    # Abandonar o mapa de endereços porque se não o produto interno L @ U não funciona\n",
    "    # Isto pois a matriz U não tem as linhas trocadas, teriamos de fazer uma função de produto interno que tivesse em conta o mapa de endereços\n",
    "    B = troca_linhas(A, mm)\n",
    "\n",
    "    L = np.zeros((N, N))\n",
    "    U = B\n",
    "\n",
    "    for i in range(N):\n",
    "        # Criar a matriz L_i\n",
    "        L_i = np.identity(N)\n",
    "        L_i[i+1:, i] = -U[i+1:, i]\n",
    "        L_i[i:, i] /= U[i, i]\n",
    "\n",
    "        # Guardar a coluna i de U em L\n",
    "        L[i:, i] = U[i:, i]\n",
    "\n",
    "        # Aplicar L_i a A\n",
    "        U = L_i @ U\n",
    "    \n",
    "    return L, U, mm\n",
    "\n",
    "\n",
    "def lusolvepp(Ao: np.ndarray, bbo: np.ndarray) -> np.ndarray:\n",
    "    \"\"\"\n",
    "        Resolve o sistema de D equações definido por A * xx = bb usando decomposição LU com pivotagem parcial.\n",
    "\n",
    "        ### Retorno\n",
    "        Devolve um array que contém o vetor solução.\n",
    "    \"\"\"\n",
    "\n",
    "    # Evitar side effects\n",
    "    A = np.copy(Ao)\n",
    "    bb = np.copy(bbo)\n",
    "\n",
    "    N = len(bb)\n",
    "\n",
    "    # Obter a decomposição LU\n",
    "    L, U, mm = lugausspp(A)\n",
    "    bb = troca_linhas(bb, mm)\n",
    "\n",
    "    # Substituição progressiva -> Resolver L * yy = bb\n",
    "    yy = np.zeros_like(bb)\n",
    "    yy[0] = bb[0] / L[0, 0]\n",
    "    for i in range(1, N):\n",
    "        yy[i] = (bb[i] - (L[i, :i] @ yy[:i])) / L[i][i]\n",
    "    \n",
    "    # Substituição regressiva -> Resolver U * xx = yy\n",
    "    xx = np.zeros_like(bb)\n",
    "    xx[-1] = yy[-1] / U[N-1, N-1]\n",
    "    for i in range(N-1, -1, -1):\n",
    "        xx[i] = (yy[i] - (U[i][i+1:] @ xx[i+1:])) / U[i][i]\n",
    "    \n",
    "    return xx"
   ]
  },
  {
   "cell_type": "markdown",
   "metadata": {},
   "source": [
    "# Testar\n",
    "\n",
    "Vamos fazer uma bateria de testes a este métodos!"
   ]
  },
  {
   "cell_type": "code",
   "execution_count": 186,
   "metadata": {},
   "outputs": [],
   "source": [
    "from testes import testelu, testelinear, testeinv"
   ]
  },
  {
   "cell_type": "markdown",
   "metadata": {},
   "source": [
    "## Decomposição LU"
   ]
  },
  {
   "cell_type": "code",
   "execution_count": 187,
   "metadata": {},
   "outputs": [
    {
     "name": "stdout",
     "output_type": "stream",
     "text": [
      "Decomposição LU com Fatorização de Crout\n",
      "\n",
      "\n",
      "Matriz aleatória\n",
      "[[7 0 6 5]\n",
      " [1 7 0 7]\n",
      " [9 1 1 5]\n",
      " [9 7 5 0]]\n",
      "\n",
      "Matriz L @ U\n",
      "[[ 7.00000000e+00  0.00000000e+00  6.00000000e+00  5.00000000e+00]\n",
      " [ 1.00000000e+00  7.00000000e+00 -2.77555756e-17  7.00000000e+00]\n",
      " [ 9.00000000e+00  1.00000000e+00  1.00000000e+00  5.00000000e+00]\n",
      " [ 9.00000000e+00  7.00000000e+00  5.00000000e+00  0.00000000e+00]]\n",
      "\n",
      "Matriz L\n",
      "[[  7.           0.           0.           0.        ]\n",
      " [  1.           7.           0.           0.        ]\n",
      " [  9.           1.          -6.59183673   0.        ]\n",
      " [  9.           7.          -1.85714286 -12.05882353]]\n",
      "\n",
      "Matriz U\n",
      "[[ 1.          0.          0.85714286  0.71428571]\n",
      " [ 0.          1.         -0.12244898  0.89795918]\n",
      " [ 0.          0.          1.          0.35294118]\n",
      " [ 0.          0.          0.          1.        ]]\n"
     ]
    }
   ],
   "source": [
    "print(\"Decomposição LU com Fatorização de Crout\\n\")\n",
    "testelu(lucrout, 4)"
   ]
  },
  {
   "cell_type": "code",
   "execution_count": 188,
   "metadata": {},
   "outputs": [
    {
     "name": "stdout",
     "output_type": "stream",
     "text": [
      "Decomposição LU com Fatorização de Doolittle\n",
      "\n",
      "\n",
      "Matriz aleatória\n",
      "[[5 4 4 6]\n",
      " [6 7 3 7]\n",
      " [2 6 5 8]\n",
      " [3 1 9 8]]\n",
      "\n",
      "Matriz L @ U\n",
      "[[5. 4. 4. 6.]\n",
      " [6. 7. 3. 7.]\n",
      " [2. 6. 5. 8.]\n",
      " [3. 1. 9. 8.]]\n",
      "\n",
      "Matriz L\n",
      "[[ 1.          0.          0.          0.        ]\n",
      " [ 1.2         1.          0.          0.        ]\n",
      " [ 0.4         2.          1.          0.        ]\n",
      " [ 0.6        -0.63636364  0.77922078  1.        ]]\n",
      "\n",
      "Matriz U\n",
      "[[ 5.         4.         4.         6.       ]\n",
      " [ 0.         2.2       -1.8       -0.2      ]\n",
      " [ 0.         0.         7.         6.       ]\n",
      " [ 0.         0.         0.        -0.4025974]]\n"
     ]
    }
   ],
   "source": [
    "print(\"Decomposição LU com Fatorização de Doolittle\\n\")\n",
    "testelu(ludoolittle, 4)\n",
    "\n",
    "# Nesta fatorização podemos ver que é normal haver erros de divisão por 0."
   ]
  },
  {
   "cell_type": "code",
   "execution_count": 189,
   "metadata": {},
   "outputs": [
    {
     "name": "stdout",
     "output_type": "stream",
     "text": [
      "Decomposição LU com Eliminação de Gauss\n",
      "\n",
      "\n",
      "Matriz aleatória\n",
      "[[5 3 7 0]\n",
      " [4 3 2 4]\n",
      " [6 0 9 6]\n",
      " [1 5 9 1]]\n",
      "\n",
      "Matriz L @ U\n",
      "[[5.0000000e+00 3.0000000e+00 7.0000000e+00 0.0000000e+00]\n",
      " [4.0000000e+00 3.0000000e+00 2.0000000e+00 4.0000000e+00]\n",
      " [6.0000000e+00 8.8817842e-16 9.0000000e+00 6.0000000e+00]\n",
      " [1.0000000e+00 5.0000000e+00 9.0000000e+00 1.0000000e+00]]\n",
      "\n",
      "Matriz L\n",
      "[[  5.           0.           0.           0.        ]\n",
      " [  4.           0.6          0.           0.        ]\n",
      " [  6.          -3.6        -21.           0.        ]\n",
      " [  1.           4.4         34.          20.23809524]]\n",
      "\n",
      "Matriz U\n",
      "[[ 1.          0.6         1.4         0.        ]\n",
      " [ 0.          1.         -6.          6.66666667]\n",
      " [ 0.          0.          1.         -1.42857143]\n",
      " [ 0.          0.          0.          1.        ]]\n"
     ]
    }
   ],
   "source": [
    "print(\"Decomposição LU com Eliminação de Gauss\\n\")\n",
    "testelu(lugauss, 4)"
   ]
  },
  {
   "cell_type": "markdown",
   "metadata": {},
   "source": [
    "## Resolver Equações Lineares"
   ]
  },
  {
   "cell_type": "code",
   "execution_count": 190,
   "metadata": {},
   "outputs": [
    {
     "name": "stdout",
     "output_type": "stream",
     "text": [
      "Decomposição com Fatorização de Crout\n",
      "\n",
      "Para um sistema aleatório este método difere do resultado do numpy no máximo 1.021e-14.\n",
      "\n",
      "Para cinco sistemas aleatórios este método difere do resultado do numpy no máximo 3.659e-13.\n",
      "\n"
     ]
    }
   ],
   "source": [
    "print(\"Decomposição com Fatorização de Crout\\n\")\n",
    "testelinear(lambda Ao, bbo: lusolve(Ao, bbo, lucrout), 10)"
   ]
  },
  {
   "cell_type": "code",
   "execution_count": 191,
   "metadata": {},
   "outputs": [
    {
     "name": "stdout",
     "output_type": "stream",
     "text": [
      "Decomposição com Fatorização de Doolittle\n",
      "\n",
      "Para um sistema aleatório este método difere do resultado do numpy no máximo 1.705e-12.\n",
      "\n",
      "Para cinco sistemas aleatórios este método difere do resultado do numpy no máximo 1.315e-13.\n",
      "\n"
     ]
    }
   ],
   "source": [
    "print(\"Decomposição com Fatorização de Doolittle\\n\")\n",
    "testelinear(lambda Ao, bbo: lusolve(Ao, bbo, ludoolittle), 10)"
   ]
  },
  {
   "cell_type": "code",
   "execution_count": 192,
   "metadata": {},
   "outputs": [
    {
     "name": "stdout",
     "output_type": "stream",
     "text": [
      "Decomposição com Eliminação Gaussiana\n",
      "\n",
      "Para um sistema aleatório este método difere do resultado do numpy no máximo 1.377e-14.\n",
      "\n",
      "Para cinco sistemas aleatórios este método difere do resultado do numpy no máximo 9.770e-15.\n",
      "\n"
     ]
    }
   ],
   "source": [
    "print(\"Decomposição com Eliminação Gaussiana\\n\")\n",
    "testelinear(lambda Ao, bbo: lusolve(Ao, bbo, lugauss), 10)"
   ]
  },
  {
   "cell_type": "code",
   "execution_count": 193,
   "metadata": {},
   "outputs": [
    {
     "name": "stdout",
     "output_type": "stream",
     "text": [
      "Decomposição com Eliminação Gaussiana com Pivotagem Parcial\n",
      "\n",
      "Para um sistema aleatório este método difere do resultado do numpy no máximo 2.576e-14.\n",
      "\n",
      "Para cinco sistemas aleatórios este método difere do resultado do numpy no máximo 6.395e-14.\n",
      "\n"
     ]
    }
   ],
   "source": [
    "print(\"Decomposição com Eliminação Gaussiana com Pivotagem Parcial\\n\")\n",
    "testelinear(lusolvepp, 10)"
   ]
  }
 ],
 "metadata": {
  "kernelspec": {
   "display_name": "Python 3",
   "language": "python",
   "name": "python3"
  },
  "language_info": {
   "codemirror_mode": {
    "name": "ipython",
    "version": 3
   },
   "file_extension": ".py",
   "mimetype": "text/x-python",
   "name": "python",
   "nbconvert_exporter": "python",
   "pygments_lexer": "ipython3",
   "version": "3.11.0"
  },
  "orig_nbformat": 4
 },
 "nbformat": 4,
 "nbformat_minor": 2
}
