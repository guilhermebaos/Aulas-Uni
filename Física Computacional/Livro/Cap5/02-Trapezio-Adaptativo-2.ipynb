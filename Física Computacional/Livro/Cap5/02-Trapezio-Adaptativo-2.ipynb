{
 "cells": [
  {
   "cell_type": "markdown",
   "metadata": {},
   "source": [
    "# Exercício 5.20"
   ]
  },
  {
   "cell_type": "code",
   "execution_count": 1,
   "metadata": {},
   "outputs": [],
   "source": [
    "from typing import Callable\n",
    "import numpy as np\n",
    "import matplotlib.pyplot as plt"
   ]
  },
  {
   "cell_type": "markdown",
   "metadata": {},
   "source": [
    "## Questão a)"
   ]
  },
  {
   "cell_type": "code",
   "execution_count": null,
   "metadata": {},
   "outputs": [],
   "source": [
    "def trapezioA2(start: float, end: float, func: Callable, eps: float = 1e-6, maxN: int = 100) -> float:\n",
    "    \"\"\"\n",
    "        Calcula o integral de `func` de `start` a `end` usando a regra do trapézio adaptativa local com erro máximo `eps` com no máximo uma profudidade de `maxN`.\n",
    "    \"\"\"\n",
    "\n",
    "    # Calcula o integral de `start` a `end` com um erro menor que `eps`\n",
    "    def passoT(start: float, end: float, func: Callable, eps: float = 1e-6, maxN: int = 100, fstart: float, fend: float, h: float) -> float:\n",
    "\n",
    "        # Calcula o integral com um passo\n",
    "        I1 = h * (fstart + fend) / 2\n",
    "\n",
    "        # Calcula o integral com dois passos\n",
    "        xmid = (start + end) / 2\n",
    "        fmid = func(xmid)\n",
    "\n",
    "        I2 = (h/2) * (fstart / 2 + fmid + fend / 2)\n",
    "    \n",
    "    return I1"
   ]
  }
 ],
 "metadata": {
  "kernelspec": {
   "display_name": "Python 3",
   "language": "python",
   "name": "python3"
  },
  "language_info": {
   "codemirror_mode": {
    "name": "ipython",
    "version": 3
   },
   "file_extension": ".py",
   "mimetype": "text/x-python",
   "name": "python",
   "nbconvert_exporter": "python",
   "pygments_lexer": "ipython3",
   "version": "3.11.0"
  },
  "orig_nbformat": 4
 },
 "nbformat": 4,
 "nbformat_minor": 2
}
