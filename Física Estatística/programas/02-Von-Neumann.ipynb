{
 "cells": [
  {
   "cell_type": "markdown",
   "metadata": {},
   "source": [
    "# Algoritmo de Von Neumann"
   ]
  },
  {
   "cell_type": "code",
   "execution_count": 1,
   "metadata": {},
   "outputs": [],
   "source": [
    "from typing import Callable\n",
    "import numpy as np\n",
    "import matplotlib.pyplot as plt\n",
    "\n",
    "from scipy.stats import norm"
   ]
  },
  {
   "cell_type": "markdown",
   "metadata": {},
   "source": [
    "# Caso Discreto"
   ]
  },
  {
   "cell_type": "code",
   "execution_count": 7,
   "metadata": {},
   "outputs": [],
   "source": [
    "def neumanndisc(prob: np.ndarray, values: np.ndarray, N: int, safe=1.0001, maxiter=100) -> np.ndarray:\n",
    "    \"\"\"\n",
    "        Gera `N` amostras de acordo com a função de probabilidade `prob` que está definida para eventos `values`.\n",
    "\n",
    "        Multiplica o valor ideal de `M` por um fator de segurança `safe`.\n",
    "\n",
    "        Faz no máximo `maxiter * N` iterações.\n",
    "    \"\"\"\n",
    "    # Número de eventos diferentes\n",
    "    L = len(prob)\n",
    "\n",
    "    if L != len(values):\n",
    "        raise ValueError(\"O tamanho da função de probabilidade é diferente do tamanho dos eventos!\")\n",
    "\n",
    "    # Valor da constante M = max(g/f) = max(L * g) com margem de erro\n",
    "    # Dividimos por L aqui e de novo no cálculo da probabilidade de aceitação!\n",
    "    M = max(prob) * safe\n",
    "\n",
    "\n",
    "    # Fazer extrações\n",
    "    res = np.empty(N)\n",
    "    i = 0\n",
    "    for _ in range(N * maxiter):\n",
    "        # Gerar amostra da distribuição uniforme\n",
    "        sample = int(np.floor(np.random.rand() * L))\n",
    "\n",
    "        # Probabilidade de aceitação g(x) / M\n",
    "        pa = prob[sample] / M\n",
    "\n",
    "        # Aceitar a amostra\n",
    "        if np.random.rand() < pa:\n",
    "            res[i] = values[sample]\n",
    "            i += 1\n",
    "        else:\n",
    "            pass\n",
    "        \n",
    "        # Já temos o número desejado de amostras\n",
    "        if i == N:\n",
    "            break\n",
    "    else:\n",
    "        raise TimeoutError(\"Número máximo de iterações excedido!!\")\n",
    "    \n",
    "    return res"
   ]
  },
  {
   "cell_type": "code",
   "execution_count": 26,
   "metadata": {},
   "outputs": [
    {
     "name": "stdout",
     "output_type": "stream",
     "text": [
      "[491 509]\n"
     ]
    }
   ],
   "source": [
    "# Lançamento de uma moeda\n",
    "p1 = np.array([0.5, 0.5])\n",
    "\n",
    "# Gerar uma amostra\n",
    "a1 = neumanndisc(p1, np.array([0, 1]), 1000)\n",
    "\n",
    "# Contar os resultados\n",
    "s1 = np.array([sum(a1 == i) for i in (0, 1)])\n",
    "print(s1)"
   ]
  },
  {
   "cell_type": "code",
   "execution_count": 32,
   "metadata": {},
   "outputs": [
    {
     "name": "stdout",
     "output_type": "stream",
     "text": [
      "[375 191   0   0 341  93]\n"
     ]
    }
   ],
   "source": [
    "# Dado viciado\n",
    "p2 = np.array([4, 2, 0, 0, 3, 1])\n",
    "p2 = p2 / sum(p2)\n",
    "\n",
    "# Gerar uma amostra\n",
    "a2 = neumanndisc(p2, np.array([0, 1, 2, 3, 4, 5]), 1000)\n",
    "\n",
    "# Contar os resultados\n",
    "s2 = np.array([sum(a2 == i) for i in range(len(p2))])\n",
    "print(s2)"
   ]
  },
  {
   "cell_type": "markdown",
   "metadata": {},
   "source": [
    "# Caso Contínuo"
   ]
  },
  {
   "cell_type": "code",
   "execution_count": null,
   "metadata": {},
   "outputs": [],
   "source": [
    "def neumanncont(prob: Callable, value: np.ndarray, N: int, safe=1.0001, maxiter=100) -> np.ndarray:\n",
    "    \"\"\"\n",
    "        Gera `N` amostras de acordo com a função densidade de probabilidade `prob`.\n",
    "\n",
    "        Usa `values` como o domínio da função prob.\n",
    "\n",
    "        Multiplica o valor ideal de `M` por um fator de segurança `safe`.\n",
    "\n",
    "        Faz no máximo `maxiter * N` iterações.\n",
    "    \"\"\"\n",
    "    "
   ]
  },
  {
   "cell_type": "code",
   "execution_count": null,
   "metadata": {},
   "outputs": [],
   "source": []
  }
 ],
 "metadata": {
  "kernelspec": {
   "display_name": "Python 3",
   "language": "python",
   "name": "python3"
  },
  "language_info": {
   "codemirror_mode": {
    "name": "ipython",
    "version": 3
   },
   "file_extension": ".py",
   "mimetype": "text/x-python",
   "name": "python",
   "nbconvert_exporter": "python",
   "pygments_lexer": "ipython3",
   "version": "3.11.0"
  },
  "orig_nbformat": 4
 },
 "nbformat": 4,
 "nbformat_minor": 2
}
