{
 "cells": [
  {
   "cell_type": "markdown",
   "metadata": {},
   "source": [
    "# Algoritmos de Inversão"
   ]
  },
  {
   "cell_type": "code",
   "execution_count": 30,
   "metadata": {},
   "outputs": [],
   "source": [
    "from typing import Callable\n",
    "import numpy as np\n",
    "import matplotlib.pyplot as plt\n",
    "\n",
    "from scipy.stats import norm"
   ]
  },
  {
   "cell_type": "markdown",
   "metadata": {},
   "source": [
    "# Caso Discreto"
   ]
  },
  {
   "cell_type": "code",
   "execution_count": 31,
   "metadata": {},
   "outputs": [],
   "source": [
    "def probacumulada(p: np.ndarray) -> np.ndarray:\n",
    "    \"\"\"\n",
    "        Dada uma função de probabilidade `p` que se supõem estar definida para eventos em {0, 1, ..., M-1} onde M é algum inteiro devolve a respetiva função de probabilidade acumulada.\n",
    "    \"\"\"\n",
    "\n",
    "    # Calcular a probabilidade\n",
    "    return np.array([sum(p[0:i+1]) for i in range(len(p))])"
   ]
  },
  {
   "cell_type": "code",
   "execution_count": 32,
   "metadata": {},
   "outputs": [],
   "source": [
    "def invdiscreto(c: np.ndarray, N: int) -> np.ndarray:\n",
    "    \"\"\"\n",
    "        Dada uma função de probabilidade acumulada `c` que se supõem estar definida para eventos em {0, 1, ..., M-1} onde M é algum inteiro devolve `N` amostras retiradas da respetiva distribuição usando o método da inversão no discreto.\n",
    "    \"\"\"\n",
    "    \n",
    "    # Resultados\n",
    "    res = np.empty(N)\n",
    "    for i in range(N):\n",
    "        a = np.random.rand()\n",
    "        res[i] = sum(c < a)\n",
    "    \n",
    "    return res"
   ]
  },
  {
   "cell_type": "markdown",
   "metadata": {},
   "source": [
    "## Testar"
   ]
  },
  {
   "cell_type": "code",
   "execution_count": 33,
   "metadata": {},
   "outputs": [
    {
     "name": "stdout",
     "output_type": "stream",
     "text": [
      "[0.5 1. ]\n",
      "[502 498]\n"
     ]
    }
   ],
   "source": [
    "# Lançamento de uma moeda\n",
    "p1 = np.array([0.5, 0.5])\n",
    "c1 = probacumulada(p1)\n",
    "\n",
    "print(c1)\n",
    "\n",
    "# Gerar uma amostra\n",
    "a1 = invdiscreto(c1, 1000)\n",
    "\n",
    "# Contar os resultados\n",
    "s1 = np.array([sum(a1 == i) for i in range(len(p1))])\n",
    "print(s1)"
   ]
  },
  {
   "cell_type": "code",
   "execution_count": 34,
   "metadata": {},
   "outputs": [
    {
     "name": "stdout",
     "output_type": "stream",
     "text": [
      "[0.4 0.6 0.6 0.6 0.9 1. ]\n",
      "[386 211   0   0 319  84]\n"
     ]
    }
   ],
   "source": [
    "# Dado viciado\n",
    "p2 = np.array([4, 2, 0, 0, 3, 1])\n",
    "p2 = p2 / sum(p2)\n",
    "c2 = probacumulada(p2)\n",
    "\n",
    "print(c2)\n",
    "\n",
    "# Gerar uma amostra\n",
    "a2 = invdiscreto(c2, 1000)\n",
    "\n",
    "# Contar os resultados\n",
    "s2 = np.array([sum(a2 == i) for i in range(len(p2))])\n",
    "print(s2)"
   ]
  },
  {
   "cell_type": "markdown",
   "metadata": {},
   "source": [
    "# Caso Contínuo"
   ]
  },
  {
   "cell_type": "code",
   "execution_count": 35,
   "metadata": {},
   "outputs": [],
   "source": [
    "def invcontinuo(cinv: Callable, N: int) -> np.ndarray:\n",
    "    \"\"\"\n",
    "        Dada a inversa de uma função de probabilidade acumulada `cinv` devolve `N` amostras retiradas da respetiva distribuição usando o método da inversão no contínuo.\n",
    "    \"\"\"\n",
    "    \n",
    "    # Resultados\n",
    "    res = np.empty(N)\n",
    "    for i in range(N):\n",
    "        a = np.random.rand()\n",
    "        res[i] = cinv(a)\n",
    "    \n",
    "    return res"
   ]
  },
  {
   "cell_type": "markdown",
   "metadata": {},
   "source": [
    "## Testar"
   ]
  },
  {
   "cell_type": "code",
   "execution_count": 53,
   "metadata": {},
   "outputs": [
    {
     "data": {
      "image/png": "[encoded data removed]",
      "text/plain": [
       "<Figure size 640x480 with 1 Axes>"
      ]
     },
     "metadata": {},
     "output_type": "display_data"
    }
   ],
   "source": [
    "# Distribuição normal\n",
    "pdf1 = norm.pdf\n",
    "invcdf1 = norm.ppf\n",
    "\n",
    "# Fazer amostragem\n",
    "a = -3\n",
    "b = 3\n",
    "N = 4000\n",
    "xx = np.linspace(a, b, N)\n",
    "yy1 = pdf1(xx)\n",
    "amostra = invcontinuo(invcdf1, N)\n",
    "\n",
    "# Construir histograma\n",
    "bins = int(N/100) + 1\n",
    "\n",
    "plt.plot(xx, yy1, label=\"Valor Verdadeiro\")\n",
    "plt.hist(amostra, bins, range=(a, b), density=True, label=\"Método Inversão\")\n",
    "plt.legend()\n",
    "plt.show()"
   ]
  },
  {
   "cell_type": "code",
   "execution_count": null,
   "metadata": {},
   "outputs": [],
   "source": []
  }
 ],
 "metadata": {
  "kernelspec": {
   "display_name": "Python 3",
   "language": "python",
   "name": "python3"
  },
  "language_info": {
   "codemirror_mode": {
    "name": "ipython",
    "version": 3
   },
   "file_extension": ".py",
   "mimetype": "text/x-python",
   "name": "python",
   "nbconvert_exporter": "python",
   "pygments_lexer": "ipython3",
   "version": "3.11.0"
  },
  "orig_nbformat": 4
 },
 "nbformat": 4,
 "nbformat_minor": 2
}
