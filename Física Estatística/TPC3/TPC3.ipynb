{
 "cells": [
  {
   "cell_type": "markdown",
   "id": "0cdd96ac-8e37-45cc-943f-9738b3a18f39",
   "metadata": {
    "editable": true,
    "slideshow": {
     "slide_type": ""
    },
    "tags": [
     "header"
    ]
   },
   "source": [
    "# TPC3 - Modelo de Ising de dimensão infinita com anisotropia\n",
    "\n",
    "*  Não deve escrever o seu nome nem nenhum código identificador em nenhum\n",
    "sítio. \n",
    "* Deve entregar ESTE Notebook de Jupyter.\n",
    "* O trabalho é individual. Podem e devem haver discussões com colegas\n",
    "mas o resultado entregue é individual. \n",
    "* Não deve acrescentar ou apagar nenhuma célula.\n",
    "* Todas as explicações devem ser claras e concisas. \n",
    "* É preferível fazer menos e fazer bem que muito e mal. \n",
    "* A não verificação de alguma destas regras leva ao anulamento e exclusão\n",
    "da prova."
   ]
  },
  {
   "cell_type": "code",
   "execution_count": 2,
   "id": "87434854-3069-4dc4-a42c-61fe3bab7fd0",
   "metadata": {
    "editable": true,
    "slideshow": {
     "slide_type": ""
    },
    "tags": [
     "header"
    ]
   },
   "outputs": [],
   "source": [
    "# Importe os Módulos Necessários\n",
    "from typing import Callable\n",
    "import numpy as np\n",
    "import matplotlib.pyplot as plt\n",
    "\n",
    "from scipy.stats import norm"
   ]
  },
  {
   "cell_type": "markdown",
   "id": "a170531f-6e36-4f80-83bf-735e1b572bce",
   "metadata": {
    "editable": true,
    "slideshow": {
     "slide_type": ""
    },
    "tags": [
     "pergunta"
    ]
   },
   "source": [
    "## Pergunta 1\n",
    "Nas aulas discutimos a solução do modelo de Ising de campo médio com\n",
    "$N$ spins ($s=\\pm1/2$). Neste trabalho de casa vamos abordar o modelo\n",
    "de Ising de campo médio de spin um ($s_{i}=\\pm1,0$) com anisotropia.\n",
    "Considere o Hamiltoniano, \n",
    "\\begin{equation}\n",
    "H(M,N_0,N)=\\frac{1}{N}\\sum_{i=1}^{N}\\sum_{j=1}^{N}\\left(1-s_{i}s_{j}\\right)+D\\sum_{i=1}^{N}s_{i}^{2}=\\frac{N^{2}-M^{2}}{N}+D(N-N_{0})\n",
    "\\end{equation}\n",
    "onde a magnetização é dada por $M=\\sum_{i=1}^{N}s_{i}$ e as variáveis\n",
    "de spin $s_{i}$ são $\\{\\pm1\\}$. Para este modelo a energia é função\n",
    "apenas da magnetização e do número de partículas. A densidade de estados\n",
    "do sistema é obtida usando o número de spins $s_{i}=+1$ ($N_{+}$),\n",
    "o número de spins $s_{i}=-1$ ($N_{-}$) e o número de spins $s_{i}=0$\n",
    "($N_{0}$): \n",
    "\\begin{align*}\n",
    "\\Omega(N_{+},N_{-},N_{0}) & =\\frac{N!}{N_{+}!N_{-}!N_{0}!} & N_{+} & =\\frac{N-N_{0}+M}{2} & N_{-} & =\\frac{N-N_{0}-M}{2}\n",
    "\\end{align*}\n",
    "Com esta parametrização,\n",
    "\\begin{equation}\n",
    "\\Omega(M,N_{0},N)=\\frac{N!}{\\left(\\frac{N-N_{0}+M}{2}\\right)!\\left(\\frac{N-N_{0}-M}{2}\\right)!N_{0}!}\n",
    "\\end{equation}\n",
    "onde $M\\in\\{-(N-N_{0}),-(N-N_{0})+2,\\dots,(N-N_{0})-2,(N-N_{0})\\}$,\n",
    "$N_{0}\\in\\{0,\\dots,N\\}$.\n",
    "\n",
    "1. Calcule numericamente o valor médio exacto como função da temperatura\n",
    "do módulo da magnetização para $\\beta$ entre 0.1 e 1.5 e para valores\n",
    "de $D\\in\\{0.0,0.25,0.5,0.75,1\\}$\n",
    "\\begin{align*}\n",
    "\\left\\langle \\frac{|M|}{N}\\right\\rangle  & =\\sum_{M,N_{0}}\\frac{|M|}{N}\\Omega(M,N_{0},N)\\frac{e^{-\\beta H(M,N_{0},N)}}{Z(\\beta)}\\\\\n",
    "Z(\\beta) & =\\sum_{M,N_{0}}\\Omega(M,N_{0},N)e^{-\\beta H(M,N_{0},N)}\n",
    "\\end{align*}\n",
    "Sugestão: O cálculo da combinatórica envolve números muito grandes.\n",
    "O idela é usar a fórmula de Stirling,\n",
    "\\begin{equation}\n",
    "\\log(n!)=n\\log(n)-n+\\frac{1}{2}\\log(2\\pi n)\n",
    "\\end{equation}\n",
    "e notar que o valor médio fica inalterado se deslocar a energia $-\\beta H(M,N_{0},N)\\to-\\beta H(M,N_{0},N)-C$\n",
    "nas exponenciais. "
   ]
  },
  {
   "cell_type": "markdown",
   "id": "825d8fd8-c46f-452c-ad98-1ae73bd71fad",
   "metadata": {
    "editable": true,
    "slideshow": {
     "slide_type": ""
    },
    "tags": [
     "resposta"
    ]
   },
   "source": [
    "## Alínea 1\n",
    "\n",
    "Vamos verificar que o valor médio fica inalterado pela translação da energia sugerida:\n",
    "$$\n",
    "\\begin{align*}\n",
    "\\left\\langle \\frac{|M|}{N}\\right\\rangle  &= \\sum_{M,N_{0}}\\frac{|M|}{N}\\Omega(M,N_{0},N)\\frac{e^{-\\beta H(M,N_{0},N)}}{\\sum_{M,N_{0}}\\Omega(M,N_{0},N)e^{-\\beta H(M,N_{0},N)}}\n",
    "\\\\[0.2cm]\n",
    "&= \\sum_{M,N_{0}}\\frac{|M|}{N}\\Omega(M,N_{0},N)\\frac{e^{-\\beta H(M,N_{0},N)-C}}{\\sum_{M,N_{0}}\\Omega(M,N_{0},N)e^{-\\beta H(M,N_{0},N)-C}}\n",
    "\\end{align*}\n",
    "$$\n",
    "\n",
    "Podemos então escolher um bom valor para $C$ estudando o Hamiltoniano em jogo:\n",
    "$$\n",
    "\\begin{align*}\n",
    "H(M,N_0,N) &= \\frac{N^{2}-M^{2}}{N}+D(N-N_{0})\n",
    "\\\\[0.2cm]\n",
    "&= N + DN - DN_0 - \\frac{M^2}{N}\n",
    "\\end{align*}\n",
    "$$\n",
    "\n",
    "Escolhendo $C = -\\beta(N + DN)$ temos:\n",
    "$$\n",
    "\\begin{align*}\n",
    "-\\beta H(M,N_0,N) - C&= \\beta\\left(DN_0 + \\frac{M^2}{N}\\right)\n",
    "\\end{align*}\n",
    "$$"
   ]
  },
  {
   "cell_type": "code",
   "execution_count": 3,
   "id": "ad5407b8-7612-4e65-bd36-911657165872",
   "metadata": {
    "editable": true,
    "slideshow": {
     "slide_type": ""
    },
    "tags": [
     "code"
    ]
   },
   "outputs": [
    {
     "name": "stdout",
     "output_type": "stream",
     "text": [
      "[1, 1, 2, 6, 24, 120, 720, 5040, 40320, 362880, 3628800]\n"
     ]
    }
   ],
   "source": [
    "# Parâmetro abaixo do qual não usamos a aproximação de Stirling\n",
    "STIRLING = 10\n",
    "\n",
    "# Memorizar o valor do fatorial para n baixo\n",
    "memfactorial = [1]\n",
    "for n in range(STIRLING):\n",
    "    memfactorial += [memfactorial[-1] * (n+1)]\n",
    "\n",
    "memfactorial = np.array(memfactorial)\n",
    "\n",
    "def fastfactorial(n: int) -> int:\n",
    "    \"\"\"\n",
    "        Calcula o fatorial dos elementos de `n`. Usa a aproximação de Stirling para inteiros maiores que o parâmetro STIRLING.\n",
    "    \"\"\"\n",
    "    # Aceder às variáveis globais\n",
    "    global STIRLING, memfactorial\n",
    "\n",
    "    if n <= STIRLING:\n",
    "        return memfactorial[n]\n",
    "    else:\n",
    "        return n * np.log(n) - n + np.log(2 * np.pi * n) /2"
   ]
  },
  {
   "cell_type": "markdown",
   "id": "c9fdf07c-5f70-4d8b-8764-84a0f26f7cb7",
   "metadata": {
    "editable": true,
    "slideshow": {
     "slide_type": ""
    },
    "tags": [
     "pergunta"
    ]
   },
   "source": [
    "1. Para cada temperatura a distribuição de probabilidades da magnetização\n",
    "é dada por,\n",
    "\\begin{equation}\n",
    "P_{N,\\beta}(M,N_{0})=\\frac{e^{\\ln(\\Omega(M,N_{0},N))-\\beta H(M,N_{0},N)}}{Z(\\beta,N)}\n",
    "\\end{equation}\n",
    "e a distribuição de probabilidade da magnetização é dada por, \n",
    "\\begin{equation}\n",
    "P_{N,\\beta}(M)=\\sum_{N_{0}}P_{N,\\beta}(M,N_{0})\n",
    "\\end{equation}\n",
    "Gere uma amostra de valores aleatórios de $M$ e $N_{0}$ com a distribução\n",
    "pretendida usando o método von Neumann. Com esta amostra $\\{M_{1},M_{2},\\dots,M_{K}\\}$\n",
    "\n",
    "$\\qquad$ a) Represente o histograma da amostra aleatória gerada e compare com\n",
    "a distribuição teórica para $\\beta\\in\\{0.1,0.5,0.75,0.9,1.0,1.05,1.1,1.2,1.5\\}$\n",
    "e $D\\in\\{0.0,0.25,0.5,0.75,1\\}$."
   ]
  },
  {
   "cell_type": "markdown",
   "id": "c19a8818-ac60-418e-855f-7832916353e7",
   "metadata": {
    "editable": true,
    "slideshow": {
     "slide_type": ""
    },
    "tags": [
     "resposta"
    ]
   },
   "source": [
    "Responda Aqui"
   ]
  },
  {
   "cell_type": "code",
   "execution_count": 2,
   "id": "b0fca938-2156-436e-8f2c-4b2c130ab4f2",
   "metadata": {
    "editable": true,
    "slideshow": {
     "slide_type": ""
    },
    "tags": [
     "code"
    ]
   },
   "outputs": [],
   "source": [
    "# Responda Aqui"
   ]
  },
  {
   "cell_type": "markdown",
   "id": "4ca8be79-2e6b-4342-b2ab-ee39cf897a90",
   "metadata": {
    "editable": true,
    "slideshow": {
     "slide_type": ""
    },
    "tags": [
     "pergunta"
    ]
   },
   "source": [
    "$\\quad$(b) Meça a autocorrelação da magnetização para $\\beta=1.05$,\n",
    "\\begin{align*}\n",
    "corr_{M}(\\tau)\t& =\\frac{\\left\\langle M_{i}M_{i+\\tau}\\right\\rangle -\\left\\langle M_{i}\\right\\rangle ^{2}}{\\left\\langle M_{i}^{2}\\right\\rangle -\\left\\langle M_{i}\\right\\rangle ^{2}}\\\\\n",
    "\\left\\langle M_{i}M_{i+\\tau}\\right\\rangle &\t=\\frac{1}{L}\\sum_{i=1}^{L}M_{i}M_{i+\\tau}\n",
    "\\end{align*}"
   ]
  },
  {
   "cell_type": "markdown",
   "id": "adffed3c-02eb-46b8-9ae0-0b7966580b1a",
   "metadata": {
    "editable": true,
    "slideshow": {
     "slide_type": ""
    },
    "tags": [
     "resposta"
    ]
   },
   "source": [
    "Responda Aqui"
   ]
  },
  {
   "cell_type": "code",
   "execution_count": 2,
   "id": "657b8524-6d8d-4540-a8d2-15567e4289db",
   "metadata": {
    "editable": true,
    "slideshow": {
     "slide_type": ""
    },
    "tags": [
     "code",
     "adicionarAvaliacao"
    ]
   },
   "outputs": [],
   "source": [
    "# Responda Aqui"
   ]
  },
  {
   "cell_type": "markdown",
   "id": "04d1010d-9ea7-4dcb-9ffc-dbfa1b73400e",
   "metadata": {
    "editable": true,
    "slideshow": {
     "slide_type": ""
    },
    "tags": [
     "pergunta"
    ]
   },
   "source": [
    "## Pergunta 2\n",
    "\n",
    "Na pergunta anterior efectuamos uma simulação Monte Carlo gerando as amostras da variável $M$. Será que a amostra gerada corresponde à gerada por uma dinâmica do sistema de N spins com o Hamiltoniano, \n",
    "\\begin{equation*}\n",
    "H=\\frac{N^{2}-M^{2}}{N}+D(N-N_{0})\n",
    "\\end{equation*}\n",
    "e com o algorítmo de Metropolis?\n",
    "\n",
    "1. Para testar implemente o algoritmo de Metropolis para $N$ spins:\n",
    "\n",
    "• Atribua a cada um dos $N$ spins do sistema uma variável $\\pm1,0$ com probailidade uniforme.\n",
    "\n",
    "• Considere um passo de tempo o seguinte algoritmo:\n",
    "\n",
    "– Escolha um spin com probabilidade uniforme.\n",
    "\n",
    "– Proponha alterar o seu valor e aceite com a probabilidade $\\min\\left(1,e^{-\\beta\\Delta H}\\right)$ senão fique no mesmo estado."
   ]
  },
  {
   "cell_type": "markdown",
   "id": "0b35b20d-d942-4999-900a-f195a2049465",
   "metadata": {
    "editable": true,
    "slideshow": {
     "slide_type": ""
    },
    "tags": [
     "resposta"
    ]
   },
   "source": [
    "Responda Aqui"
   ]
  },
  {
   "cell_type": "code",
   "execution_count": 2,
   "id": "3d53d83f-8763-45b0-862e-c0a23adaf474",
   "metadata": {
    "editable": true,
    "slideshow": {
     "slide_type": ""
    },
    "tags": [
     "code"
    ]
   },
   "outputs": [],
   "source": [
    "# Responda Aqui"
   ]
  },
  {
   "cell_type": "markdown",
   "id": "65519c49-eb8c-48b8-b412-8bc252a86c04",
   "metadata": {
    "editable": true,
    "slideshow": {
     "slide_type": ""
    },
    "tags": [
     "pergunta"
    ]
   },
   "source": [
    "2. Compare as distribuições de probabilidade assiptótica da magnetização para vários valores de $\\beta$ e $D$.  "
   ]
  },
  {
   "cell_type": "markdown",
   "id": "c9e0ff36-21b6-4a0a-a142-386c4e0621ef",
   "metadata": {
    "editable": true,
    "slideshow": {
     "slide_type": ""
    },
    "tags": [
     "resposta"
    ]
   },
   "source": [
    "Responda Aqui"
   ]
  },
  {
   "cell_type": "code",
   "execution_count": 2,
   "id": "9107d1ee-6096-441c-b3b4-5254bb947aa3",
   "metadata": {
    "editable": true,
    "slideshow": {
     "slide_type": ""
    },
    "tags": [
     "code"
    ]
   },
   "outputs": [],
   "source": [
    "# Responda Aqui"
   ]
  },
  {
   "cell_type": "markdown",
   "id": "89b7fb4e-181b-47f6-9126-2d64508e5b9b",
   "metadata": {
    "editable": true,
    "slideshow": {
     "slide_type": ""
    },
    "tags": [
     "pergunta"
    ]
   },
   "source": [
    "3. Os amostras geradas são equivalentes às do primeiro problema?"
   ]
  },
  {
   "cell_type": "markdown",
   "id": "e51cd5a1-1ada-462d-8971-ee59acc8eaa9",
   "metadata": {
    "editable": true,
    "slideshow": {
     "slide_type": ""
    },
    "tags": [
     "resposta"
    ]
   },
   "source": [
    "Responda Aqui"
   ]
  },
  {
   "cell_type": "code",
   "execution_count": 2,
   "id": "369e6e31-78ce-4bd3-b47b-6a68e3d571df",
   "metadata": {
    "editable": true,
    "slideshow": {
     "slide_type": ""
    },
    "tags": [
     "code",
     "adicionarAvaliacao"
    ]
   },
   "outputs": [],
   "source": [
    "# Responda Aqui"
   ]
  },
  {
   "cell_type": "markdown",
   "id": "6871d34c-b332-4bb1-b926-63f642aa8ab5",
   "metadata": {
    "editable": true,
    "slideshow": {
     "slide_type": ""
    },
    "tags": [
     "sorte"
    ]
   },
   "source": [
    "### Bom Trabalho"
   ]
  }
 ],
 "metadata": {
  "kernelspec": {
   "display_name": "Python 3 (ipykernel)",
   "language": "python",
   "name": "python3"
  },
  "language_info": {
   "codemirror_mode": {
    "name": "ipython",
    "version": 3
   },
   "file_extension": ".py",
   "mimetype": "text/x-python",
   "name": "python",
   "nbconvert_exporter": "python",
   "pygments_lexer": "ipython3",
   "version": "3.11.0"
  }
 },
 "nbformat": 4,
 "nbformat_minor": 5
}
