{
 "cells": [
  {
   "attachments": {},
   "cell_type": "markdown",
   "metadata": {},
   "source": [
    "# Easy Problem\n",
    "\n",
    "We want to minimize the total cost of deliveries!"
   ]
  },
  {
   "cell_type": "code",
   "execution_count": 2,
   "metadata": {},
   "outputs": [],
   "source": [
    "import numpy as np\n",
    "import matplotlib as plt"
   ]
  },
  {
   "attachments": {},
   "cell_type": "markdown",
   "metadata": {},
   "source": [
    "## Parameters\n",
    "\n",
    "We have the following problem parameters:\n",
    "- Cost of the DC in euros $C = 25000$\n",
    "- Maximum number of DCs $N = 20$\n",
    "- Expected deliveries per 1000 people $D = 0.2$\n",
    "- Cost per kilometer of each delivery $K = 1$\n",
    "- Radius of the Earth $R = 6371.009$"
   ]
  },
  {
   "cell_type": "code",
   "execution_count": 3,
   "metadata": {},
   "outputs": [],
   "source": [
    "PARAM = {\n",
    "    \"C\": 25000,\n",
    "    \"N\": 20,\n",
    "    \"D\": 0.2,\n",
    "    \"K\": 1,\n",
    "    \"R\": 6371.009\n",
    "}"
   ]
  },
  {
   "attachments": {},
   "cell_type": "markdown",
   "metadata": {},
   "source": [
    "# Model\n",
    "\n",
    "We can then construct the model, where the decision variables are binary and correspond to the answer to the question \"Will there be a distribution center in this town?\".\n",
    "\n",
    "Let the towns be represented by a number $i$, then $x_i$ is $1$ if there is a DC in $i$ and $0$ otherwise.\n",
    "\n",
    "We can then model the problem as follows:\n",
    "$$\n",
    "\\begin{alignat*}{2}\n",
    "\n",
    "\\min_{x_i} &\\quad& &K \\times \\text{Sum of the distance from each city to the closest DC} - C \\times \\sum_i x_i\n",
    "\\\\\\\\\n",
    "\n",
    "\\text{s.t}& &&\\sum x_i \\in \\{0, 1\\}\n",
    "\\\\\n",
    "&&& \\sum_i x_i \\in [1, 20]\n",
    "\n",
    "\\end{alignat*}\n",
    "$$"
   ]
  },
  {
   "attachments": {},
   "cell_type": "markdown",
   "metadata": {},
   "source": [
    "## Data\n",
    "\n",
    "Open the data we'll work with."
   ]
  },
  {
   "cell_type": "code",
   "execution_count": 31,
   "metadata": {},
   "outputs": [
    {
     "name": "stdout",
     "output_type": "stream",
     "text": [
      "379\n"
     ]
    }
   ],
   "source": [
    "data = np.loadtxt(\"PopulationCountPT-2020.csv\", delimiter=\",\", dtype=object)\n",
    "\n",
    "index, name, pop, lat, lon = (data[1:, i] for i in range(5))\n",
    "\n",
    "pop = pop.astype(\"float64\")\n",
    "lat = lat.astype(\"float64\")\n",
    "lon = lon.astype(\"float64\")\n",
    "\n",
    "# Calculate expected number of deliveries\n",
    "val = pop * PARAM[\"D\"]\n",
    "\n",
    "\n",
    "# Convert the lats and lons to radians\n",
    "lat = lat * np.pi / 180\n",
    "lon = lon * np.pi / 180\n",
    "\n",
    "\n",
    "# Number of cities\n",
    "NC = int(index[-1])\n",
    "print(NC)"
   ]
  },
  {
   "attachments": {},
   "cell_type": "markdown",
   "metadata": {},
   "source": [
    "## Organize the Data\n",
    "\n",
    "We'll organize the data that relates to each city into a dict and store the distance between any pair of cities in a matrix."
   ]
  },
  {
   "cell_type": "code",
   "execution_count": 43,
   "metadata": {},
   "outputs": [
    {
     "name": "stdout",
     "output_type": "stream",
     "text": [
      "[[  0.         306.85927257  10.91193996 364.69597021  38.35659918]\n",
      " [  0.           0.         309.54427733  58.52795115 311.10935063]\n",
      " [  0.           0.           0.         367.39171335  49.2401145 ]\n",
      " [  0.           0.           0.           0.         368.89038262]\n",
      " [  0.           0.           0.           0.           0.        ]]\n"
     ]
    }
   ],
   "source": [
    "def create_city(id: int, name: str, val: int, lat: float, lon: float) -> dict:\n",
    "    return {\n",
    "        \"id\": id,\n",
    "        \"name\": name,\n",
    "        \"val\": val,\n",
    "        \"lat\": lat,\n",
    "        \"lon\": lon\n",
    "    }\n",
    "\n",
    "\n",
    "def dist(city1: dict, city2: dict) -> float:\n",
    "    global PARAM\n",
    "    R = PARAM[\"R\"]\n",
    "\n",
    "    theta = min(city1[\"lat\"], city2[\"lat\"])\n",
    "\n",
    "    dtheta = abs(city1[\"lat\"] - city2[\"lat\"])\n",
    "    dphi = abs(city1[\"lon\"] - city2[\"lon\"])\n",
    "\n",
    "    return R * np.sin(theta) *dphi + R * dtheta\n",
    "    \n",
    "\n",
    "\n",
    "# List with all the cities\n",
    "CC = []\n",
    "for id, n, v, la, lo in zip(index, name, val, lat, lon):\n",
    "    CC += [create_city(int(id)-1, n, v, la, lo)]\n",
    "\n",
    "\n",
    "DD = np.zeros((NC, NC))\n",
    "for i1, city1 in enumerate(CC):\n",
    "    for i2, city2 in enumerate(CC[i1:]):\n",
    "        DD[i1, i1 + i2] = dist(city1, city2)\n",
    "\n",
    "# print(DD[:5, :5])"
   ]
  },
  {
   "attachments": {},
   "cell_type": "markdown",
   "metadata": {},
   "source": [
    "# Solving the Problem"
   ]
  },
  {
   "attachments": {},
   "cell_type": "markdown",
   "metadata": {},
   "source": [
    "We are going to use the following \"greedy\" heuristic for solving the problem:\n",
    "- Calculate the best place to put each DC and put it there!\n",
    "\n",
    "To implement it, we are going to do the following:\n",
    "- Compute the distances between every pair of cities and order them from closest to farthest.\n",
    "- Calculate the value that we get from putting a DC in each available city, supposing each city is supplied by the closest DC to it, and choose the highest."
   ]
  },
  {
   "attachments": {},
   "cell_type": "markdown",
   "metadata": {},
   "source": [
    "## Preliminaries"
   ]
  },
  {
   "cell_type": "code",
   "execution_count": null,
   "metadata": {},
   "outputs": [],
   "source": []
  }
 ],
 "metadata": {
  "kernelspec": {
   "display_name": "Python 3",
   "language": "python",
   "name": "python3"
  },
  "language_info": {
   "codemirror_mode": {
    "name": "ipython",
    "version": 3
   },
   "file_extension": ".py",
   "mimetype": "text/x-python",
   "name": "python",
   "nbconvert_exporter": "python",
   "pygments_lexer": "ipython3",
   "version": "3.11.0"
  },
  "orig_nbformat": 4
 },
 "nbformat": 4,
 "nbformat_minor": 2
}
