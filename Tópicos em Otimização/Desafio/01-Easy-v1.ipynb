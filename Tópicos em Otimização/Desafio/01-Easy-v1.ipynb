{
 "cells": [
  {
   "attachments": {},
   "cell_type": "markdown",
   "metadata": {},
   "source": [
    "# Easy Problem\n",
    "\n",
    "We want to minimize the total cost of deliveries!"
   ]
  },
  {
   "cell_type": "code",
   "execution_count": 2,
   "metadata": {},
   "outputs": [],
   "source": [
    "import numpy as np\n",
    "import matplotlib as plt"
   ]
  },
  {
   "attachments": {},
   "cell_type": "markdown",
   "metadata": {},
   "source": [
    "## Parameters\n",
    "\n",
    "We have the following problem parameters:\n",
    "- Cost of the DC in euros $C = 25000$\n",
    "- Maximum number of DCs $N = 20$\n",
    "- Expected deliveries per 1000 people $D = 0.2$\n",
    "- Cost per kilometer of each delivery $K = 1$\n",
    "- Radius of the Earth $R = 6371.009$"
   ]
  },
  {
   "cell_type": "code",
   "execution_count": 23,
   "metadata": {},
   "outputs": [],
   "source": [
    "PARAM = {\n",
    "    \"C\": 25000,\n",
    "    \"N\": 20,\n",
    "    \"D\": 0.2,\n",
    "    \"K\": 1,\n",
    "    \"R\": 6371.009\n",
    "}"
   ]
  },
  {
   "attachments": {},
   "cell_type": "markdown",
   "metadata": {},
   "source": [
    "## Data\n",
    "\n",
    "Open the data we'll work with."
   ]
  },
  {
   "cell_type": "code",
   "execution_count": 25,
   "metadata": {},
   "outputs": [],
   "source": [
    "data = np.loadtxt(\"PopulationCountPT-2020.csv\", delimiter=\",\", dtype=object)\n",
    "\n",
    "index, name, pop, lat, lon = (data[1:, i] for i in range(5))\n",
    "\n",
    "pop = pop.astype(\"float64\")\n",
    "lat = lat.astype(\"float64\")\n",
    "lon = lon.astype(\"float64\")\n",
    "\n",
    "# Calculate expected number of deliveries\n",
    "val = pop * PARAM[\"D\"]\n"
   ]
  },
  {
   "attachments": {},
   "cell_type": "markdown",
   "metadata": {},
   "source": [
    "# Solving the Problem"
   ]
  },
  {
   "attachments": {},
   "cell_type": "markdown",
   "metadata": {},
   "source": [
    "We are going to use the following \"greedy\" heuristic for solving the problem:\n",
    "- Calculate the best place to put each DC and put it there!\n",
    "\n",
    "To implement it, we are going to do the following:\n",
    "- Compute the distances between every pair of cities and order them from closest to farthest.\n",
    "- Calculate the value that we get from putting a DC in each available city, supposing each city is supplied by the closest DC to it, and choose the highest."
   ]
  },
  {
   "cell_type": "markdown",
   "metadata": {},
   "source": []
  }
 ],
 "metadata": {
  "kernelspec": {
   "display_name": "Python 3",
   "language": "python",
   "name": "python3"
  },
  "language_info": {
   "codemirror_mode": {
    "name": "ipython",
    "version": 3
   },
   "file_extension": ".py",
   "mimetype": "text/x-python",
   "name": "python",
   "nbconvert_exporter": "python",
   "pygments_lexer": "ipython3",
   "version": "3.11.0"
  },
  "orig_nbformat": 4
 },
 "nbformat": 4,
 "nbformat_minor": 2
}
