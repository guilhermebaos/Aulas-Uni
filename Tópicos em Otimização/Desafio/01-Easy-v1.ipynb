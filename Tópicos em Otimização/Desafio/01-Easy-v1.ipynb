{
 "cells": [
  {
   "attachments": {},
   "cell_type": "markdown",
   "metadata": {},
   "source": [
    "# Easy Problem\n",
    "\n",
    "We want to minimize the total cost of deliveries!"
   ]
  },
  {
   "cell_type": "code",
   "execution_count": 154,
   "metadata": {},
   "outputs": [],
   "source": [
    "import numpy as np\n",
    "import matplotlib as plt"
   ]
  },
  {
   "attachments": {},
   "cell_type": "markdown",
   "metadata": {},
   "source": [
    "## Parameters\n",
    "\n",
    "We have the following problem parameters:\n",
    "- Cost of the DC in euros $C = 25000$\n",
    "- Maximum number of DCs $N = 20$\n",
    "- Expected deliveries per 1000 people $D = 0.2$\n",
    "- Cost per kilometer of each delivery $K = 1$\n",
    "- Radius of the Earth $R = 6371.009$"
   ]
  },
  {
   "cell_type": "code",
   "execution_count": 155,
   "metadata": {},
   "outputs": [],
   "source": [
    "PARAM = {\n",
    "    \"C\": 25000,\n",
    "    \"N\": 20,\n",
    "    \"D\": 0.2 / 1000,\n",
    "    \"K\": 1,\n",
    "    \"R\": 6371.009\n",
    "}"
   ]
  },
  {
   "attachments": {},
   "cell_type": "markdown",
   "metadata": {},
   "source": [
    "# Model\n",
    "\n",
    "We can then construct the model, where the decision variables are binary and correspond to the answer to the question \"Will there be a distribution center in this town?\".\n",
    "\n",
    "Let the towns be represented by a number $i$, then $x_i$ is $1$ if there is a DC in $i$ and $0$ otherwise.\n",
    "\n",
    "We can then model the problem as follows:\n",
    "$$\n",
    "\\begin{alignat*}{2}\n",
    "\n",
    "\\min_{x_i} &\\quad& &K \\times \\text{Sum of the distance from each city to the closest DC} + C \\times \\sum_i x_i\n",
    "\\\\\\\\\n",
    "\n",
    "\\text{s.t}& &&x_i \\in \\{0, 1\\}\n",
    "\\\\\\\\\n",
    "&&& \\sum_i x_i \\ge 1\n",
    "\\\\\n",
    "&&& \\sum_i x_i \\le N\n",
    "\n",
    "\\end{alignat*}\n",
    "$$"
   ]
  },
  {
   "attachments": {},
   "cell_type": "markdown",
   "metadata": {},
   "source": [
    "## Data\n",
    "\n",
    "Open the data we'll work with."
   ]
  },
  {
   "cell_type": "code",
   "execution_count": 156,
   "metadata": {},
   "outputs": [
    {
     "name": "stdout",
     "output_type": "stream",
     "text": [
      "379\n"
     ]
    }
   ],
   "source": [
    "data = np.loadtxt(\"PopulationCountPT-2020.csv\", delimiter=\",\", dtype=object)\n",
    "\n",
    "index, name, pop, lat, lon = (data[1:, i] for i in range(5))\n",
    "\n",
    "pop = pop.astype(\"float64\")\n",
    "lat = lat.astype(\"float64\")\n",
    "lon = lon.astype(\"float64\")\n",
    "\n",
    "# Calculate expected number of deliveries\n",
    "val = pop * PARAM[\"D\"]\n",
    "VAL = val\n",
    "\n",
    "\n",
    "# Convert the lats and lons to radians\n",
    "lat = lat * np.pi / 180\n",
    "lon = lon * np.pi / 180\n",
    "\n",
    "\n",
    "# Number of cities\n",
    "NC = int(index[-1])\n",
    "print(NC)"
   ]
  },
  {
   "attachments": {},
   "cell_type": "markdown",
   "metadata": {},
   "source": [
    "## Organize the Data\n",
    "\n",
    "We'll organize the data that relates to each city into a dict and store the distance between any pair of cities in a matrix."
   ]
  },
  {
   "cell_type": "code",
   "execution_count": 157,
   "metadata": {},
   "outputs": [
    {
     "name": "stdout",
     "output_type": "stream",
     "text": [
      "[[  0.         306.85927257  10.91193996 364.69597021  38.35659918\n",
      "  215.20893961  12.86465043]\n",
      " [306.85927257   0.         309.54427733  58.52795115 311.10935063\n",
      "  118.70640199 310.88942488]]\n"
     ]
    }
   ],
   "source": [
    "def create_city(id: int, name: str, val: int, lat: float, lon: float) -> dict:\n",
    "    return {\n",
    "        \"id\": id,\n",
    "        \"name\": name,\n",
    "        \"val\": val,\n",
    "        \"lat\": lat,\n",
    "        \"lon\": lon\n",
    "    }\n",
    "\n",
    "\n",
    "def dist(city1: dict, city2: dict) -> float:\n",
    "    global PARAM\n",
    "    R = PARAM[\"R\"]\n",
    "\n",
    "    theta = min(city1[\"lat\"], city2[\"lat\"])\n",
    "\n",
    "    dtheta = abs(city1[\"lat\"] - city2[\"lat\"])\n",
    "    dphi = abs(city1[\"lon\"] - city2[\"lon\"])\n",
    "\n",
    "    return R * np.sin(theta) * dphi + R * dtheta\n",
    "    \n",
    "\n",
    "\n",
    "# List with all the cities\n",
    "CC = []\n",
    "for id, n, v, la, lo in zip(index, name, val, lat, lon):\n",
    "    CC += [create_city(int(id)-1, n, v, la, lo)]\n",
    "\n",
    "\n",
    "DD = np.zeros((NC, NC))\n",
    "for i1, city1 in enumerate(CC):\n",
    "    for i2, city2 in enumerate(CC[i1:]):\n",
    "        DD[i1, i1 + i2] = dist(city1, city2)\n",
    "\n",
    "DD = DD + DD.transpose()\n",
    "print(DD[0:2, 0:7])"
   ]
  },
  {
   "attachments": {},
   "cell_type": "markdown",
   "metadata": {},
   "source": [
    "# Solving the Problem"
   ]
  },
  {
   "attachments": {},
   "cell_type": "markdown",
   "metadata": {},
   "source": [
    "We are going to use the following \"greedy\" heuristic for solving the problem:\n",
    "- Calculate the best place to put each DC and put it there!\n",
    "\n",
    "To implement it, we are going to do the following:\n",
    "- Compute the distances between every pair of cities and order them from closest to farthest.\n",
    "- Calculate the value that we get from putting a DC in each available city, supposing each city is supplied by the closest DC to it, and choose the highest."
   ]
  },
  {
   "attachments": {},
   "cell_type": "markdown",
   "metadata": {},
   "source": [
    "## Preliminaries"
   ]
  },
  {
   "cell_type": "code",
   "execution_count": 158,
   "metadata": {},
   "outputs": [],
   "source": [
    "class NumberBase:\n",
    "    def __init__(self, base: int, dims: int) -> None:\n",
    "        self.base = base\n",
    "        self.dims = dims\n",
    "\n",
    "        self.value = [0 for _ in range(dims)]\n",
    "    \n",
    "\n",
    "    def __str__(self) -> str:\n",
    "        return f\"{self.value}\"\n",
    "    \n",
    "\n",
    "    def increment_pos_n(self, n) -> list[int]:\n",
    "        self.value[n] += 1\n",
    "        if self.value[n] >= self.base:\n",
    "            if n != 0:\n",
    "                self.value[n] = 0\n",
    "                return self.increment_pos_n(n-1)\n",
    "            else:\n",
    "                raise ValueError(\"Overflow!\")\n",
    "        \n",
    "        return self.value\n",
    "        \n",
    "\n",
    "    \n",
    "    def increment(self) -> list[int]:\n",
    "        return self.increment_pos_n(self.dims - 1)\n",
    "        \n",
    "\n",
    "\n",
    "\n",
    "def eval_DCs(DD: np.ndarray, VAL: np.ndarray,  DCs: list[int], len_DCs: int) -> float:\n",
    "    \"\"\"\n",
    "        Given an array of DCs return their total cost\n",
    "    \"\"\"\n",
    "    global PARAM\n",
    "\n",
    "    min_dists = np.min(DD[:, DCs], axis=1)\n",
    "    cost = np.sum(min_dists * VAL)\n",
    "    cost += PARAM[\"C\"] * (len_DCs + 1)\n",
    "\n",
    "    return cost\n",
    "\n",
    "\n",
    "def new_DC(NC: int, DD: np.ndarray, VAL: np.ndarray,  DCs: list[int], cost: float) -> tuple[float, float]:\n",
    "    \"\"\"\n",
    "        Given the number of cities NC and the currente DCs return the best new DC and the respective cost\n",
    "    \"\"\"\n",
    "\n",
    "    min_cost = cost\n",
    "    choice = -1\n",
    "    len_DCs = len(DCs)\n",
    "\n",
    "    options = np.array(range(NC))\n",
    "    options = np.delete(options, DCs)\n",
    "\n",
    "    for new_DC in options:\n",
    "        all_DCs = DCs.copy() + [new_DC]\n",
    "\n",
    "        cost = eval_DCs(DD, VAL, all_DCs, len_DCs + 1)\n",
    "\n",
    "        if cost < min_cost:\n",
    "            min_cost = cost\n",
    "            choice = new_DC\n",
    "    \n",
    "    return choice, min_cost\n",
    "\n",
    "\n",
    "def new_multi_DC(NC: int, DD: np.ndarray, VAL: np.ndarray,  DCs: list[int], cost: float, nDC: int) -> tuple[float, float]:\n",
    "    \"\"\"\n",
    "        Given the number of cities NC and the currente DCs return the best new nDC number of DCs and the respective total cost\n",
    "    \"\"\"\n",
    "\n",
    "    min_cost = cost\n",
    "    choices = np.array([-1 for _ in range(nDC)])\n",
    "    len_DCs = len(DCs)\n",
    "\n",
    "    options = np.array(range(NC))\n",
    "    options = np.delete(options, DCs)\n",
    "\n",
    "    i = NumberBase(NC, nDC)\n",
    "    for _ in range(NC**nDC - 1):\n",
    "        new_DCs = i.value.copy()\n",
    "\n",
    "        # Prevent permutations\n",
    "        if nDC > 1:\n",
    "            cont = False\n",
    "            for index in range(nDC - 1):\n",
    "                if new_DCs[index + 1] <= new_DCs[index]:\n",
    "                    cont = True\n",
    "                    break\n",
    "            if cont:\n",
    "                i.increment()\n",
    "                continue\n",
    "\n",
    "\n",
    "        all_DCs = DCs.copy() + new_DCs\n",
    "\n",
    "        cost = eval_DCs(DD, VAL, all_DCs, len_DCs + nDC)\n",
    "\n",
    "        if cost < min_cost:\n",
    "            min_cost = cost\n",
    "            choices = new_DCs\n",
    "        \n",
    "        i.increment()\n",
    "            \n",
    "    \n",
    "    return choices, min_cost"
   ]
  },
  {
   "attachments": {},
   "cell_type": "markdown",
   "metadata": {},
   "source": [
    "## Upper Bound\n",
    "\n",
    "We can set an easy upper bound and sanity check by simply placing DCs on the 20 highest populated cities and seeing the result:"
   ]
  },
  {
   "cell_type": "code",
   "execution_count": 159,
   "metadata": {},
   "outputs": [
    {
     "name": "stdout",
     "output_type": "stream",
     "text": [
      "Total Cost: 0.56 million euros\n",
      "Number of DCs: 20\n",
      "range(0, 20)\n"
     ]
    }
   ],
   "source": [
    "DCs = range(20)\n",
    "\n",
    "cost = eval_DCs(DD, VAL, DCs, len(DCs))\n",
    "\n",
    "print(f\"Total Cost: {cost/1e6:.2f} million euros\")\n",
    "print(f\"Number of DCs: {len(DCs)}\")\n",
    "print(DCs)"
   ]
  },
  {
   "attachments": {},
   "cell_type": "markdown",
   "metadata": {},
   "source": [
    "## Greedy Heuristic\n",
    "\n",
    "Now let's implement our greedy heuristic:"
   ]
  },
  {
   "cell_type": "code",
   "execution_count": 160,
   "metadata": {},
   "outputs": [
    {
     "name": "stdout",
     "output_type": "stream",
     "text": [
      "Total Cost: 0.17 thousand euros\n",
      "Number of DCs: 3\n",
      "[49, 70, 0]\n"
     ]
    }
   ],
   "source": [
    "DCs = []\n",
    "cost = np.inf\n",
    "for _ in range(PARAM[\"N\"]):\n",
    "    choice, cost = new_DC(NC, DD, VAL, DCs, cost)\n",
    "    if choice == -1:\n",
    "        continue\n",
    "\n",
    "    DCs += [choice]\n",
    "\n",
    "print(f\"Total Cost: {cost/1e3:.2f} thousand euros\")\n",
    "print(f\"Number of DCs: {len(DCs)}\")\n",
    "print(DCs)"
   ]
  },
  {
   "attachments": {},
   "cell_type": "markdown",
   "metadata": {},
   "source": [
    "## Multi-Greedy Heuristic\n",
    "\n",
    "We can now place multiple DCs at the same time!"
   ]
  },
  {
   "cell_type": "code",
   "execution_count": 161,
   "metadata": {},
   "outputs": [
    {
     "name": "stdout",
     "output_type": "stream",
     "text": [
      "Total Cost: 169.68 thousand euros\n",
      "Number of DCs: 3\n",
      "[49, 70, 0]\n"
     ]
    }
   ],
   "source": [
    "DCs = []\n",
    "cost = np.inf\n",
    "\n",
    "for _ in range(PARAM[\"N\"]):\n",
    "    choice, cost = new_multi_DC(NC, DD, VAL, DCs, cost, 1)\n",
    "    if np.sum(choice) < 0:\n",
    "        continue\n",
    "\n",
    "    DCs += choice\n",
    "\n",
    "cost = eval_DCs(DD, VAL, DCs, len(DCs))\n",
    "print(f\"Total Cost: {cost/1e3:.2f} thousand euros\")\n",
    "print(f\"Number of DCs: {len(DCs)}\")\n",
    "print(DCs)"
   ]
  },
  {
   "cell_type": "code",
   "execution_count": 162,
   "metadata": {},
   "outputs": [
    {
     "name": "stdout",
     "output_type": "stream",
     "text": [
      "Total Cost: 0.15 thousand euros\n",
      "Number of DCs: 2\n",
      "[0, 70]\n"
     ]
    }
   ],
   "source": [
    "DCs = []\n",
    "cost = np.inf\n",
    "\n",
    "for _ in range(PARAM[\"N\"]//2):\n",
    "    choice, cost = new_multi_DC(NC, DD, VAL, DCs, cost, 2)\n",
    "    if np.sum(choice) < 0:\n",
    "        continue\n",
    "\n",
    "    DCs += choice\n",
    "\n",
    "cost = eval_DCs(DD, VAL, DCs, len(DCs))\n",
    "print(f\"Total Cost: {cost/1e3:.2f} thousand euros\")\n",
    "print(f\"Number of DCs: {len(DCs)}\")\n",
    "print(DCs)"
   ]
  },
  {
   "cell_type": "code",
   "execution_count": 163,
   "metadata": {},
   "outputs": [
    {
     "ename": "KeyboardInterrupt",
     "evalue": "",
     "output_type": "error",
     "traceback": [
      "\u001b[1;31m---------------------------------------------------------------------------\u001b[0m",
      "\u001b[1;31mKeyboardInterrupt\u001b[0m                         Traceback (most recent call last)",
      "\u001b[1;32mc:\\Users\\guilh\\OneDrive\\1_Documentos\\GitHub\\Aulas-Uni\\Tópicos em Otimização\\Desafio\\01-Easy-v1.ipynb Cell 21\u001b[0m in \u001b[0;36m5\n\u001b[0;32m      <a href='vscode-notebook-cell:/c%3A/Users/guilh/OneDrive/1_Documentos/GitHub/Aulas-Uni/T%C3%B3picos%20em%20Otimiza%C3%A7%C3%A3o/Desafio/01-Easy-v1.ipynb#X15sZmlsZQ%3D%3D?line=1'>2</a>\u001b[0m cost \u001b[39m=\u001b[39m np\u001b[39m.\u001b[39minf\n\u001b[0;32m      <a href='vscode-notebook-cell:/c%3A/Users/guilh/OneDrive/1_Documentos/GitHub/Aulas-Uni/T%C3%B3picos%20em%20Otimiza%C3%A7%C3%A3o/Desafio/01-Easy-v1.ipynb#X15sZmlsZQ%3D%3D?line=3'>4</a>\u001b[0m \u001b[39mfor\u001b[39;00m _ \u001b[39min\u001b[39;00m \u001b[39mrange\u001b[39m(PARAM[\u001b[39m\"\u001b[39m\u001b[39mN\u001b[39m\u001b[39m\"\u001b[39m]\u001b[39m/\u001b[39m\u001b[39m/\u001b[39m\u001b[39m4\u001b[39m):\n\u001b[1;32m----> <a href='vscode-notebook-cell:/c%3A/Users/guilh/OneDrive/1_Documentos/GitHub/Aulas-Uni/T%C3%B3picos%20em%20Otimiza%C3%A7%C3%A3o/Desafio/01-Easy-v1.ipynb#X15sZmlsZQ%3D%3D?line=4'>5</a>\u001b[0m     choice, cost \u001b[39m=\u001b[39m new_multi_DC(NC, DD, VAL, DCs, cost, \u001b[39m4\u001b[39;49m)\n\u001b[0;32m      <a href='vscode-notebook-cell:/c%3A/Users/guilh/OneDrive/1_Documentos/GitHub/Aulas-Uni/T%C3%B3picos%20em%20Otimiza%C3%A7%C3%A3o/Desafio/01-Easy-v1.ipynb#X15sZmlsZQ%3D%3D?line=5'>6</a>\u001b[0m     \u001b[39mif\u001b[39;00m np\u001b[39m.\u001b[39msum(choice) \u001b[39m<\u001b[39m \u001b[39m0\u001b[39m:\n\u001b[0;32m      <a href='vscode-notebook-cell:/c%3A/Users/guilh/OneDrive/1_Documentos/GitHub/Aulas-Uni/T%C3%B3picos%20em%20Otimiza%C3%A7%C3%A3o/Desafio/01-Easy-v1.ipynb#X15sZmlsZQ%3D%3D?line=6'>7</a>\u001b[0m         \u001b[39mcontinue\u001b[39;00m\n",
      "\u001b[1;32mc:\\Users\\guilh\\OneDrive\\1_Documentos\\GitHub\\Aulas-Uni\\Tópicos em Otimização\\Desafio\\01-Easy-v1.ipynb Cell 21\u001b[0m in \u001b[0;36m9\n\u001b[0;32m     <a href='vscode-notebook-cell:/c%3A/Users/guilh/OneDrive/1_Documentos/GitHub/Aulas-Uni/T%C3%B3picos%20em%20Otimiza%C3%A7%C3%A3o/Desafio/01-Easy-v1.ipynb#X15sZmlsZQ%3D%3D?line=93'>94</a>\u001b[0m         \u001b[39mcontinue\u001b[39;00m\n\u001b[0;32m     <a href='vscode-notebook-cell:/c%3A/Users/guilh/OneDrive/1_Documentos/GitHub/Aulas-Uni/T%C3%B3picos%20em%20Otimiza%C3%A7%C3%A3o/Desafio/01-Easy-v1.ipynb#X15sZmlsZQ%3D%3D?line=96'>97</a>\u001b[0m all_DCs \u001b[39m=\u001b[39m DCs\u001b[39m.\u001b[39mcopy() \u001b[39m+\u001b[39m new_DCs\n\u001b[1;32m---> <a href='vscode-notebook-cell:/c%3A/Users/guilh/OneDrive/1_Documentos/GitHub/Aulas-Uni/T%C3%B3picos%20em%20Otimiza%C3%A7%C3%A3o/Desafio/01-Easy-v1.ipynb#X15sZmlsZQ%3D%3D?line=98'>99</a>\u001b[0m cost \u001b[39m=\u001b[39m eval_DCs(DD, VAL, all_DCs, len_DCs \u001b[39m+\u001b[39;49m nDC)\n\u001b[0;32m    <a href='vscode-notebook-cell:/c%3A/Users/guilh/OneDrive/1_Documentos/GitHub/Aulas-Uni/T%C3%B3picos%20em%20Otimiza%C3%A7%C3%A3o/Desafio/01-Easy-v1.ipynb#X15sZmlsZQ%3D%3D?line=100'>101</a>\u001b[0m \u001b[39mif\u001b[39;00m cost \u001b[39m<\u001b[39m min_cost:\n\u001b[0;32m    <a href='vscode-notebook-cell:/c%3A/Users/guilh/OneDrive/1_Documentos/GitHub/Aulas-Uni/T%C3%B3picos%20em%20Otimiza%C3%A7%C3%A3o/Desafio/01-Easy-v1.ipynb#X15sZmlsZQ%3D%3D?line=101'>102</a>\u001b[0m     min_cost \u001b[39m=\u001b[39m cost\n",
      "\u001b[1;32mc:\\Users\\guilh\\OneDrive\\1_Documentos\\GitHub\\Aulas-Uni\\Tópicos em Otimização\\Desafio\\01-Easy-v1.ipynb Cell 21\u001b[0m in \u001b[0;36m3\n\u001b[0;32m     <a href='vscode-notebook-cell:/c%3A/Users/guilh/OneDrive/1_Documentos/GitHub/Aulas-Uni/T%C3%B3picos%20em%20Otimiza%C3%A7%C3%A3o/Desafio/01-Easy-v1.ipynb#X15sZmlsZQ%3D%3D?line=32'>33</a>\u001b[0m \u001b[39m\"\"\"\u001b[39;00m\n\u001b[0;32m     <a href='vscode-notebook-cell:/c%3A/Users/guilh/OneDrive/1_Documentos/GitHub/Aulas-Uni/T%C3%B3picos%20em%20Otimiza%C3%A7%C3%A3o/Desafio/01-Easy-v1.ipynb#X15sZmlsZQ%3D%3D?line=33'>34</a>\u001b[0m \u001b[39m    Given an array of DCs return their total cost\u001b[39;00m\n\u001b[0;32m     <a href='vscode-notebook-cell:/c%3A/Users/guilh/OneDrive/1_Documentos/GitHub/Aulas-Uni/T%C3%B3picos%20em%20Otimiza%C3%A7%C3%A3o/Desafio/01-Easy-v1.ipynb#X15sZmlsZQ%3D%3D?line=34'>35</a>\u001b[0m \u001b[39m\"\"\"\u001b[39;00m\n\u001b[0;32m     <a href='vscode-notebook-cell:/c%3A/Users/guilh/OneDrive/1_Documentos/GitHub/Aulas-Uni/T%C3%B3picos%20em%20Otimiza%C3%A7%C3%A3o/Desafio/01-Easy-v1.ipynb#X15sZmlsZQ%3D%3D?line=35'>36</a>\u001b[0m \u001b[39mglobal\u001b[39;00m PARAM\n\u001b[1;32m---> <a href='vscode-notebook-cell:/c%3A/Users/guilh/OneDrive/1_Documentos/GitHub/Aulas-Uni/T%C3%B3picos%20em%20Otimiza%C3%A7%C3%A3o/Desafio/01-Easy-v1.ipynb#X15sZmlsZQ%3D%3D?line=37'>38</a>\u001b[0m min_dists \u001b[39m=\u001b[39m np\u001b[39m.\u001b[39;49mmin(DD[:, DCs], axis\u001b[39m=\u001b[39;49m\u001b[39m1\u001b[39;49m)\n\u001b[0;32m     <a href='vscode-notebook-cell:/c%3A/Users/guilh/OneDrive/1_Documentos/GitHub/Aulas-Uni/T%C3%B3picos%20em%20Otimiza%C3%A7%C3%A3o/Desafio/01-Easy-v1.ipynb#X15sZmlsZQ%3D%3D?line=38'>39</a>\u001b[0m cost \u001b[39m=\u001b[39m np\u001b[39m.\u001b[39msum(min_dists \u001b[39m*\u001b[39m VAL)\n\u001b[0;32m     <a href='vscode-notebook-cell:/c%3A/Users/guilh/OneDrive/1_Documentos/GitHub/Aulas-Uni/T%C3%B3picos%20em%20Otimiza%C3%A7%C3%A3o/Desafio/01-Easy-v1.ipynb#X15sZmlsZQ%3D%3D?line=39'>40</a>\u001b[0m cost \u001b[39m+\u001b[39m\u001b[39m=\u001b[39m PARAM[\u001b[39m\"\u001b[39m\u001b[39mC\u001b[39m\u001b[39m\"\u001b[39m] \u001b[39m*\u001b[39m (len_DCs \u001b[39m+\u001b[39m \u001b[39m1\u001b[39m)\n",
      "File \u001b[1;32m<__array_function__ internals>:177\u001b[0m, in \u001b[0;36mamin\u001b[1;34m(*args, **kwargs)\u001b[0m\n",
      "\u001b[1;31mKeyboardInterrupt\u001b[0m: "
     ]
    }
   ],
   "source": [
    "DCs = []\n",
    "cost = np.inf\n",
    "\n",
    "for _ in range(PARAM[\"N\"]//4):\n",
    "    choice, cost = new_multi_DC(NC, DD, VAL, DCs, cost, 4)\n",
    "    if np.sum(choice) < 0:\n",
    "        continue\n",
    "\n",
    "    DCs += choice\n",
    "\n",
    "cost = eval_DCs(DD, VAL, DCs, len(DCs))\n",
    "print(f\"Total Cost: {cost/1e3:.2f} thousand euros\")\n",
    "print(f\"Number of DCs: {len(DCs)}\")\n",
    "print(DCs)"
   ]
  }
 ],
 "metadata": {
  "kernelspec": {
   "display_name": "Python 3",
   "language": "python",
   "name": "python3"
  },
  "language_info": {
   "codemirror_mode": {
    "name": "ipython",
    "version": 3
   },
   "file_extension": ".py",
   "mimetype": "text/x-python",
   "name": "python",
   "nbconvert_exporter": "python",
   "pygments_lexer": "ipython3",
   "version": "3.11.0"
  },
  "orig_nbformat": 4
 },
 "nbformat": 4,
 "nbformat_minor": 2
}
