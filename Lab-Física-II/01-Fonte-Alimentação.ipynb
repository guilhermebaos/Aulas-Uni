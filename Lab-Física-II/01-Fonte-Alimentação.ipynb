{
 "cells": [
  {
   "attachments": {},
   "cell_type": "markdown",
   "metadata": {},
   "source": [
    "# Fonte de Alimentação Estabilizada"
   ]
  },
  {
   "attachments": {},
   "cell_type": "markdown",
   "metadata": {},
   "source": [
    "[Ver mais](https://www.notion.so/guilhermebaos/18-Circuitos-com-D-odos-bec037cdcecb4f36a6c0c4d5c225115c?pvs=4#1d22979f33d44f5b87287e51af381d29) - Teoria!"
   ]
  },
  {
   "cell_type": "code",
   "execution_count": 39,
   "metadata": {},
   "outputs": [
    {
     "name": "stdout",
     "output_type": "stream",
     "text": [
      "0.0001 150.0 13.011030172197728\n",
      "0.0001 220.0 10.562039174624818\n",
      "0.0001 470.0 6.2953985937611225\n",
      "0.0001 1000.0 3.4068361959000697\n",
      "0.0001 1500.0 2.385055829156965\n",
      "0.0001 2200.0 1.6831570186719063\n",
      "0.0001 4700.0 0.8243381412386306\n",
      "0.0001 10000.0 0.39770027169525335\n",
      "0.0001 1000000.0 0.004135759441638243\n",
      "0.001 150.0 2.385055829156965\n",
      "0.001 220.0 1.6831570186719063\n",
      "0.001 470.0 0.8243381412386306\n",
      "0.001 1000.0 0.39770027169525335\n",
      "0.001 1500.0 0.2676173314933621\n",
      "0.001 2200.0 0.18370553706295922\n",
      "0.001 4700.0 0.08679813397064251\n",
      "0.001 10000.0 0.04103372658694937\n",
      "0.001 1000000.0 0.0004145180143986238\n"
     ]
    }
   ],
   "source": [
    "import csv\n",
    "import numpy as np\n",
    "\n",
    "# Parâmetros\n",
    "VP = 20.747\n",
    "F = 50\n",
    "\n",
    "RR = np.array([150, 220, 470, 1000, 1500, 2200, 4700, 10000, 1e06])\n",
    "CC = np.array([100e-06, 1000e-06])\n",
    "\n",
    "\n",
    "# Tensão nas placas do condensador caso este descarregue alpha * Tau\n",
    "def est(alpha: float, ftau: float) -> float:\n",
    "    global VP\n",
    "    return VP * np.exp(-alpha/ftau)\n",
    "\n",
    "\n",
    "# Determinar o tempo que o condensador está a descarregar\n",
    "N = 100001\n",
    "\n",
    "aa = np.linspace(0, 1, N)\n",
    "cc = VP * np.cos(2 * np.pi * aa)\n",
    "\n",
    "valores = []\n",
    "for c in CC:\n",
    "    for r in RR:\n",
    "        ftau = F * r * c\n",
    "        ee = est(aa, ftau)\n",
    "        dd = cc - ee\n",
    "\n",
    "        # O condensador carrega se cc >= ee\n",
    "        carga = aa[dd >= 0]\n",
    "\n",
    "        # O tempo de descarga é o tempo entre os momento em que está a carregar\n",
    "        descarga = np.max(np.diff(carga))\n",
    "        valores += [(c, r, VP - est(descarga, ftau))]\n",
    "        print(c, r, VP - est(descarga, ftau))\n",
    "\n",
    "\n",
    "titulos = [\"C/ F\", \"R/ Ohm\", \"V_ripple/ V\"]\n",
    "with open(\"01-Dados.csv\", \"w+\", encoding=\"UTF-8\", newline=\"\") as ficheiro:\n",
    "    writer = csv.writer(ficheiro)\n",
    "\n",
    "    writer.writerow(titulos)\n",
    "    for item in valores:\n",
    "        writer.writerow(item)\n",
    "        "
   ]
  },
  {
   "cell_type": "code",
   "execution_count": null,
   "metadata": {},
   "outputs": [],
   "source": []
  }
 ],
 "metadata": {
  "kernelspec": {
   "display_name": "topicos-em-otimizacao",
   "language": "python",
   "name": "python3"
  },
  "language_info": {
   "codemirror_mode": {
    "name": "ipython",
    "version": 3
   },
   "file_extension": ".py",
   "mimetype": "text/x-python",
   "name": "python",
   "nbconvert_exporter": "python",
   "pygments_lexer": "ipython3",
   "version": "3.11.0"
  },
  "orig_nbformat": 4
 },
 "nbformat": 4,
 "nbformat_minor": 2
}
