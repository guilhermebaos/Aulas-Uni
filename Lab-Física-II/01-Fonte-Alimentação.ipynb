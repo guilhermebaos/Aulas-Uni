{
 "cells": [
  {
   "attachments": {},
   "cell_type": "markdown",
   "metadata": {},
   "source": [
    "# Fonte de Alimentação Estabilizada"
   ]
  },
  {
   "attachments": {},
   "cell_type": "markdown",
   "metadata": {},
   "source": [
    "[Ver mais](https://www.notion.so/guilhermebaos/18-Circuitos-com-D-odos-bec037cdcecb4f36a6c0c4d5c225115c?pvs=4#1d22979f33d44f5b87287e51af381d29) - Teoria!"
   ]
  },
  {
   "cell_type": "code",
   "execution_count": 2,
   "metadata": {},
   "outputs": [
    {
     "name": "stdout",
     "output_type": "stream",
     "text": [
      "(0.0001, 150.0, 13.51136502872113)\n",
      "(0.0001, 220.0, 10.879100335664404)\n",
      "(0.0001, 470.0, 6.396286889297427)\n",
      "(0.0001, 1000.0, 3.43381840639368)\n",
      "(0.0001, 1500.0, 2.397785103887127)\n",
      "(0.0001, 2200.0, 1.6893239792740111)\n",
      "(0.0001, 4700.0, 0.825764289013744)\n",
      "(0.0001, 10000.0, 0.398021316204634)\n",
      "(0.0001, 1000000.0, 0.004136124516044504)\n",
      "(0.001, 150.0, 2.397785103887127)\n",
      "(0.001, 220.0, 1.6893239792740111)\n",
      "(0.001, 470.0, 0.825764289013744)\n",
      "(0.001, 1000.0, 0.398021316204634)\n",
      "(0.001, 1500.0, 0.2677833885056806)\n",
      "(0.001, 2200.0, 0.18378920193548964)\n",
      "(0.001, 4700.0, 0.08681808091501608)\n",
      "(0.001, 10000.0, 0.04103836455931997)\n",
      "(0.001, 1000000.0, 0.0004145209189232446)\n"
     ]
    }
   ],
   "source": [
    "import csv\n",
    "import numpy as np\n",
    "\n",
    "# Parâmetros\n",
    "VP = 20.747\n",
    "F = 50\n",
    "\n",
    "RR = np.array([150, 220, 470, 1000, 1500, 2200, 4700, 10000, 1e06])\n",
    "CC = np.array([100e-06, 1000e-06])\n",
    "\n",
    "\n",
    "# Tensão nas placas do condensador caso este descarregue alpha * Tau\n",
    "def Vc(alpha: float, VMax: float, ftau: float) -> float:\n",
    "    return VMax * np.exp(-alpha/ftau)\n",
    "\n",
    "\n",
    "# Tensão à saída do transformador\n",
    "def Vt(alpha: float) -> float:\n",
    "    global VP\n",
    "\n",
    "    return VP * np.cos(2 * np.pi * alpha)\n",
    "\n",
    "\n",
    "# Determinar o tempo que o condensador está a descarregar\n",
    "N = 10001\n",
    "\n",
    "aa = np.linspace(0, 1, N)\n",
    "cc = Vt(aa)\n",
    "\n",
    "valores = []\n",
    "for c in CC:\n",
    "    for r in RR:\n",
    "        ftau = F * r * c\n",
    "\n",
    "        # O condensador começa a descarregar quando conseguir manter uma tensão superior à tensão de entrada\n",
    "        for index, alpha in enumerate(aa):\n",
    "            step = aa[index+1] - alpha\n",
    "\n",
    "            Vt_1 = Vt(alpha)\n",
    "            Vt_2 = Vt(aa[index+1])\n",
    "\n",
    "            Vc_1 = Vc(0, Vt_1, ftau)\n",
    "            Vc_2 = Vc(step, Vt_1, ftau)\n",
    "\n",
    "            if Vc_2 > Vt_2:\n",
    "                break\n",
    "        alpha0 = alpha\n",
    "\n",
    "        # Carga do condensador quando começa a descarregar\n",
    "        VMax = Vt(alpha0)\n",
    "        ee = Vc((aa-alpha0), VMax, ftau)\n",
    "        dd = cc - ee\n",
    "\n",
    "        # O condensador carrega se cc >= ee\n",
    "        carga = aa[dd >= 0]\n",
    "\n",
    "        # O tempo de descarga é o tempo entre os momentos em que está a carregar\n",
    "        diffcarga = np.diff(carga)\n",
    "        descarga = np.max(diffcarga)\n",
    "\n",
    "        valores += [(c, r, VP - Vc(descarga, VMax, ftau))]\n",
    "        print(valores[-1])\n",
    "\n",
    "\n",
    "titulos = [\"C/ F\", \"R/ Ohm\", \"V_ripple/ V\"]\n",
    "with open(\"01-Dados.csv\", \"w+\", encoding=\"UTF-8\", newline=\"\") as ficheiro:\n",
    "    writer = csv.writer(ficheiro)\n",
    "\n",
    "    writer.writerow(titulos)\n",
    "    for item in valores:\n",
    "        writer.writerow(item)\n",
    "        "
   ]
  },
  {
   "cell_type": "code",
   "execution_count": null,
   "metadata": {},
   "outputs": [],
   "source": []
  }
 ],
 "metadata": {
  "kernelspec": {
   "display_name": "topicos-em-otimizacao",
   "language": "python",
   "name": "python3"
  },
  "language_info": {
   "codemirror_mode": {
    "name": "ipython",
    "version": 3
   },
   "file_extension": ".py",
   "mimetype": "text/x-python",
   "name": "python",
   "nbconvert_exporter": "python",
   "pygments_lexer": "ipython3",
   "version": "3.11.0"
  },
  "orig_nbformat": 4
 },
 "nbformat": 4,
 "nbformat_minor": 2
}
